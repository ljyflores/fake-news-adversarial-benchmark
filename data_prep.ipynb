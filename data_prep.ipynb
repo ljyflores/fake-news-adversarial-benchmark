{
 "cells": [
  {
   "cell_type": "code",
   "execution_count": 1,
   "id": "steady-extension",
   "metadata": {},
   "outputs": [],
   "source": [
    "import pandas as pd"
   ]
  },
  {
   "cell_type": "code",
   "execution_count": 3,
   "id": "consolidated-inquiry",
   "metadata": {},
   "outputs": [],
   "source": [
    "# Read in data\n",
    "df_orig = pd.read_csv(\"FakeNewsDetection/train.csv\")\n",
    "\n",
    "# Find statements with has, is, will, not\n",
    "df = df[df['statement'].str.contains(\" has | is | will | was \")].reset_index(drop=True)\n",
    "df_neg = df.copy()\n",
    "\n",
    "# Index with/without \"not\"\n",
    "not_idx = list(df_neg[df_neg['statement'].str.contains(\" has not | is not | will not | was not \")].index)\n",
    "is_idx = list(set(df.index).difference(set(not_idx)))\n",
    "\n",
    "# Change has to has not, and has not to has (same goes for \"is\",\"will\",\"was\")\n",
    "df_neg.loc[is_idx,'statement'] = df_neg.loc[is_idx,'statement'].apply(lambda x: x.\\\n",
    "                                                                          replace(\" has \",\" has not \").\\\n",
    "                                                                          replace(\" is \",\" is not \").\\\n",
    "                                                                          replace(\" will \",\" will not \").\\\n",
    "                                                                          replace(\" was \",\" was not \"))\n",
    "df_neg.loc[not_idx,'statement'] = df_neg.loc[not_idx,'statement'].apply(lambda x: x.\\\n",
    "                                                                           replace(\" has not \",\" has \").\\\n",
    "                                                                           replace(\" is not \",\" is \").\\\n",
    "                                                                           replace(\" will not \",\" will \").\\\n",
    "                                                                           replace(\" was not \",\" was \"))\n",
    "\n",
    "# Split the text into words\n",
    "df['words'] = df['statement'].apply(lambda x: x.\\\n",
    "                                    replace('?',' ?').\\\n",
    "                                    replace('.',' .').\\\n",
    "                                    lower().split())\n",
    "df_neg['words'] = df_neg['statement'].apply(lambda x: x.\\\n",
    "                                            replace('?',' ?').\\\n",
    "                                            replace('.',' .').\\\n",
    "                                            lower().split())"
   ]
  },
  {
   "cell_type": "code",
   "execution_count": 7,
   "id": "waiting-fellowship",
   "metadata": {},
   "outputs": [],
   "source": [
    "df.to_csv(\"liar_positive.csv\", index=False)\n",
    "df_neg.to_csv(\"liar_negative.csv\", index=False)"
   ]
  }
 ],
 "metadata": {
  "environment": {
   "name": "pytorch-gpu.1-7.m65",
   "type": "gcloud",
   "uri": "gcr.io/deeplearning-platform-release/pytorch-gpu.1-7:m65"
  },
  "kernelspec": {
   "display_name": "Python 3",
   "language": "python",
   "name": "python3"
  },
  "language_info": {
   "codemirror_mode": {
    "name": "ipython",
    "version": 3
   },
   "file_extension": ".py",
   "mimetype": "text/x-python",
   "name": "python",
   "nbconvert_exporter": "python",
   "pygments_lexer": "ipython3",
   "version": "3.7.10"
  }
 },
 "nbformat": 4,
 "nbformat_minor": 5
}
