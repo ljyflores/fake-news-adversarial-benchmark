{
 "cells": [
  {
   "cell_type": "code",
   "execution_count": 1,
   "id": "clean-insulation",
   "metadata": {},
   "outputs": [],
   "source": [
    "import pandas as pd\n",
    "import numpy as np\n",
    "import json, re\n",
    "from tqdm import tqdm_notebook\n",
    "from uuid import uuid4\n",
    "\n",
    "## Torch Modules\n",
    "import torch\n",
    "import torch.optim as optim\n",
    "import torch.nn as nn\n",
    "import torch.nn.functional as F\n",
    "from torch.autograd import Variable\n",
    "from torch.utils.data import Dataset, DataLoader\n",
    "from torch.utils.data import TensorDataset, random_split\n",
    "from torch.utils.data import DataLoader, RandomSampler, SequentialSampler\n",
    "\n",
    "from transformers import get_linear_schedule_with_warmup\n",
    "import numpy as np"
   ]
  },
  {
   "cell_type": "code",
   "execution_count": 2,
   "id": "focused-origin",
   "metadata": {},
   "outputs": [],
   "source": [
    "import pandas as pd\n",
    "import re"
   ]
  },
  {
   "cell_type": "code",
   "execution_count": 3,
   "id": "oriental-senate",
   "metadata": {},
   "outputs": [],
   "source": [
    "# loading pre-trained models\n",
    "from transformers import (\n",
    "    BertForSequenceClassification,\n",
    "                          BertTokenizer,\n",
    "                          RobertaForSequenceClassification,\n",
    "                          RobertaTokenizer,\n",
    "                         AdamW)"
   ]
  },
  {
   "cell_type": "code",
   "execution_count": 4,
   "id": "streaming-continuity",
   "metadata": {},
   "outputs": [],
   "source": [
    "# Target labels\n",
    "label_encodings3 = {\n",
    "    'pants-fire': 0, \n",
    "    'false':      0, \n",
    "    'barely-true':1, \n",
    "    'half-true':  1, \n",
    "    'mostly-true':2,\n",
    "    'true':       2\n",
    "}\n",
    "label_encodings6 = {\n",
    "    'pants-fire': 0, \n",
    "    'false':      1, \n",
    "    'barely-true':2, \n",
    "    'half-true':  3, \n",
    "    'mostly-true':4,\n",
    "    'true':       5\n",
    "}"
   ]
  },
  {
   "cell_type": "code",
   "execution_count": 5,
   "id": "verified-duplicate",
   "metadata": {},
   "outputs": [],
   "source": [
    "def index_remover(tensordata):\n",
    "    input_ids = []\n",
    "    attention_masks = []\n",
    "    labels = []\n",
    "   \n",
    "    for a,b,c,d in tensordata:\n",
    "        input_ids.append(b.tolist())\n",
    "        attention_masks.append(c.tolist())\n",
    "        labels.append(d.tolist())\n",
    "        \n",
    "    input_ids = torch.tensor(input_ids)\n",
    "    attention_masks = torch.tensor(attention_masks)\n",
    "    labels = torch.tensor(labels)\n",
    "    \n",
    "    final_dataset =  TensorDataset(input_ids, attention_masks, labels)\n",
    "    return final_dataset\n",
    "        \n",
    "\n"
   ]
  },
  {
   "cell_type": "code",
   "execution_count": 23,
   "id": "disturbed-ivory",
   "metadata": {},
   "outputs": [
    {
     "name": "stderr",
     "output_type": "stream",
     "text": [
      "Some weights of the model checkpoint at bert-base-uncased were not used when initializing BertForSequenceClassification: ['cls.predictions.bias', 'cls.predictions.transform.dense.weight', 'cls.predictions.transform.dense.bias', 'cls.predictions.decoder.weight', 'cls.seq_relationship.weight', 'cls.seq_relationship.bias', 'cls.predictions.transform.LayerNorm.weight', 'cls.predictions.transform.LayerNorm.bias']\n",
      "- This IS expected if you are initializing BertForSequenceClassification from the checkpoint of a model trained on another task or with another architecture (e.g. initializing a BertForSequenceClassification model from a BertForPreTraining model).\n",
      "- This IS NOT expected if you are initializing BertForSequenceClassification from the checkpoint of a model that you expect to be exactly identical (initializing a BertForSequenceClassification model from a BertForSequenceClassification model).\n",
      "Some weights of BertForSequenceClassification were not initialized from the model checkpoint at bert-base-uncased and are newly initialized: ['classifier.weight', 'classifier.bias']\n",
      "You should probably TRAIN this model on a down-stream task to be able to use it for predictions and inference.\n"
     ]
    }
   ],
   "source": [
    "# Device\n",
    "device = torch.device(\"cpu\")\n",
    "\n",
    "# BERT\n",
    "bert_model = BertForSequenceClassification.from_pretrained(\"bert-base-uncased\", # Use the 12-layer BERT model, with an uncased vocab.\n",
    "                                                           num_labels = 6, # The number of output labels--2 for binary classification.\n",
    "                                                                           # You can increase this for multi-class tasks.\n",
    "                                                           output_attentions = False, # Whether the model returns attentions weights.\n",
    "                                                           output_hidden_states = False # Whether the model returns all hidden-states.\n",
    "                                                          )\n",
    "bert_tokenizer = BertTokenizer.from_pretrained(\"bert-base-uncased\")"
   ]
  },
  {
   "cell_type": "code",
   "execution_count": 24,
   "id": "confidential-morgan",
   "metadata": {},
   "outputs": [],
   "source": [
    "# Read in data\n",
    "\n",
    "df_train = pd.read_csv(\"Data/liar_dataset/train.csv\")\n",
    "df_test = pd.read_csv(\"Data/liar_dataset/test.csv\")\n",
    "df_valid = pd.read_csv(\"Data/liar_dataset/valid.csv\")\n",
    "\n",
    "# df_train = pd.read_csv(\"Data/liar_dataset/aug/train_aug.tsv\", sep='\\t', header=None).drop(0, axis=1)\n",
    "# df_test = pd.read_csv(\"Data/liar_dataset/aug/test_aug.tsv\", sep='\\t', header=None).drop(0, axis=1)\n",
    "# df_valid = pd.read_csv(\"Data/liar_dataset/aug/valid_aug.tsv\", sep='\\t', header=None).drop(0, axis=1)\n",
    "\n",
    "# # Relabel columns\n",
    "# cols = ['ID', 'label', 'statement', 'subject', 'speaker', 'job_title', 'state',\n",
    "#        'party', 'barely_true_count', 'false_count', 'half_true_count',\n",
    "#        'mostly_true_count', 'pants_on_fire_count', 'context']\n",
    "\n",
    "# df_train.columns = cols\n",
    "# df_test.columns = cols\n",
    "# df_valid.columns = cols"
   ]
  },
  {
   "cell_type": "code",
   "execution_count": 25,
   "id": "angry-fleece",
   "metadata": {},
   "outputs": [
    {
     "name": "stderr",
     "output_type": "stream",
     "text": [
      "/opt/conda/lib/python3.7/site-packages/transformers/tokenization_utils_base.py:2074: FutureWarning: The `pad_to_max_length` argument is deprecated and will be removed in a future version, use `padding=True` or `padding='longest'` to pad to the longest sequence in the batch, or use `padding='max_length'` to pad to a max length. In this case, you can give a specific length with `max_length` (e.g. `max_length=45`) or leave max_length to None to pad to the maximal input size of the model (e.g. 512 for Bert).\n",
      "  FutureWarning,\n"
     ]
    }
   ],
   "source": [
    "# Relabel\n",
    "df_train['target'] = df_train['label'].apply(lambda x: label_encodings6[x])\n",
    "df_test['target'] = df_test['label'].apply(lambda x: label_encodings6[x])\n",
    "df_valid['target'] = df_valid['label'].apply(lambda x: label_encodings6[x])\n",
    "\n",
    "# Generate indexed tokens per statement\n",
    "bert_input_ids = []\n",
    "bert_attention_masks = []\n",
    "\n",
    "for sent in df_train['statement']:\n",
    "    bert_encoded_dict = bert_tokenizer.encode_plus(\n",
    "                        sent,                      # Sentence to encode.\n",
    "                        add_special_tokens = True, # Add '[CLS]' and '[SEP]'\n",
    "                        max_length = 120,           # Pad & truncate all sentences.\n",
    "                        pad_to_max_length = True,\n",
    "                        return_attention_mask = True,   # Construct attn. masks.\n",
    "                        return_tensors = 'pt',     # Return pytorch tensors.\n",
    "                        truncation = True\n",
    "                   )\n",
    "    bert_input_ids.append(bert_encoded_dict['input_ids'])\n",
    "    bert_attention_masks.append(bert_encoded_dict['attention_mask'])\n",
    "    \n",
    "# Convert the lists into tensors.\n",
    "bert_input_ids = torch.cat(bert_input_ids, dim=0)\n",
    "bert_attention_masks = torch.cat(bert_attention_masks, dim=0)\n",
    "\n",
    "# Get targets\n",
    "labels = torch.tensor(df_train['target'])\n",
    "sentence_ids = torch.tensor(range(df_train.shape[0]))\n",
    "\n",
    "# function to seed the script globally\n",
    "torch.manual_seed(0)\n",
    "\n",
    "# Combine the training inputs into a TensorDataset.\n",
    "bert_dataset = TensorDataset(sentence_ids, bert_input_ids, bert_attention_masks, labels)\n",
    "\n",
    "# Remove indices\n",
    "trial_dataset =  index_remover(bert_dataset)"
   ]
  },
  {
   "cell_type": "code",
   "execution_count": 26,
   "id": "statutory-height",
   "metadata": {},
   "outputs": [],
   "source": [
    "# Train/Test Split\n",
    "\n",
    "# Calculate the number of samples to include in each set.\n",
    "train_size = int(0.9 * len(bert_dataset))\n",
    "val_size = len(bert_dataset) - train_size\n",
    "\n",
    "# Divide the dataset by randomly selecting samples.\n",
    "bert_train_dataset, bert_val_dataset = random_split(bert_dataset, [train_size, val_size])\n",
    "\n",
    "# removing sentence ids from tensor dataset so that it can be used for training \n",
    "bert_train_dataset = index_remover(bert_train_dataset)\n",
    "bert_val_dataset = index_remover(bert_val_dataset)\n"
   ]
  },
  {
   "cell_type": "code",
   "execution_count": 27,
   "id": "polyphonic-concrete",
   "metadata": {},
   "outputs": [],
   "source": [
    "# Dataloader\n",
    "batch_size = 32\n",
    "\n",
    "# Create the DataLoaders for our training and validation sets.\n",
    "# We'll take training samples in random order. \n",
    "bert_train_dataloader = DataLoader(\n",
    "            bert_train_dataset,  # The training samples.\n",
    "            sampler = RandomSampler(bert_train_dataset), # Select batches randomly\n",
    "            batch_size = batch_size # Trains with this batch size.\n",
    "        )\n",
    "\n",
    "# For validation the order doesn't matter, so we'll just read them sequentially.\n",
    "bert_validation_dataloader = DataLoader(\n",
    "            bert_val_dataset, # The validation samples.\n",
    "            sampler = SequentialSampler(bert_val_dataset), # Pull out batches sequentially.\n",
    "            batch_size = batch_size # Evaluate with this batch size.\n",
    "        )"
   ]
  },
  {
   "cell_type": "code",
   "execution_count": 28,
   "id": "available-coffee",
   "metadata": {},
   "outputs": [],
   "source": [
    "# Optimizer\n",
    "bert_optimizer = AdamW(bert_model.parameters(),\n",
    "                  lr = 5e-5, # args.learning_rate - default is 5e-5\n",
    "                  eps = 1e-8 # args.adam_epsilon  - default is 1e-8.\n",
    "                )\n",
    "\n",
    "# Epochs & Learning Rate\n",
    "epochs = 2\n",
    "total_steps = len(bert_train_dataloader) * epochs\n",
    "\n",
    "# Create the learning rate scheduler.\n",
    "bert_scheduler = get_linear_schedule_with_warmup(bert_optimizer, \n",
    "                                            num_warmup_steps = 0, # Default value in run_glue.py\n",
    "                                            num_training_steps = total_steps)"
   ]
  },
  {
   "cell_type": "code",
   "execution_count": 29,
   "id": "second-amazon",
   "metadata": {},
   "outputs": [],
   "source": [
    "import time\n",
    "import datetime\n",
    "import random\n",
    "\n",
    "# Function to calculate the accuracy of our predictions vs labels\n",
    "def flat_accuracy(preds, labels):\n",
    "    pred_flat = np.argmax(preds, axis=1).flatten()\n",
    "    labels_flat = labels.flatten()\n",
    "    return np.sum(pred_flat == labels_flat) / len(labels_flat)\n",
    "\n",
    "def format_time(elapsed):\n",
    "    '''\n",
    "    Takes a time in seconds and returns a string hh:mm:ss\n",
    "    '''\n",
    "    # Round to the nearest second.\n",
    "    elapsed_rounded = int(round((elapsed)))\n",
    "    \n",
    "    # Format as hh:mm:ss\n",
    "    return str(datetime.timedelta(seconds=elapsed_rounded))"
   ]
  },
  {
   "cell_type": "code",
   "execution_count": 30,
   "id": "peaceful-fashion",
   "metadata": {},
   "outputs": [
    {
     "name": "stdout",
     "output_type": "stream",
     "text": [
      "======== Epoch 1 / 2 ========\n",
      "Training...\n",
      "  Batch    40  of    288.    Elapsed: 0:05:39.\n",
      "  Batch    80  of    288.    Elapsed: 0:11:16.\n",
      "  Batch   120  of    288.    Elapsed: 0:16:50.\n",
      "  Batch   160  of    288.    Elapsed: 0:22:36.\n",
      "  Batch   200  of    288.    Elapsed: 0:28:11.\n",
      "  Batch   240  of    288.    Elapsed: 0:33:52.\n",
      "  Batch   280  of    288.    Elapsed: 0:39:43.\n",
      "\n",
      "  Average training loss: 1.73\n",
      "  Training epcoh took: 0:41:06\n",
      "\n",
      "Running Validation...\n",
      "  Accuracy: 0.29\n",
      "  Validation Loss: 1.67\n",
      "  Validation took: 0:01:42\n",
      "======== Epoch 2 / 2 ========\n",
      "Training...\n",
      "  Batch    40  of    288.    Elapsed: 0:06:52.\n",
      "  Batch    80  of    288.    Elapsed: 0:13:45.\n",
      "  Batch   120  of    288.    Elapsed: 0:20:36.\n",
      "  Batch   160  of    288.    Elapsed: 0:27:27.\n",
      "  Batch   200  of    288.    Elapsed: 0:34:18.\n",
      "  Batch   240  of    288.    Elapsed: 0:41:21.\n",
      "  Batch   280  of    288.    Elapsed: 0:47:52.\n",
      "\n",
      "  Average training loss: 1.58\n",
      "  Training epcoh took: 0:49:00\n",
      "\n",
      "Running Validation...\n",
      "  Accuracy: 0.28\n",
      "  Validation Loss: 1.66\n",
      "  Validation took: 0:01:29\n",
      "\n",
      "Training complete!\n",
      "Total training took 1:33:17 (h:mm:ss)\n"
     ]
    }
   ],
   "source": [
    "# This training code is based on the `run_glue.py` script here:\n",
    "# https://github.com/huggingface/transformers/blob/5bfcd0485ece086ebcbed2d008813037968a9e58/examples/run_glue.py#L128\n",
    "\n",
    "# Set the seed value all over the place to make this reproducible.\n",
    "seed_val = 100\n",
    "\n",
    "random.seed(seed_val)\n",
    "np.random.seed(seed_val)\n",
    "torch.manual_seed(seed_val)\n",
    "torch.cuda.manual_seed_all(seed_val)\n",
    "\n",
    "# We'll store a number of quantities such as training and validation loss, \n",
    "# validation accuracy, and timings.\n",
    "bert_training_stats = []\n",
    "\n",
    "# Measure the total training time for the whole run.\n",
    "total_t0 = time.time()\n",
    "\n",
    "# For each epoch...\n",
    "for epoch_i in range(0, epochs):\n",
    "    \n",
    "    print('======== Epoch {:} / {:} ========'.format(epoch_i + 1, epochs))\n",
    "    print('Training...')\n",
    "\n",
    "    # Measure how long the training epoch takes.\n",
    "    t0 = time.time()\n",
    "\n",
    "    # Reset the total loss for this epoch.\n",
    "    total_train_loss = 0\n",
    "\n",
    "    # Put the bert_model into training mode. Don't be mislead--the call to \n",
    "    # `train` just changes the *mode*, it doesn't *perform* the training.\n",
    "    # `dropout` and `batchnorm` layers behave differently during training\n",
    "    # vs. test (source: https://stackoverflow.com/questions/51433378/what-does-bert_model-train-do-in-pytorch)\n",
    "    bert_model.train()\n",
    "\n",
    "    # For each batch of training data...\n",
    "    for step, batch in enumerate(bert_train_dataloader):\n",
    "\n",
    "        # Progress update every 40 batches.\n",
    "        if step % 40 == 0 and not step == 0:\n",
    "            elapsed = format_time(time.time() - t0)\n",
    "            print('  Batch {:>5,}  of  {:>5,}.    Elapsed: {:}.'.format(step, len(bert_train_dataloader), elapsed))\n",
    "\n",
    "        # Unpack batch\n",
    "        b_input_ids = batch[0].to(device)\n",
    "        b_input_mask = batch[1].to(device)\n",
    "        b_labels = batch[2].to(device)\n",
    "\n",
    "        # Zero grads\n",
    "        bert_model.zero_grad()        \n",
    "\n",
    "        # Forward pass\n",
    "        output = bert_model(b_input_ids, \n",
    "                             token_type_ids=None, \n",
    "                             attention_mask=b_input_mask, \n",
    "                             labels=b_labels)\n",
    "        # Accumulate loss\n",
    "        total_train_loss += output[0].item()\n",
    "\n",
    "        # Backward pass\n",
    "        output[0].backward()\n",
    "\n",
    "        # Clip the norm of the gradients to 1.0.\n",
    "        # This is to help prevent the \"exploding gradients\" problem.\n",
    "        torch.nn.utils.clip_grad_norm_(bert_model.parameters(), 1.0)\n",
    "\n",
    "        # Update parameters and take a step using the computed gradient.\n",
    "        # The bert_optimizer dictates the \"update rule\"--how the parameters are\n",
    "        # modified based on their gradients, the learning rate, etc.\n",
    "        bert_optimizer.step()\n",
    "\n",
    "        # Update the learning rate.\n",
    "        bert_scheduler.step()\n",
    "\n",
    "    # Calculate the average loss over all of the batches.\n",
    "    avg_train_loss = total_train_loss / len(bert_train_dataloader)            \n",
    "    \n",
    "    # Measure how long this epoch took.\n",
    "    training_time = format_time(time.time() - t0)\n",
    "\n",
    "    print(\"\")\n",
    "    print(\"  Average training loss: {0:.2f}\".format(avg_train_loss))\n",
    "    print(\"  Training epcoh took: {:}\".format(training_time))\n",
    "        \n",
    "    # ========================================\n",
    "    #               Validation\n",
    "    # ========================================\n",
    "    # After the completion of each training epoch, measure our performance on\n",
    "    # our validation set.\n",
    "\n",
    "    print(\"\")\n",
    "    print(\"Running Validation...\")\n",
    "\n",
    "    t0 = time.time()\n",
    "\n",
    "    # Put the bert_model in evaluation mode--the dropout layers behave differently\n",
    "    # during evaluation.\n",
    "    bert_model.eval()\n",
    "\n",
    "    # Tracking variables \n",
    "    total_eval_accuracy = 0\n",
    "    total_eval_loss = 0\n",
    "    nb_eval_steps = 0\n",
    "\n",
    "    # Evaluate data for one epoch\n",
    "    for batch in bert_validation_dataloader:\n",
    "\n",
    "        b_input_ids = batch[0].to(device)\n",
    "        b_input_mask = batch[1].to(device)\n",
    "        b_labels = batch[2].to(device)\n",
    "        \n",
    "        with torch.no_grad():        \n",
    "            outputs = bert_model(b_input_ids, \n",
    "                                   token_type_ids=None, \n",
    "                                   attention_mask=b_input_mask,\n",
    "                                   labels=b_labels)\n",
    "            \n",
    "        total_eval_loss += outputs[0].item()\n",
    "\n",
    "        # Move logits and labels to CPU\n",
    "        logits = outputs[1].detach().cpu().numpy()\n",
    "        label_ids = b_labels.to('cpu').numpy()\n",
    "\n",
    "        # Calculate the accuracy for this batch of test sentences, and\n",
    "        # accumulate it over all batches.\n",
    "        total_eval_accuracy += flat_accuracy(logits, label_ids)\n",
    "        \n",
    "\n",
    "    # Report the final accuracy for this validation run.\n",
    "    avg_val_accuracy = total_eval_accuracy / len(bert_validation_dataloader)\n",
    "    print(\"  Accuracy: {0:.2f}\".format(avg_val_accuracy))\n",
    "\n",
    "    # Calculate the average loss over all of the batches.\n",
    "    avg_val_loss = total_eval_loss / len(bert_validation_dataloader)\n",
    "    \n",
    "    # Measure how long the validation run took.\n",
    "    validation_time = format_time(time.time() - t0)\n",
    "    \n",
    "    print(\"  Validation Loss: {0:.2f}\".format(avg_val_loss))\n",
    "    print(\"  Validation took: {:}\".format(validation_time))\n",
    "\n",
    "    # Record all statistics from this epoch.\n",
    "    bert_training_stats.append(\n",
    "        {\n",
    "            'epoch': epoch_i + 1,\n",
    "            'Training Loss': avg_train_loss,\n",
    "            'Valid. Loss': avg_val_loss,\n",
    "            'Valid. Accur.': avg_val_accuracy,\n",
    "            'Training Time': training_time,\n",
    "            'Validation Time': validation_time\n",
    "        }\n",
    "    )\n",
    "\n",
    "print(\"\")\n",
    "print(\"Training complete!\")\n",
    "\n",
    "print(\"Total training took {:} (h:mm:ss)\".format(format_time(time.time()-total_t0)))"
   ]
  },
  {
   "cell_type": "markdown",
   "id": "competent-klein",
   "metadata": {},
   "source": [
    "### Validation & Reporting Accuracy"
   ]
  },
  {
   "cell_type": "code",
   "execution_count": 31,
   "id": "brutal-portland",
   "metadata": {},
   "outputs": [],
   "source": [
    "# Encode the test set\n",
    "bert_input_ids_test = []\n",
    "bert_attention_masks_test = []\n",
    "\n",
    "for sent in df_test['statement']:\n",
    "    bert_encoded_dict = bert_tokenizer.encode_plus(\n",
    "                        sent,                      # Sentence to encode.\n",
    "                        add_special_tokens = True, # Add '[CLS]' and '[SEP]'\n",
    "                        max_length = 120,           # Pad & truncate all sentences.\n",
    "                        pad_to_max_length = True,\n",
    "                        return_attention_mask = True,   # Construct attn. masks.\n",
    "                        return_tensors = 'pt',     # Return pytorch tensors.\n",
    "                        truncation = True\n",
    "                   )\n",
    "    bert_input_ids_test.append(bert_encoded_dict['input_ids'])\n",
    "    bert_attention_masks_test.append(bert_encoded_dict['attention_mask'])\n",
    "    \n",
    "# Convert the lists into tensors.\n",
    "bert_input_ids_test = torch.cat(bert_input_ids_test, dim=0)\n",
    "bert_attention_masks_test = torch.cat(bert_attention_masks_test, dim=0)\n",
    "\n",
    "# Get labels\n",
    "bert_labels_test = torch.tensor(df_test['target'])"
   ]
  },
  {
   "cell_type": "code",
   "execution_count": 32,
   "id": "perfect-partition",
   "metadata": {},
   "outputs": [],
   "source": [
    "# Encode the validation set\n",
    "bert_input_ids_valid = []\n",
    "bert_attention_masks_valid = []\n",
    "\n",
    "for sent in df_valid['statement']:\n",
    "    bert_encoded_dict = bert_tokenizer.encode_plus(\n",
    "                        sent,                      # Sentence to encode.\n",
    "                        add_special_tokens = True, # Add '[CLS]' and '[SEP]'\n",
    "                        max_length = 120,           # Pad & truncate all sentences.\n",
    "                        pad_to_max_length = True,\n",
    "                        return_attention_mask = True,   # Construct attn. masks.\n",
    "                        return_tensors = 'pt',     # Return pytorch tensors.\n",
    "                        truncation = True\n",
    "                   )\n",
    "    bert_input_ids_valid.append(bert_encoded_dict['input_ids'])\n",
    "    bert_attention_masks_valid.append(bert_encoded_dict['attention_mask'])\n",
    "    \n",
    "# Convert the lists into tensors.\n",
    "bert_input_ids_valid = torch.cat(bert_input_ids_valid, dim=0)\n",
    "bert_attention_masks_valid = torch.cat(bert_attention_masks_valid, dim=0)\n",
    "\n",
    "# Get labels\n",
    "bert_labels_valid = torch.tensor(df_valid['target'])"
   ]
  },
  {
   "cell_type": "code",
   "execution_count": 33,
   "id": "dominican-princeton",
   "metadata": {},
   "outputs": [],
   "source": [
    "# Run the inputs through the model\n",
    "with torch.no_grad():\n",
    "    outputs_test = bert_model(bert_input_ids_test,\n",
    "                              token_type_ids=None, \n",
    "                              attention_mask=bert_attention_masks_test,\n",
    "                              labels=bert_labels_test)\n",
    "    outputs_valid = bert_model(bert_input_ids_valid,\n",
    "                               token_type_ids=None, \n",
    "                               attention_mask=bert_attention_masks_valid,\n",
    "                               labels=bert_labels_valid)"
   ]
  },
  {
   "cell_type": "code",
   "execution_count": 34,
   "id": "configured-drinking",
   "metadata": {},
   "outputs": [],
   "source": [
    "# Augmented Dataset, Test & Validation Reporting Functions\n",
    "def get_first_idx(lst):\n",
    "    latest_idx = [0]\n",
    "    latest = lst[0]\n",
    "    for i in range(1,len(lst)):\n",
    "        if lst[i]!=latest:\n",
    "            latest_idx.append(i)\n",
    "            latest = lst[i]\n",
    "    return latest_idx"
   ]
  },
  {
   "cell_type": "code",
   "execution_count": 35,
   "id": "sharing-david",
   "metadata": {},
   "outputs": [
    {
     "data": {
      "text/plain": [
       "0.2833464877663773"
      ]
     },
     "execution_count": 35,
     "metadata": {},
     "output_type": "execute_result"
    }
   ],
   "source": [
    "np.mean([a==b for a,b in zip(np.argmax(outputs_test[1].detach().cpu().numpy()[get_first_idx(df_test['ID'])], axis=1), \n",
    "                             bert_labels_test.detach().numpy()[get_first_idx(df_test['ID'])])])"
   ]
  },
  {
   "cell_type": "code",
   "execution_count": 36,
   "id": "disturbed-installation",
   "metadata": {},
   "outputs": [
    {
     "data": {
      "text/plain": [
       "0.26713395638629284"
      ]
     },
     "execution_count": 36,
     "metadata": {},
     "output_type": "execute_result"
    }
   ],
   "source": [
    "np.mean([a==b for a,b in zip(np.argmax(outputs_valid[1].detach().cpu().numpy()[get_first_idx(df_valid['ID'])], axis=1), \n",
    "                             bert_labels_valid.detach().numpy()[get_first_idx(df_valid['ID'])])])"
   ]
  },
  {
   "cell_type": "code",
   "execution_count": 37,
   "id": "general-deployment",
   "metadata": {},
   "outputs": [
    {
     "name": "stdout",
     "output_type": "stream",
     "text": [
      "[[ 22  23   7   4   2   3]\n",
      " [ 46  76  40  39  32  15]\n",
      " [  8  27  30  24  17   6]\n",
      " [ 27  74 101 111  78  53]\n",
      " [  5  32  41  43  67  55]\n",
      " [  8  31  18  27  55  37]]\n"
     ]
    },
    {
     "data": {
      "text/plain": [
       "<AxesSubplot:>"
      ]
     },
     "execution_count": 37,
     "metadata": {},
     "output_type": "execute_result"
    },
    {
     "data": {
      "image/png": "[encoded data removed]",
      "text/plain": [
       "<Figure size 432x288 with 2 Axes>"
      ]
     },
     "metadata": {
      "needs_background": "light"
     },
     "output_type": "display_data"
    }
   ],
   "source": [
    "import matplotlib.pyplot as plt  \n",
    "from sklearn.metrics import confusion_matrix\n",
    "cf_matrix = confusion_matrix(np.argmax(outputs_valid[1].detach().cpu().numpy(), axis=1), \n",
    "                             bert_labels_valid.detach().numpy())\n",
    "print(cf_matrix)\n",
    "\n",
    "import seaborn as sns\n",
    "sns.heatmap(cf_matrix, annot=True)"
   ]
  },
  {
   "cell_type": "code",
   "execution_count": 38,
   "id": "julian-rally",
   "metadata": {},
   "outputs": [],
   "source": [
    "import pickle\n",
    "with open('huggingface_bert_model6.data', 'wb') as filehandle:\n",
    "    pickle.dump(bert_training_stats, filehandle)\n",
    "    \n",
    "torch.save(bert_model.state_dict(), \"huggingface_bert6.pt\")"
   ]
  },
  {
   "cell_type": "code",
   "execution_count": null,
   "id": "personalized-mediterranean",
   "metadata": {},
   "outputs": [],
   "source": []
  }
 ],
 "metadata": {
  "environment": {
   "name": "pytorch-gpu.1-7.m65",
   "type": "gcloud",
   "uri": "gcr.io/deeplearning-platform-release/pytorch-gpu.1-7:m65"
  },
  "kernelspec": {
   "display_name": "Python 3",
   "language": "python",
   "name": "python3"
  },
  "language_info": {
   "codemirror_mode": {
    "name": "ipython",
    "version": 3
   },
   "file_extension": ".py",
   "mimetype": "text/x-python",
   "name": "python",
   "nbconvert_exporter": "python",
   "pygments_lexer": "ipython3",
   "version": "3.7.10"
  }
 },
 "nbformat": 4,
 "nbformat_minor": 5
}
