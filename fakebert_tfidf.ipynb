{
  "nbformat": 4,
  "nbformat_minor": 0,
  "metadata": {
    "colab": {
      "name": "fakebert_tfidf.ipynb",
      "provenance": [],
      "collapsed_sections": []
    },
    "kernelspec": {
      "name": "python3",
      "display_name": "Python 3"
    },
    "language_info": {
      "name": "python"
    },
    "accelerator": "GPU",
    "widgets": {
      "application/vnd.jupyter.widget-state+json": {
        "430cc53c72184510a94fea573ae4e2f6": {
          "model_module": "@jupyter-widgets/controls",
          "model_name": "HBoxModel",
          "model_module_version": "1.5.0",
          "state": {
            "_view_name": "HBoxView",
            "_dom_classes": [],
            "_model_name": "HBoxModel",
            "_view_module": "@jupyter-widgets/controls",
            "_model_module_version": "1.5.0",
            "_view_count": null,
            "_view_module_version": "1.5.0",
            "box_style": "",
            "layout": "IPY_MODEL_7572829e09184daa8ce1aa5571365fcb",
            "_model_module": "@jupyter-widgets/controls",
            "children": [
              "IPY_MODEL_bfb28529d5c74974b9cb99b548a34c8a",
              "IPY_MODEL_9081c24992184e71a23bd7c39c95e5a3",
              "IPY_MODEL_73c68864556c4290baeb637ec1e0044c"
            ]
          }
        },
        "7572829e09184daa8ce1aa5571365fcb": {
          "model_module": "@jupyter-widgets/base",
          "model_name": "LayoutModel",
          "model_module_version": "1.2.0",
          "state": {
            "_view_name": "LayoutView",
            "grid_template_rows": null,
            "right": null,
            "justify_content": null,
            "_view_module": "@jupyter-widgets/base",
            "overflow": null,
            "_model_module_version": "1.2.0",
            "_view_count": null,
            "flex_flow": null,
            "width": null,
            "min_width": null,
            "border": null,
            "align_items": null,
            "bottom": null,
            "_model_module": "@jupyter-widgets/base",
            "top": null,
            "grid_column": null,
            "overflow_y": null,
            "overflow_x": null,
            "grid_auto_flow": null,
            "grid_area": null,
            "grid_template_columns": null,
            "flex": null,
            "_model_name": "LayoutModel",
            "justify_items": null,
            "grid_row": null,
            "max_height": null,
            "align_content": null,
            "visibility": null,
            "align_self": null,
            "height": null,
            "min_height": null,
            "padding": null,
            "grid_auto_rows": null,
            "grid_gap": null,
            "max_width": null,
            "order": null,
            "_view_module_version": "1.2.0",
            "grid_template_areas": null,
            "object_position": null,
            "object_fit": null,
            "grid_auto_columns": null,
            "margin": null,
            "display": null,
            "left": null
          }
        },
        "bfb28529d5c74974b9cb99b548a34c8a": {
          "model_module": "@jupyter-widgets/controls",
          "model_name": "HTMLModel",
          "model_module_version": "1.5.0",
          "state": {
            "_view_name": "HTMLView",
            "style": "IPY_MODEL_db7a0ee3674740f78bf915f837936f4f",
            "_dom_classes": [],
            "description": "",
            "_model_name": "HTMLModel",
            "placeholder": "​",
            "_view_module": "@jupyter-widgets/controls",
            "_model_module_version": "1.5.0",
            "value": "Downloading: 100%",
            "_view_count": null,
            "_view_module_version": "1.5.0",
            "description_tooltip": null,
            "_model_module": "@jupyter-widgets/controls",
            "layout": "IPY_MODEL_040e23893c5a4366ad5a09fcb29bc504"
          }
        },
        "9081c24992184e71a23bd7c39c95e5a3": {
          "model_module": "@jupyter-widgets/controls",
          "model_name": "FloatProgressModel",
          "model_module_version": "1.5.0",
          "state": {
            "_view_name": "ProgressView",
            "style": "IPY_MODEL_df108a48381a4c27bcdc74b0571ec1bd",
            "_dom_classes": [],
            "description": "",
            "_model_name": "FloatProgressModel",
            "bar_style": "success",
            "max": 231508,
            "_view_module": "@jupyter-widgets/controls",
            "_model_module_version": "1.5.0",
            "value": 231508,
            "_view_count": null,
            "_view_module_version": "1.5.0",
            "orientation": "horizontal",
            "min": 0,
            "description_tooltip": null,
            "_model_module": "@jupyter-widgets/controls",
            "layout": "IPY_MODEL_7d226383dd5b4677932cb5e25e4ec5ba"
          }
        },
        "73c68864556c4290baeb637ec1e0044c": {
          "model_module": "@jupyter-widgets/controls",
          "model_name": "HTMLModel",
          "model_module_version": "1.5.0",
          "state": {
            "_view_name": "HTMLView",
            "style": "IPY_MODEL_6755d0a456f645118a9110436a879af8",
            "_dom_classes": [],
            "description": "",
            "_model_name": "HTMLModel",
            "placeholder": "​",
            "_view_module": "@jupyter-widgets/controls",
            "_model_module_version": "1.5.0",
            "value": " 226k/226k [00:00&lt;00:00, 1.01MB/s]",
            "_view_count": null,
            "_view_module_version": "1.5.0",
            "description_tooltip": null,
            "_model_module": "@jupyter-widgets/controls",
            "layout": "IPY_MODEL_9cd94f2b48c046a4b9c663d4a3f57210"
          }
        },
        "db7a0ee3674740f78bf915f837936f4f": {
          "model_module": "@jupyter-widgets/controls",
          "model_name": "DescriptionStyleModel",
          "model_module_version": "1.5.0",
          "state": {
            "_view_name": "StyleView",
            "_model_name": "DescriptionStyleModel",
            "description_width": "",
            "_view_module": "@jupyter-widgets/base",
            "_model_module_version": "1.5.0",
            "_view_count": null,
            "_view_module_version": "1.2.0",
            "_model_module": "@jupyter-widgets/controls"
          }
        },
        "040e23893c5a4366ad5a09fcb29bc504": {
          "model_module": "@jupyter-widgets/base",
          "model_name": "LayoutModel",
          "model_module_version": "1.2.0",
          "state": {
            "_view_name": "LayoutView",
            "grid_template_rows": null,
            "right": null,
            "justify_content": null,
            "_view_module": "@jupyter-widgets/base",
            "overflow": null,
            "_model_module_version": "1.2.0",
            "_view_count": null,
            "flex_flow": null,
            "width": null,
            "min_width": null,
            "border": null,
            "align_items": null,
            "bottom": null,
            "_model_module": "@jupyter-widgets/base",
            "top": null,
            "grid_column": null,
            "overflow_y": null,
            "overflow_x": null,
            "grid_auto_flow": null,
            "grid_area": null,
            "grid_template_columns": null,
            "flex": null,
            "_model_name": "LayoutModel",
            "justify_items": null,
            "grid_row": null,
            "max_height": null,
            "align_content": null,
            "visibility": null,
            "align_self": null,
            "height": null,
            "min_height": null,
            "padding": null,
            "grid_auto_rows": null,
            "grid_gap": null,
            "max_width": null,
            "order": null,
            "_view_module_version": "1.2.0",
            "grid_template_areas": null,
            "object_position": null,
            "object_fit": null,
            "grid_auto_columns": null,
            "margin": null,
            "display": null,
            "left": null
          }
        },
        "df108a48381a4c27bcdc74b0571ec1bd": {
          "model_module": "@jupyter-widgets/controls",
          "model_name": "ProgressStyleModel",
          "model_module_version": "1.5.0",
          "state": {
            "_view_name": "StyleView",
            "_model_name": "ProgressStyleModel",
            "description_width": "",
            "_view_module": "@jupyter-widgets/base",
            "_model_module_version": "1.5.0",
            "_view_count": null,
            "_view_module_version": "1.2.0",
            "bar_color": null,
            "_model_module": "@jupyter-widgets/controls"
          }
        },
        "7d226383dd5b4677932cb5e25e4ec5ba": {
          "model_module": "@jupyter-widgets/base",
          "model_name": "LayoutModel",
          "model_module_version": "1.2.0",
          "state": {
            "_view_name": "LayoutView",
            "grid_template_rows": null,
            "right": null,
            "justify_content": null,
            "_view_module": "@jupyter-widgets/base",
            "overflow": null,
            "_model_module_version": "1.2.0",
            "_view_count": null,
            "flex_flow": null,
            "width": null,
            "min_width": null,
            "border": null,
            "align_items": null,
            "bottom": null,
            "_model_module": "@jupyter-widgets/base",
            "top": null,
            "grid_column": null,
            "overflow_y": null,
            "overflow_x": null,
            "grid_auto_flow": null,
            "grid_area": null,
            "grid_template_columns": null,
            "flex": null,
            "_model_name": "LayoutModel",
            "justify_items": null,
            "grid_row": null,
            "max_height": null,
            "align_content": null,
            "visibility": null,
            "align_self": null,
            "height": null,
            "min_height": null,
            "padding": null,
            "grid_auto_rows": null,
            "grid_gap": null,
            "max_width": null,
            "order": null,
            "_view_module_version": "1.2.0",
            "grid_template_areas": null,
            "object_position": null,
            "object_fit": null,
            "grid_auto_columns": null,
            "margin": null,
            "display": null,
            "left": null
          }
        },
        "6755d0a456f645118a9110436a879af8": {
          "model_module": "@jupyter-widgets/controls",
          "model_name": "DescriptionStyleModel",
          "model_module_version": "1.5.0",
          "state": {
            "_view_name": "StyleView",
            "_model_name": "DescriptionStyleModel",
            "description_width": "",
            "_view_module": "@jupyter-widgets/base",
            "_model_module_version": "1.5.0",
            "_view_count": null,
            "_view_module_version": "1.2.0",
            "_model_module": "@jupyter-widgets/controls"
          }
        },
        "9cd94f2b48c046a4b9c663d4a3f57210": {
          "model_module": "@jupyter-widgets/base",
          "model_name": "LayoutModel",
          "model_module_version": "1.2.0",
          "state": {
            "_view_name": "LayoutView",
            "grid_template_rows": null,
            "right": null,
            "justify_content": null,
            "_view_module": "@jupyter-widgets/base",
            "overflow": null,
            "_model_module_version": "1.2.0",
            "_view_count": null,
            "flex_flow": null,
            "width": null,
            "min_width": null,
            "border": null,
            "align_items": null,
            "bottom": null,
            "_model_module": "@jupyter-widgets/base",
            "top": null,
            "grid_column": null,
            "overflow_y": null,
            "overflow_x": null,
            "grid_auto_flow": null,
            "grid_area": null,
            "grid_template_columns": null,
            "flex": null,
            "_model_name": "LayoutModel",
            "justify_items": null,
            "grid_row": null,
            "max_height": null,
            "align_content": null,
            "visibility": null,
            "align_self": null,
            "height": null,
            "min_height": null,
            "padding": null,
            "grid_auto_rows": null,
            "grid_gap": null,
            "max_width": null,
            "order": null,
            "_view_module_version": "1.2.0",
            "grid_template_areas": null,
            "object_position": null,
            "object_fit": null,
            "grid_auto_columns": null,
            "margin": null,
            "display": null,
            "left": null
          }
        },
        "75603100ebbf4452b9c41de9f213b65e": {
          "model_module": "@jupyter-widgets/controls",
          "model_name": "HBoxModel",
          "model_module_version": "1.5.0",
          "state": {
            "_view_name": "HBoxView",
            "_dom_classes": [],
            "_model_name": "HBoxModel",
            "_view_module": "@jupyter-widgets/controls",
            "_model_module_version": "1.5.0",
            "_view_count": null,
            "_view_module_version": "1.5.0",
            "box_style": "",
            "layout": "IPY_MODEL_02035a5cc4924b858b8b8568cb288a88",
            "_model_module": "@jupyter-widgets/controls",
            "children": [
              "IPY_MODEL_3ab35f98e47044b49d82962f9ec11626",
              "IPY_MODEL_e8df5bbd96f640d789e45a12c8e5a6f7",
              "IPY_MODEL_ae66f39a392d448e8ab29c3a2f5d49d5"
            ]
          }
        },
        "02035a5cc4924b858b8b8568cb288a88": {
          "model_module": "@jupyter-widgets/base",
          "model_name": "LayoutModel",
          "model_module_version": "1.2.0",
          "state": {
            "_view_name": "LayoutView",
            "grid_template_rows": null,
            "right": null,
            "justify_content": null,
            "_view_module": "@jupyter-widgets/base",
            "overflow": null,
            "_model_module_version": "1.2.0",
            "_view_count": null,
            "flex_flow": null,
            "width": null,
            "min_width": null,
            "border": null,
            "align_items": null,
            "bottom": null,
            "_model_module": "@jupyter-widgets/base",
            "top": null,
            "grid_column": null,
            "overflow_y": null,
            "overflow_x": null,
            "grid_auto_flow": null,
            "grid_area": null,
            "grid_template_columns": null,
            "flex": null,
            "_model_name": "LayoutModel",
            "justify_items": null,
            "grid_row": null,
            "max_height": null,
            "align_content": null,
            "visibility": null,
            "align_self": null,
            "height": null,
            "min_height": null,
            "padding": null,
            "grid_auto_rows": null,
            "grid_gap": null,
            "max_width": null,
            "order": null,
            "_view_module_version": "1.2.0",
            "grid_template_areas": null,
            "object_position": null,
            "object_fit": null,
            "grid_auto_columns": null,
            "margin": null,
            "display": null,
            "left": null
          }
        },
        "3ab35f98e47044b49d82962f9ec11626": {
          "model_module": "@jupyter-widgets/controls",
          "model_name": "HTMLModel",
          "model_module_version": "1.5.0",
          "state": {
            "_view_name": "HTMLView",
            "style": "IPY_MODEL_e5e8b1d6a5cd459e9b58fb3752e1f17b",
            "_dom_classes": [],
            "description": "",
            "_model_name": "HTMLModel",
            "placeholder": "​",
            "_view_module": "@jupyter-widgets/controls",
            "_model_module_version": "1.5.0",
            "value": "Downloading: 100%",
            "_view_count": null,
            "_view_module_version": "1.5.0",
            "description_tooltip": null,
            "_model_module": "@jupyter-widgets/controls",
            "layout": "IPY_MODEL_0f541c8b8b3742a3bfdfd2ac961e3d18"
          }
        },
        "e8df5bbd96f640d789e45a12c8e5a6f7": {
          "model_module": "@jupyter-widgets/controls",
          "model_name": "FloatProgressModel",
          "model_module_version": "1.5.0",
          "state": {
            "_view_name": "ProgressView",
            "style": "IPY_MODEL_21e0516d2c574fdbb4f56cbb19e2d3a5",
            "_dom_classes": [],
            "description": "",
            "_model_name": "FloatProgressModel",
            "bar_style": "success",
            "max": 28,
            "_view_module": "@jupyter-widgets/controls",
            "_model_module_version": "1.5.0",
            "value": 28,
            "_view_count": null,
            "_view_module_version": "1.5.0",
            "orientation": "horizontal",
            "min": 0,
            "description_tooltip": null,
            "_model_module": "@jupyter-widgets/controls",
            "layout": "IPY_MODEL_ec93c5bc9e4a4818b52b7e9970d95d97"
          }
        },
        "ae66f39a392d448e8ab29c3a2f5d49d5": {
          "model_module": "@jupyter-widgets/controls",
          "model_name": "HTMLModel",
          "model_module_version": "1.5.0",
          "state": {
            "_view_name": "HTMLView",
            "style": "IPY_MODEL_49ebe0e3063c48479524fe83ef47d83c",
            "_dom_classes": [],
            "description": "",
            "_model_name": "HTMLModel",
            "placeholder": "​",
            "_view_module": "@jupyter-widgets/controls",
            "_model_module_version": "1.5.0",
            "value": " 28.0/28.0 [00:00&lt;00:00, 675B/s]",
            "_view_count": null,
            "_view_module_version": "1.5.0",
            "description_tooltip": null,
            "_model_module": "@jupyter-widgets/controls",
            "layout": "IPY_MODEL_4d63441a36e34dcf96b64618fe76d675"
          }
        },
        "e5e8b1d6a5cd459e9b58fb3752e1f17b": {
          "model_module": "@jupyter-widgets/controls",
          "model_name": "DescriptionStyleModel",
          "model_module_version": "1.5.0",
          "state": {
            "_view_name": "StyleView",
            "_model_name": "DescriptionStyleModel",
            "description_width": "",
            "_view_module": "@jupyter-widgets/base",
            "_model_module_version": "1.5.0",
            "_view_count": null,
            "_view_module_version": "1.2.0",
            "_model_module": "@jupyter-widgets/controls"
          }
        },
        "0f541c8b8b3742a3bfdfd2ac961e3d18": {
          "model_module": "@jupyter-widgets/base",
          "model_name": "LayoutModel",
          "model_module_version": "1.2.0",
          "state": {
            "_view_name": "LayoutView",
            "grid_template_rows": null,
            "right": null,
            "justify_content": null,
            "_view_module": "@jupyter-widgets/base",
            "overflow": null,
            "_model_module_version": "1.2.0",
            "_view_count": null,
            "flex_flow": null,
            "width": null,
            "min_width": null,
            "border": null,
            "align_items": null,
            "bottom": null,
            "_model_module": "@jupyter-widgets/base",
            "top": null,
            "grid_column": null,
            "overflow_y": null,
            "overflow_x": null,
            "grid_auto_flow": null,
            "grid_area": null,
            "grid_template_columns": null,
            "flex": null,
            "_model_name": "LayoutModel",
            "justify_items": null,
            "grid_row": null,
            "max_height": null,
            "align_content": null,
            "visibility": null,
            "align_self": null,
            "height": null,
            "min_height": null,
            "padding": null,
            "grid_auto_rows": null,
            "grid_gap": null,
            "max_width": null,
            "order": null,
            "_view_module_version": "1.2.0",
            "grid_template_areas": null,
            "object_position": null,
            "object_fit": null,
            "grid_auto_columns": null,
            "margin": null,
            "display": null,
            "left": null
          }
        },
        "21e0516d2c574fdbb4f56cbb19e2d3a5": {
          "model_module": "@jupyter-widgets/controls",
          "model_name": "ProgressStyleModel",
          "model_module_version": "1.5.0",
          "state": {
            "_view_name": "StyleView",
            "_model_name": "ProgressStyleModel",
            "description_width": "",
            "_view_module": "@jupyter-widgets/base",
            "_model_module_version": "1.5.0",
            "_view_count": null,
            "_view_module_version": "1.2.0",
            "bar_color": null,
            "_model_module": "@jupyter-widgets/controls"
          }
        },
        "ec93c5bc9e4a4818b52b7e9970d95d97": {
          "model_module": "@jupyter-widgets/base",
          "model_name": "LayoutModel",
          "model_module_version": "1.2.0",
          "state": {
            "_view_name": "LayoutView",
            "grid_template_rows": null,
            "right": null,
            "justify_content": null,
            "_view_module": "@jupyter-widgets/base",
            "overflow": null,
            "_model_module_version": "1.2.0",
            "_view_count": null,
            "flex_flow": null,
            "width": null,
            "min_width": null,
            "border": null,
            "align_items": null,
            "bottom": null,
            "_model_module": "@jupyter-widgets/base",
            "top": null,
            "grid_column": null,
            "overflow_y": null,
            "overflow_x": null,
            "grid_auto_flow": null,
            "grid_area": null,
            "grid_template_columns": null,
            "flex": null,
            "_model_name": "LayoutModel",
            "justify_items": null,
            "grid_row": null,
            "max_height": null,
            "align_content": null,
            "visibility": null,
            "align_self": null,
            "height": null,
            "min_height": null,
            "padding": null,
            "grid_auto_rows": null,
            "grid_gap": null,
            "max_width": null,
            "order": null,
            "_view_module_version": "1.2.0",
            "grid_template_areas": null,
            "object_position": null,
            "object_fit": null,
            "grid_auto_columns": null,
            "margin": null,
            "display": null,
            "left": null
          }
        },
        "49ebe0e3063c48479524fe83ef47d83c": {
          "model_module": "@jupyter-widgets/controls",
          "model_name": "DescriptionStyleModel",
          "model_module_version": "1.5.0",
          "state": {
            "_view_name": "StyleView",
            "_model_name": "DescriptionStyleModel",
            "description_width": "",
            "_view_module": "@jupyter-widgets/base",
            "_model_module_version": "1.5.0",
            "_view_count": null,
            "_view_module_version": "1.2.0",
            "_model_module": "@jupyter-widgets/controls"
          }
        },
        "4d63441a36e34dcf96b64618fe76d675": {
          "model_module": "@jupyter-widgets/base",
          "model_name": "LayoutModel",
          "model_module_version": "1.2.0",
          "state": {
            "_view_name": "LayoutView",
            "grid_template_rows": null,
            "right": null,
            "justify_content": null,
            "_view_module": "@jupyter-widgets/base",
            "overflow": null,
            "_model_module_version": "1.2.0",
            "_view_count": null,
            "flex_flow": null,
            "width": null,
            "min_width": null,
            "border": null,
            "align_items": null,
            "bottom": null,
            "_model_module": "@jupyter-widgets/base",
            "top": null,
            "grid_column": null,
            "overflow_y": null,
            "overflow_x": null,
            "grid_auto_flow": null,
            "grid_area": null,
            "grid_template_columns": null,
            "flex": null,
            "_model_name": "LayoutModel",
            "justify_items": null,
            "grid_row": null,
            "max_height": null,
            "align_content": null,
            "visibility": null,
            "align_self": null,
            "height": null,
            "min_height": null,
            "padding": null,
            "grid_auto_rows": null,
            "grid_gap": null,
            "max_width": null,
            "order": null,
            "_view_module_version": "1.2.0",
            "grid_template_areas": null,
            "object_position": null,
            "object_fit": null,
            "grid_auto_columns": null,
            "margin": null,
            "display": null,
            "left": null
          }
        },
        "74c76fe97fa145a380192ac4154b3ceb": {
          "model_module": "@jupyter-widgets/controls",
          "model_name": "HBoxModel",
          "model_module_version": "1.5.0",
          "state": {
            "_view_name": "HBoxView",
            "_dom_classes": [],
            "_model_name": "HBoxModel",
            "_view_module": "@jupyter-widgets/controls",
            "_model_module_version": "1.5.0",
            "_view_count": null,
            "_view_module_version": "1.5.0",
            "box_style": "",
            "layout": "IPY_MODEL_451174b2d3364ee49ac41b832384aed9",
            "_model_module": "@jupyter-widgets/controls",
            "children": [
              "IPY_MODEL_9562de7aa97b4806b2a0a5a23407a725",
              "IPY_MODEL_80e6251895e3493390acd1ce06a0fe72",
              "IPY_MODEL_0239c6ae63844552b41d2297587dee59"
            ]
          }
        },
        "451174b2d3364ee49ac41b832384aed9": {
          "model_module": "@jupyter-widgets/base",
          "model_name": "LayoutModel",
          "model_module_version": "1.2.0",
          "state": {
            "_view_name": "LayoutView",
            "grid_template_rows": null,
            "right": null,
            "justify_content": null,
            "_view_module": "@jupyter-widgets/base",
            "overflow": null,
            "_model_module_version": "1.2.0",
            "_view_count": null,
            "flex_flow": null,
            "width": null,
            "min_width": null,
            "border": null,
            "align_items": null,
            "bottom": null,
            "_model_module": "@jupyter-widgets/base",
            "top": null,
            "grid_column": null,
            "overflow_y": null,
            "overflow_x": null,
            "grid_auto_flow": null,
            "grid_area": null,
            "grid_template_columns": null,
            "flex": null,
            "_model_name": "LayoutModel",
            "justify_items": null,
            "grid_row": null,
            "max_height": null,
            "align_content": null,
            "visibility": null,
            "align_self": null,
            "height": null,
            "min_height": null,
            "padding": null,
            "grid_auto_rows": null,
            "grid_gap": null,
            "max_width": null,
            "order": null,
            "_view_module_version": "1.2.0",
            "grid_template_areas": null,
            "object_position": null,
            "object_fit": null,
            "grid_auto_columns": null,
            "margin": null,
            "display": null,
            "left": null
          }
        },
        "9562de7aa97b4806b2a0a5a23407a725": {
          "model_module": "@jupyter-widgets/controls",
          "model_name": "HTMLModel",
          "model_module_version": "1.5.0",
          "state": {
            "_view_name": "HTMLView",
            "style": "IPY_MODEL_661c48c637ef4b70b34ef2bc6215bb36",
            "_dom_classes": [],
            "description": "",
            "_model_name": "HTMLModel",
            "placeholder": "​",
            "_view_module": "@jupyter-widgets/controls",
            "_model_module_version": "1.5.0",
            "value": "Downloading: 100%",
            "_view_count": null,
            "_view_module_version": "1.5.0",
            "description_tooltip": null,
            "_model_module": "@jupyter-widgets/controls",
            "layout": "IPY_MODEL_28c0dbe42e934dc086f5dbf5c91c9fe9"
          }
        },
        "80e6251895e3493390acd1ce06a0fe72": {
          "model_module": "@jupyter-widgets/controls",
          "model_name": "FloatProgressModel",
          "model_module_version": "1.5.0",
          "state": {
            "_view_name": "ProgressView",
            "style": "IPY_MODEL_c734c189b5b548f3924d466c35e223b9",
            "_dom_classes": [],
            "description": "",
            "_model_name": "FloatProgressModel",
            "bar_style": "success",
            "max": 466062,
            "_view_module": "@jupyter-widgets/controls",
            "_model_module_version": "1.5.0",
            "value": 466062,
            "_view_count": null,
            "_view_module_version": "1.5.0",
            "orientation": "horizontal",
            "min": 0,
            "description_tooltip": null,
            "_model_module": "@jupyter-widgets/controls",
            "layout": "IPY_MODEL_080f01b22e134a00b6884b030518f1ec"
          }
        },
        "0239c6ae63844552b41d2297587dee59": {
          "model_module": "@jupyter-widgets/controls",
          "model_name": "HTMLModel",
          "model_module_version": "1.5.0",
          "state": {
            "_view_name": "HTMLView",
            "style": "IPY_MODEL_ebeccdb7edb149509851fd522871e801",
            "_dom_classes": [],
            "description": "",
            "_model_name": "HTMLModel",
            "placeholder": "​",
            "_view_module": "@jupyter-widgets/controls",
            "_model_module_version": "1.5.0",
            "value": " 455k/455k [00:00&lt;00:00, 1.36MB/s]",
            "_view_count": null,
            "_view_module_version": "1.5.0",
            "description_tooltip": null,
            "_model_module": "@jupyter-widgets/controls",
            "layout": "IPY_MODEL_de8837f6047c483294bad65a4c1c8e05"
          }
        },
        "661c48c637ef4b70b34ef2bc6215bb36": {
          "model_module": "@jupyter-widgets/controls",
          "model_name": "DescriptionStyleModel",
          "model_module_version": "1.5.0",
          "state": {
            "_view_name": "StyleView",
            "_model_name": "DescriptionStyleModel",
            "description_width": "",
            "_view_module": "@jupyter-widgets/base",
            "_model_module_version": "1.5.0",
            "_view_count": null,
            "_view_module_version": "1.2.0",
            "_model_module": "@jupyter-widgets/controls"
          }
        },
        "28c0dbe42e934dc086f5dbf5c91c9fe9": {
          "model_module": "@jupyter-widgets/base",
          "model_name": "LayoutModel",
          "model_module_version": "1.2.0",
          "state": {
            "_view_name": "LayoutView",
            "grid_template_rows": null,
            "right": null,
            "justify_content": null,
            "_view_module": "@jupyter-widgets/base",
            "overflow": null,
            "_model_module_version": "1.2.0",
            "_view_count": null,
            "flex_flow": null,
            "width": null,
            "min_width": null,
            "border": null,
            "align_items": null,
            "bottom": null,
            "_model_module": "@jupyter-widgets/base",
            "top": null,
            "grid_column": null,
            "overflow_y": null,
            "overflow_x": null,
            "grid_auto_flow": null,
            "grid_area": null,
            "grid_template_columns": null,
            "flex": null,
            "_model_name": "LayoutModel",
            "justify_items": null,
            "grid_row": null,
            "max_height": null,
            "align_content": null,
            "visibility": null,
            "align_self": null,
            "height": null,
            "min_height": null,
            "padding": null,
            "grid_auto_rows": null,
            "grid_gap": null,
            "max_width": null,
            "order": null,
            "_view_module_version": "1.2.0",
            "grid_template_areas": null,
            "object_position": null,
            "object_fit": null,
            "grid_auto_columns": null,
            "margin": null,
            "display": null,
            "left": null
          }
        },
        "c734c189b5b548f3924d466c35e223b9": {
          "model_module": "@jupyter-widgets/controls",
          "model_name": "ProgressStyleModel",
          "model_module_version": "1.5.0",
          "state": {
            "_view_name": "StyleView",
            "_model_name": "ProgressStyleModel",
            "description_width": "",
            "_view_module": "@jupyter-widgets/base",
            "_model_module_version": "1.5.0",
            "_view_count": null,
            "_view_module_version": "1.2.0",
            "bar_color": null,
            "_model_module": "@jupyter-widgets/controls"
          }
        },
        "080f01b22e134a00b6884b030518f1ec": {
          "model_module": "@jupyter-widgets/base",
          "model_name": "LayoutModel",
          "model_module_version": "1.2.0",
          "state": {
            "_view_name": "LayoutView",
            "grid_template_rows": null,
            "right": null,
            "justify_content": null,
            "_view_module": "@jupyter-widgets/base",
            "overflow": null,
            "_model_module_version": "1.2.0",
            "_view_count": null,
            "flex_flow": null,
            "width": null,
            "min_width": null,
            "border": null,
            "align_items": null,
            "bottom": null,
            "_model_module": "@jupyter-widgets/base",
            "top": null,
            "grid_column": null,
            "overflow_y": null,
            "overflow_x": null,
            "grid_auto_flow": null,
            "grid_area": null,
            "grid_template_columns": null,
            "flex": null,
            "_model_name": "LayoutModel",
            "justify_items": null,
            "grid_row": null,
            "max_height": null,
            "align_content": null,
            "visibility": null,
            "align_self": null,
            "height": null,
            "min_height": null,
            "padding": null,
            "grid_auto_rows": null,
            "grid_gap": null,
            "max_width": null,
            "order": null,
            "_view_module_version": "1.2.0",
            "grid_template_areas": null,
            "object_position": null,
            "object_fit": null,
            "grid_auto_columns": null,
            "margin": null,
            "display": null,
            "left": null
          }
        },
        "ebeccdb7edb149509851fd522871e801": {
          "model_module": "@jupyter-widgets/controls",
          "model_name": "DescriptionStyleModel",
          "model_module_version": "1.5.0",
          "state": {
            "_view_name": "StyleView",
            "_model_name": "DescriptionStyleModel",
            "description_width": "",
            "_view_module": "@jupyter-widgets/base",
            "_model_module_version": "1.5.0",
            "_view_count": null,
            "_view_module_version": "1.2.0",
            "_model_module": "@jupyter-widgets/controls"
          }
        },
        "de8837f6047c483294bad65a4c1c8e05": {
          "model_module": "@jupyter-widgets/base",
          "model_name": "LayoutModel",
          "model_module_version": "1.2.0",
          "state": {
            "_view_name": "LayoutView",
            "grid_template_rows": null,
            "right": null,
            "justify_content": null,
            "_view_module": "@jupyter-widgets/base",
            "overflow": null,
            "_model_module_version": "1.2.0",
            "_view_count": null,
            "flex_flow": null,
            "width": null,
            "min_width": null,
            "border": null,
            "align_items": null,
            "bottom": null,
            "_model_module": "@jupyter-widgets/base",
            "top": null,
            "grid_column": null,
            "overflow_y": null,
            "overflow_x": null,
            "grid_auto_flow": null,
            "grid_area": null,
            "grid_template_columns": null,
            "flex": null,
            "_model_name": "LayoutModel",
            "justify_items": null,
            "grid_row": null,
            "max_height": null,
            "align_content": null,
            "visibility": null,
            "align_self": null,
            "height": null,
            "min_height": null,
            "padding": null,
            "grid_auto_rows": null,
            "grid_gap": null,
            "max_width": null,
            "order": null,
            "_view_module_version": "1.2.0",
            "grid_template_areas": null,
            "object_position": null,
            "object_fit": null,
            "grid_auto_columns": null,
            "margin": null,
            "display": null,
            "left": null
          }
        },
        "15318d0cd99c4b16bb77a2244edf09df": {
          "model_module": "@jupyter-widgets/controls",
          "model_name": "HBoxModel",
          "model_module_version": "1.5.0",
          "state": {
            "_view_name": "HBoxView",
            "_dom_classes": [],
            "_model_name": "HBoxModel",
            "_view_module": "@jupyter-widgets/controls",
            "_model_module_version": "1.5.0",
            "_view_count": null,
            "_view_module_version": "1.5.0",
            "box_style": "",
            "layout": "IPY_MODEL_eee60ca8fdd54b12a2045241f1fa1109",
            "_model_module": "@jupyter-widgets/controls",
            "children": [
              "IPY_MODEL_439a717b01474b52ab6403de53a0ff56",
              "IPY_MODEL_66125c1ba4154d20a3a35e8105313f14",
              "IPY_MODEL_c7ca59c85dd34f51a66f189c8cb87aca"
            ]
          }
        },
        "eee60ca8fdd54b12a2045241f1fa1109": {
          "model_module": "@jupyter-widgets/base",
          "model_name": "LayoutModel",
          "model_module_version": "1.2.0",
          "state": {
            "_view_name": "LayoutView",
            "grid_template_rows": null,
            "right": null,
            "justify_content": null,
            "_view_module": "@jupyter-widgets/base",
            "overflow": null,
            "_model_module_version": "1.2.0",
            "_view_count": null,
            "flex_flow": null,
            "width": null,
            "min_width": null,
            "border": null,
            "align_items": null,
            "bottom": null,
            "_model_module": "@jupyter-widgets/base",
            "top": null,
            "grid_column": null,
            "overflow_y": null,
            "overflow_x": null,
            "grid_auto_flow": null,
            "grid_area": null,
            "grid_template_columns": null,
            "flex": null,
            "_model_name": "LayoutModel",
            "justify_items": null,
            "grid_row": null,
            "max_height": null,
            "align_content": null,
            "visibility": null,
            "align_self": null,
            "height": null,
            "min_height": null,
            "padding": null,
            "grid_auto_rows": null,
            "grid_gap": null,
            "max_width": null,
            "order": null,
            "_view_module_version": "1.2.0",
            "grid_template_areas": null,
            "object_position": null,
            "object_fit": null,
            "grid_auto_columns": null,
            "margin": null,
            "display": null,
            "left": null
          }
        },
        "439a717b01474b52ab6403de53a0ff56": {
          "model_module": "@jupyter-widgets/controls",
          "model_name": "HTMLModel",
          "model_module_version": "1.5.0",
          "state": {
            "_view_name": "HTMLView",
            "style": "IPY_MODEL_64ab652989f3475ba986790e9f3d3dc9",
            "_dom_classes": [],
            "description": "",
            "_model_name": "HTMLModel",
            "placeholder": "​",
            "_view_module": "@jupyter-widgets/controls",
            "_model_module_version": "1.5.0",
            "value": "Downloading: 100%",
            "_view_count": null,
            "_view_module_version": "1.5.0",
            "description_tooltip": null,
            "_model_module": "@jupyter-widgets/controls",
            "layout": "IPY_MODEL_951fa0e1f1c544c19eb4b71659118459"
          }
        },
        "66125c1ba4154d20a3a35e8105313f14": {
          "model_module": "@jupyter-widgets/controls",
          "model_name": "FloatProgressModel",
          "model_module_version": "1.5.0",
          "state": {
            "_view_name": "ProgressView",
            "style": "IPY_MODEL_fc20845ee8124088b19c9f6924df8ef8",
            "_dom_classes": [],
            "description": "",
            "_model_name": "FloatProgressModel",
            "bar_style": "success",
            "max": 570,
            "_view_module": "@jupyter-widgets/controls",
            "_model_module_version": "1.5.0",
            "value": 570,
            "_view_count": null,
            "_view_module_version": "1.5.0",
            "orientation": "horizontal",
            "min": 0,
            "description_tooltip": null,
            "_model_module": "@jupyter-widgets/controls",
            "layout": "IPY_MODEL_e1fcc4817f804924941d00fe633ea4ff"
          }
        },
        "c7ca59c85dd34f51a66f189c8cb87aca": {
          "model_module": "@jupyter-widgets/controls",
          "model_name": "HTMLModel",
          "model_module_version": "1.5.0",
          "state": {
            "_view_name": "HTMLView",
            "style": "IPY_MODEL_7262c137e4e44972a14ddc79d2d008ac",
            "_dom_classes": [],
            "description": "",
            "_model_name": "HTMLModel",
            "placeholder": "​",
            "_view_module": "@jupyter-widgets/controls",
            "_model_module_version": "1.5.0",
            "value": " 570/570 [00:00&lt;00:00, 13.8kB/s]",
            "_view_count": null,
            "_view_module_version": "1.5.0",
            "description_tooltip": null,
            "_model_module": "@jupyter-widgets/controls",
            "layout": "IPY_MODEL_fe342b0f073a4a7a8ff18f59af95d874"
          }
        },
        "64ab652989f3475ba986790e9f3d3dc9": {
          "model_module": "@jupyter-widgets/controls",
          "model_name": "DescriptionStyleModel",
          "model_module_version": "1.5.0",
          "state": {
            "_view_name": "StyleView",
            "_model_name": "DescriptionStyleModel",
            "description_width": "",
            "_view_module": "@jupyter-widgets/base",
            "_model_module_version": "1.5.0",
            "_view_count": null,
            "_view_module_version": "1.2.0",
            "_model_module": "@jupyter-widgets/controls"
          }
        },
        "951fa0e1f1c544c19eb4b71659118459": {
          "model_module": "@jupyter-widgets/base",
          "model_name": "LayoutModel",
          "model_module_version": "1.2.0",
          "state": {
            "_view_name": "LayoutView",
            "grid_template_rows": null,
            "right": null,
            "justify_content": null,
            "_view_module": "@jupyter-widgets/base",
            "overflow": null,
            "_model_module_version": "1.2.0",
            "_view_count": null,
            "flex_flow": null,
            "width": null,
            "min_width": null,
            "border": null,
            "align_items": null,
            "bottom": null,
            "_model_module": "@jupyter-widgets/base",
            "top": null,
            "grid_column": null,
            "overflow_y": null,
            "overflow_x": null,
            "grid_auto_flow": null,
            "grid_area": null,
            "grid_template_columns": null,
            "flex": null,
            "_model_name": "LayoutModel",
            "justify_items": null,
            "grid_row": null,
            "max_height": null,
            "align_content": null,
            "visibility": null,
            "align_self": null,
            "height": null,
            "min_height": null,
            "padding": null,
            "grid_auto_rows": null,
            "grid_gap": null,
            "max_width": null,
            "order": null,
            "_view_module_version": "1.2.0",
            "grid_template_areas": null,
            "object_position": null,
            "object_fit": null,
            "grid_auto_columns": null,
            "margin": null,
            "display": null,
            "left": null
          }
        },
        "fc20845ee8124088b19c9f6924df8ef8": {
          "model_module": "@jupyter-widgets/controls",
          "model_name": "ProgressStyleModel",
          "model_module_version": "1.5.0",
          "state": {
            "_view_name": "StyleView",
            "_model_name": "ProgressStyleModel",
            "description_width": "",
            "_view_module": "@jupyter-widgets/base",
            "_model_module_version": "1.5.0",
            "_view_count": null,
            "_view_module_version": "1.2.0",
            "bar_color": null,
            "_model_module": "@jupyter-widgets/controls"
          }
        },
        "e1fcc4817f804924941d00fe633ea4ff": {
          "model_module": "@jupyter-widgets/base",
          "model_name": "LayoutModel",
          "model_module_version": "1.2.0",
          "state": {
            "_view_name": "LayoutView",
            "grid_template_rows": null,
            "right": null,
            "justify_content": null,
            "_view_module": "@jupyter-widgets/base",
            "overflow": null,
            "_model_module_version": "1.2.0",
            "_view_count": null,
            "flex_flow": null,
            "width": null,
            "min_width": null,
            "border": null,
            "align_items": null,
            "bottom": null,
            "_model_module": "@jupyter-widgets/base",
            "top": null,
            "grid_column": null,
            "overflow_y": null,
            "overflow_x": null,
            "grid_auto_flow": null,
            "grid_area": null,
            "grid_template_columns": null,
            "flex": null,
            "_model_name": "LayoutModel",
            "justify_items": null,
            "grid_row": null,
            "max_height": null,
            "align_content": null,
            "visibility": null,
            "align_self": null,
            "height": null,
            "min_height": null,
            "padding": null,
            "grid_auto_rows": null,
            "grid_gap": null,
            "max_width": null,
            "order": null,
            "_view_module_version": "1.2.0",
            "grid_template_areas": null,
            "object_position": null,
            "object_fit": null,
            "grid_auto_columns": null,
            "margin": null,
            "display": null,
            "left": null
          }
        },
        "7262c137e4e44972a14ddc79d2d008ac": {
          "model_module": "@jupyter-widgets/controls",
          "model_name": "DescriptionStyleModel",
          "model_module_version": "1.5.0",
          "state": {
            "_view_name": "StyleView",
            "_model_name": "DescriptionStyleModel",
            "description_width": "",
            "_view_module": "@jupyter-widgets/base",
            "_model_module_version": "1.5.0",
            "_view_count": null,
            "_view_module_version": "1.2.0",
            "_model_module": "@jupyter-widgets/controls"
          }
        },
        "fe342b0f073a4a7a8ff18f59af95d874": {
          "model_module": "@jupyter-widgets/base",
          "model_name": "LayoutModel",
          "model_module_version": "1.2.0",
          "state": {
            "_view_name": "LayoutView",
            "grid_template_rows": null,
            "right": null,
            "justify_content": null,
            "_view_module": "@jupyter-widgets/base",
            "overflow": null,
            "_model_module_version": "1.2.0",
            "_view_count": null,
            "flex_flow": null,
            "width": null,
            "min_width": null,
            "border": null,
            "align_items": null,
            "bottom": null,
            "_model_module": "@jupyter-widgets/base",
            "top": null,
            "grid_column": null,
            "overflow_y": null,
            "overflow_x": null,
            "grid_auto_flow": null,
            "grid_area": null,
            "grid_template_columns": null,
            "flex": null,
            "_model_name": "LayoutModel",
            "justify_items": null,
            "grid_row": null,
            "max_height": null,
            "align_content": null,
            "visibility": null,
            "align_self": null,
            "height": null,
            "min_height": null,
            "padding": null,
            "grid_auto_rows": null,
            "grid_gap": null,
            "max_width": null,
            "order": null,
            "_view_module_version": "1.2.0",
            "grid_template_areas": null,
            "object_position": null,
            "object_fit": null,
            "grid_auto_columns": null,
            "margin": null,
            "display": null,
            "left": null
          }
        }
      }
    }
  },
  "cells": [
    {
      "cell_type": "code",
      "metadata": {
        "id": "NdXOFWn4QB7m",
        "colab": {
          "base_uri": "https://localhost:8080/"
        },
        "outputId": "4574265c-8859-45e5-b15b-f5bf45135383"
      },
      "source": [
        "from google.colab import drive, files\n",
        "drive.mount('/content/drive')"
      ],
      "execution_count": null,
      "outputs": [
        {
          "output_type": "stream",
          "name": "stdout",
          "text": [
            "Mounted at /content/drive\n"
          ]
        }
      ]
    },
    {
      "cell_type": "code",
      "metadata": {
        "id": "uPI4U-VnGgPZ"
      },
      "source": [
        "!pip3 install transformers\n",
        "!cp /content/drive/MyDrive/fake-news-explainability/utils_fake_news.py .\n",
        "!git clone https://github.com/fhvilshoj/TorchLRP.git"
      ],
      "execution_count": null,
      "outputs": []
    },
    {
      "cell_type": "code",
      "metadata": {
        "id": "wzw9OWK8GooS"
      },
      "source": [
        "!cp TorchLRP/examples/utils.py .\n",
        "!cp TorchLRP/examples/visualization.py ."
      ],
      "execution_count": null,
      "outputs": []
    },
    {
      "cell_type": "code",
      "metadata": {
        "id": "p1qS7W-lTek4",
        "colab": {
          "base_uri": "https://localhost:8080/",
          "height": 145,
          "referenced_widgets": [
            "430cc53c72184510a94fea573ae4e2f6",
            "7572829e09184daa8ce1aa5571365fcb",
            "bfb28529d5c74974b9cb99b548a34c8a",
            "9081c24992184e71a23bd7c39c95e5a3",
            "73c68864556c4290baeb637ec1e0044c",
            "db7a0ee3674740f78bf915f837936f4f",
            "040e23893c5a4366ad5a09fcb29bc504",
            "df108a48381a4c27bcdc74b0571ec1bd",
            "7d226383dd5b4677932cb5e25e4ec5ba",
            "6755d0a456f645118a9110436a879af8",
            "9cd94f2b48c046a4b9c663d4a3f57210",
            "75603100ebbf4452b9c41de9f213b65e",
            "02035a5cc4924b858b8b8568cb288a88",
            "3ab35f98e47044b49d82962f9ec11626",
            "e8df5bbd96f640d789e45a12c8e5a6f7",
            "ae66f39a392d448e8ab29c3a2f5d49d5",
            "e5e8b1d6a5cd459e9b58fb3752e1f17b",
            "0f541c8b8b3742a3bfdfd2ac961e3d18",
            "21e0516d2c574fdbb4f56cbb19e2d3a5",
            "ec93c5bc9e4a4818b52b7e9970d95d97",
            "49ebe0e3063c48479524fe83ef47d83c",
            "4d63441a36e34dcf96b64618fe76d675",
            "74c76fe97fa145a380192ac4154b3ceb",
            "451174b2d3364ee49ac41b832384aed9",
            "9562de7aa97b4806b2a0a5a23407a725",
            "80e6251895e3493390acd1ce06a0fe72",
            "0239c6ae63844552b41d2297587dee59",
            "661c48c637ef4b70b34ef2bc6215bb36",
            "28c0dbe42e934dc086f5dbf5c91c9fe9",
            "c734c189b5b548f3924d466c35e223b9",
            "080f01b22e134a00b6884b030518f1ec",
            "ebeccdb7edb149509851fd522871e801",
            "de8837f6047c483294bad65a4c1c8e05",
            "15318d0cd99c4b16bb77a2244edf09df",
            "eee60ca8fdd54b12a2045241f1fa1109",
            "439a717b01474b52ab6403de53a0ff56",
            "66125c1ba4154d20a3a35e8105313f14",
            "c7ca59c85dd34f51a66f189c8cb87aca",
            "64ab652989f3475ba986790e9f3d3dc9",
            "951fa0e1f1c544c19eb4b71659118459",
            "fc20845ee8124088b19c9f6924df8ef8",
            "e1fcc4817f804924941d00fe633ea4ff",
            "7262c137e4e44972a14ddc79d2d008ac",
            "fe342b0f073a4a7a8ff18f59af95d874"
          ]
        },
        "outputId": "2db66c0f-bbd4-4f75-b826-658d8c17a267"
      },
      "source": [
        "import pandas as pd\n",
        "import numpy as np\n",
        "import json, re, os\n",
        "from tqdm import tqdm_notebook\n",
        "from uuid import uuid4\n",
        "import time\n",
        "import datetime\n",
        "import random\n",
        "import itertools\n",
        "import scipy\n",
        "from sklearn.feature_extraction.text import TfidfVectorizer\n",
        "import sys\n",
        "sys.path.insert(1, '/content/TorchLRP')\n",
        "\n",
        "\n",
        "## Torch Modules\n",
        "import torch\n",
        "import torch.optim as optim\n",
        "import torch.nn as nn\n",
        "import torch.nn.functional as F\n",
        "from torch.autograd import Variable\n",
        "from torch.utils.data import (\n",
        "    Dataset, \n",
        "    DataLoader,\n",
        "    TensorDataset, \n",
        "    random_split, \n",
        "    RandomSampler, \n",
        "    SequentialSampler)\n",
        "\n",
        "# Transformers\n",
        "from transformers import (\n",
        "    BertForSequenceClassification,\n",
        "    BertTokenizer,\n",
        "    RobertaForSequenceClassification,\n",
        "    RobertaTokenizer,\n",
        "    AdamW,\n",
        "    get_linear_schedule_with_warmup)\n",
        "\n",
        "# Visualization\n",
        "import matplotlib.pyplot as plt\n",
        "import seaborn as sns\n",
        "from sklearn.metrics import confusion_matrix\n",
        "\n",
        "# LRP\n",
        "import lrp\n",
        "from utils import get_mnist_model, prepare_mnist_model, get_mnist_data\n",
        "from utils import store_patterns, load_patterns\n",
        "from visualization import heatmap_grid\n",
        "from lrp.patterns import fit_patternnet, fit_patternnet_positive\n",
        "\n",
        "# Encoding and Utils\n",
        "%run utils_fake_news.py\n",
        "\n",
        "# Device\n",
        "device = torch.device('cuda:0') if torch.cuda.is_available() else torch.device(\"cpu\")"
      ],
      "execution_count": null,
      "outputs": [
        {
          "output_type": "display_data",
          "data": {
            "application/vnd.jupyter.widget-view+json": {
              "model_id": "430cc53c72184510a94fea573ae4e2f6",
              "version_minor": 0,
              "version_major": 2
            },
            "text/plain": [
              "Downloading:   0%|          | 0.00/226k [00:00<?, ?B/s]"
            ]
          },
          "metadata": {}
        },
        {
          "output_type": "display_data",
          "data": {
            "application/vnd.jupyter.widget-view+json": {
              "model_id": "75603100ebbf4452b9c41de9f213b65e",
              "version_minor": 0,
              "version_major": 2
            },
            "text/plain": [
              "Downloading:   0%|          | 0.00/28.0 [00:00<?, ?B/s]"
            ]
          },
          "metadata": {}
        },
        {
          "output_type": "display_data",
          "data": {
            "application/vnd.jupyter.widget-view+json": {
              "model_id": "74c76fe97fa145a380192ac4154b3ceb",
              "version_minor": 0,
              "version_major": 2
            },
            "text/plain": [
              "Downloading:   0%|          | 0.00/455k [00:00<?, ?B/s]"
            ]
          },
          "metadata": {}
        },
        {
          "output_type": "display_data",
          "data": {
            "application/vnd.jupyter.widget-view+json": {
              "model_id": "15318d0cd99c4b16bb77a2244edf09df",
              "version_minor": 0,
              "version_major": 2
            },
            "text/plain": [
              "Downloading:   0%|          | 0.00/570 [00:00<?, ?B/s]"
            ]
          },
          "metadata": {}
        }
      ]
    },
    {
      "cell_type": "markdown",
      "metadata": {
        "id": "gq35xctbCbty"
      },
      "source": [
        "## Data Preprocessing"
      ]
    },
    {
      "cell_type": "code",
      "metadata": {
        "id": "R44aHq-cgLy-"
      },
      "source": [
        "# Load the Fake-News Kaggle dataset\n",
        "df_train = pd.read_csv(\"/content/drive/MyDrive/fake-news-explainability/Data/Raw/fake_news.csv\")\n",
        "df_train = df_train.dropna(subset=['statement'])\n",
        "\n",
        "# Encode dataframes using TF-IDF\n",
        "vectorizer = TfidfVectorizer()\n",
        "X = vectorizer.fit_transform(df_train['statement'])\n",
        "vocab = vectorizer.get_feature_names()\n",
        "\n",
        "# Convert to sparse PyTorch matrix\n",
        "X = X.tocoo()\n",
        "X = torch.sparse.FloatTensor(torch.LongTensor([X.row.tolist(), X.col.tolist()]),\n",
        "                             torch.FloatTensor(X.data.astype(np.float)))\n",
        "\n",
        "# Feed as TensorDataset\n",
        "df_encode = TensorDataset(X, torch.LongTensor(df_train['label']))"
      ],
      "execution_count": null,
      "outputs": []
    },
    {
      "cell_type": "markdown",
      "metadata": {
        "id": "aWKDP6yz2DI9"
      },
      "source": [
        "## Model & Training Function"
      ]
    },
    {
      "cell_type": "code",
      "metadata": {
        "id": "4bBYr4RA2CrJ"
      },
      "source": [
        "import torch.nn as nn\n",
        "from transformers import AutoModel\n",
        "\n",
        "def train():\n",
        "    total_t0 = time.time()\n",
        "    for epoch_i in range(0, epochs):\n",
        "        \n",
        "        print('======== Epoch {:} / {:} ========'.format(epoch_i + 1, epochs))\n",
        "        print('Training...')\n",
        "\n",
        "        t0 = time.time()\n",
        "        total_train_loss = 0\n",
        "        bert_model.train()\n",
        "\n",
        "        for step, batch in enumerate(bert_train_dataloader):\n",
        "            # Unpack batch\n",
        "            b_input = batch[0].to(device)\n",
        "            b_labels = batch[1].to(device)\n",
        "\n",
        "            # Zero grads\n",
        "            bert_model.zero_grad()        \n",
        "\n",
        "            # Forward pass\n",
        "            output = bert_model(b_input)\n",
        "            \n",
        "            # Accumulate loss\n",
        "            loss = loss_func(output.squeeze(1), b_labels)\n",
        "            \n",
        "            # Backpropagate\n",
        "            loss.backward()\n",
        "\n",
        "            # Clip the norm of the gradients to 1.0.\n",
        "            # This is to help prevent the \"exploding gradients\" problem.\n",
        "            # torch.nn.utils.clip_grad_norm_(bert_model.parameters(), 1.0)\n",
        "\n",
        "            # Update parameters and take a step using the computed gradient.\n",
        "            # The bert_optimizer dictates the \"update rule\"--how the parameters are\n",
        "            # modified based on their gradients, the learning rate, etc.\n",
        "            bert_optimizer.step()\n",
        "\n",
        "            # Update the learning rate.\n",
        "            bert_scheduler.step()\n",
        "\n",
        "            # Progress update every 40 batches.\n",
        "            if step % 40 == 0 and not step == 0:\n",
        "                elapsed = format_time(time.time() - t0)\n",
        "                print('  Batch {:>5,}  of  {:>5,}.    Elapsed: {:}.'.format(step, len(bert_train_dataloader), elapsed))\n",
        "                print(f'Loss: {loss.detach()}')\n",
        "                \n",
        "        # Calculate the average loss over all of the batches.\n",
        "        avg_train_loss = total_train_loss / len(bert_train_dataloader)            \n",
        "        \n",
        "        # Measure how long this epoch took.\n",
        "        training_time = format_time(time.time() - t0)\n",
        "\n",
        "        print(\"\")\n",
        "        print(\"  Average training loss: {0:.2f}\".format(avg_train_loss))\n",
        "        print(\"  Training epoch took: {:}\".format(training_time))\n",
        "\n",
        "        # Record all statistics from this epoch.\n",
        "        bert_training_stats.append(\n",
        "            {\n",
        "                'epoch': epoch_i + 1,\n",
        "                'Training Loss': avg_train_loss,\n",
        "                # 'Valid. Loss': avg_val_loss,\n",
        "                # 'Valid. Accur.': avg_val_accuracy,\n",
        "                'Training Time': training_time,\n",
        "                # 'Validation Time': validation_time\n",
        "            }\n",
        "        )\n",
        "\n",
        "    print(\"\")\n",
        "    print(\"Training complete!\")\n",
        "\n",
        "    print(\"Total training took {:} (h:mm:ss)\".format(format_time(time.time()-total_t0)))"
      ],
      "execution_count": null,
      "outputs": []
    },
    {
      "cell_type": "markdown",
      "metadata": {
        "id": "eFptuf6I7oFC"
      },
      "source": [
        "## Load Data"
      ]
    },
    {
      "cell_type": "code",
      "metadata": {
        "id": "Rn4E6EnF7nuY"
      },
      "source": [
        "# Load data into dataloader\n",
        "batch_size = 32\n",
        "bert_train_dataloader = DataLoader(\n",
        "    df_encode,  # The training samples.\n",
        "    batch_size = batch_size # Trains with this batch size.\n",
        "    )"
      ],
      "execution_count": null,
      "outputs": []
    },
    {
      "cell_type": "markdown",
      "metadata": {
        "id": "9a-6wuweTwDo"
      },
      "source": [
        "## Training"
      ]
    },
    {
      "cell_type": "code",
      "metadata": {
        "id": "qTA3a85IDGYM"
      },
      "source": [
        "# Model\n",
        "vocab_size = X.shape[1]\n",
        "bert_model = lrp.Sequential(\n",
        "                     lrp.Linear(vocab_size, 153),\n",
        "                     torch.nn.ReLU(),\n",
        "                     lrp.Linear(153,32),\n",
        "                     torch.nn.ReLU(),\n",
        "                     lrp.Linear(32,2)\n",
        "                 ).to(device)\n",
        "\n",
        "# Optimizer\n",
        "bert_optimizer = AdamW(bert_model.parameters(),\n",
        "                  lr = 5e-3, # args.learning_rate - default is 5e-5\n",
        "                  eps = 1e-8 # args.adam_epsilon  - default is 1e-8.\n",
        "                )"
      ],
      "execution_count": null,
      "outputs": []
    },
    {
      "cell_type": "code",
      "metadata": {
        "id": "VdHOx6clBw0U"
      },
      "source": [
        "# Training Params\n",
        "bert_training_stats = []\n",
        "epochs = 2\n",
        "total_steps = len(bert_train_dataloader) * epochs\n",
        "loss_func = nn.CrossEntropyLoss()\n",
        "\n",
        "# Learning rate scheduler.\n",
        "bert_scheduler = get_linear_schedule_with_warmup(bert_optimizer, \n",
        "                                                 num_warmup_steps = 0, # Default value in run_glue.py\n",
        "                                                 num_training_steps = total_steps)"
      ],
      "execution_count": null,
      "outputs": []
    },
    {
      "cell_type": "code",
      "metadata": {
        "id": "jXBjh5PRr6Yv"
      },
      "source": [
        "# Train or load pre-trained\n",
        "tfidf_model = \"/content/drive/MyDrive/fake-news-explainability/Models/fake_news_model_tfidf\"\n",
        "\n",
        "if os.path.exists(tfidf_model):\n",
        "    bert_model.load_state_dict(torch.load(tfidf_model, map_location=device))\n",
        "else:\n",
        "    train()\n",
        "    torch.save(bert_model.state_dict(), tfidf_model)"
      ],
      "execution_count": null,
      "outputs": []
    },
    {
      "cell_type": "markdown",
      "metadata": {
        "id": "Nqa-BzdNUDrY"
      },
      "source": [
        "## Evaluate (On Fake-News Train Set)"
      ]
    },
    {
      "cell_type": "code",
      "metadata": {
        "id": "x4ehiSysprvM"
      },
      "source": [
        "with torch.no_grad():\n",
        "    outputs = bert_model.forward(X.to(device))\n",
        "    print(f\"Acc: {flat_accuracy(outputs.detach().cpu().numpy(), df_encode.tensors[1].to('cpu').numpy())}\")"
      ],
      "execution_count": null,
      "outputs": []
    },
    {
      "cell_type": "markdown",
      "metadata": {
        "id": "DUsatLhTpujG"
      },
      "source": [
        "## Adversarial Attack Evaluation"
      ]
    },
    {
      "cell_type": "code",
      "metadata": {
        "id": "pUl2GCJEittG"
      },
      "source": [
        "def encode_tfidf(path_csv, vectorizer=vectorizer):\n",
        "  # Load the dataset\n",
        "  df_encode = pd.read_csv(path_csv)\n",
        "  df_encode = df_encode.dropna(subset=['statement'])\n",
        "\n",
        "  if 'accept' in df_encode.columns:\n",
        "    df_encode = df_encode.loc[df_encode.accept==1].reset_index(drop=True)\n",
        "    \n",
        "  # Encode using TF-IDF\n",
        "  X = vectorizer.transform(df_encode['statement'])\n",
        "  return torch.Tensor(X.toarray())"
      ],
      "execution_count": null,
      "outputs": []
    },
    {
      "cell_type": "code",
      "metadata": {
        "id": "F8kTO6rAmDwm"
      },
      "source": [
        "# Load encoded tensors\n",
        "# df_pos_encode = encode_tfidf(\"/content/drive/MyDrive/fake-news-explainability/Data/Raw/fake_news_pos.csv\")\n",
        "# df_neg_encode = encode_tfidf(\"/content/drive/MyDrive/fake-news-explainability/Data/Raw/fake_news_neg.csv\")\n",
        "\n",
        "df_pos_encode = encode_tfidf(\"/content/drive/MyDrive/fake-news-explainability/Data/Raw/fake_news_name_orig_filtered.csv\")\n",
        "df_neg_encode = encode_tfidf(\"/content/drive/MyDrive/fake-news-explainability/Data/Raw/fake_news_name_new_filtered.csv\")\n",
        "\n",
        "# df_pos_encode = encode_tfidf(\"/content/drive/MyDrive/fake-news-explainability/Data/Raw/fake_news_polarity_orig_filtered.csv\")\n",
        "# df_neg_encode = encode_tfidf(\"/content/drive/MyDrive/fake-news-explainability/Data/Raw/fake_news_polarity_new_filtered.csv\")\n",
        "\n",
        "# Generate predictions\n",
        "with torch.no_grad():\n",
        "    outputs_pos = bert_model.forward(df_pos_encode.to(device))\n",
        "    outputs_neg = bert_model.forward(df_neg_encode.to(device))"
      ],
      "execution_count": null,
      "outputs": []
    },
    {
      "cell_type": "code",
      "metadata": {
        "id": "TUU6ajr6oc9e",
        "colab": {
          "base_uri": "https://localhost:8080/"
        },
        "outputId": "7e0cd629-bcc0-4412-d0c9-78f34fea47cf"
      },
      "source": [
        "# Percent Labels Flipped\n",
        "cf_matrix = confusion_matrix(torch.argmax(outputs_pos.cpu(), axis=1), \n",
        "                             torch.argmax(outputs_neg.cpu(), axis=1))\n",
        "print(f\"Labels Flipped: {cf_matrix[0,1]+cf_matrix[1,0]} of {np.sum(cf_matrix)} ({round(100*(cf_matrix[0,1]+cf_matrix[1,0])/np.sum(cf_matrix),4)}%)\")"
      ],
      "execution_count": null,
      "outputs": [
        {
          "output_type": "stream",
          "name": "stdout",
          "text": [
            "Labels Flipped: 6 of 248 (2.4194%)\n"
          ]
        }
      ]
    },
    {
      "cell_type": "code",
      "metadata": {
        "colab": {
          "base_uri": "https://localhost:8080/"
        },
        "id": "jrNx8Z6Xqe2t",
        "outputId": "45a5edcf-f698-4dae-ec98-65f31b9c7c91"
      },
      "source": [
        "# Average Probability Change\n",
        "m = nn.Softmax(dim=1)\n",
        "delta_lst = m(outputs_neg)[:,1]-m(outputs_pos)[:,1]\n",
        "print(f\"Average Change: {round(float(torch.mean(delta_lst)),4)} ({round(float(torch.std(delta_lst)),4)})\")"
      ],
      "execution_count": null,
      "outputs": [
        {
          "output_type": "stream",
          "name": "stdout",
          "text": [
            "Average Change: 0.0195 (0.1155)\n"
          ]
        }
      ]
    },
    {
      "cell_type": "markdown",
      "metadata": {
        "id": "yIqFHgJLFnKe"
      },
      "source": [
        "## LRP Explanations"
      ]
    },
    {
      "cell_type": "code",
      "metadata": {
        "id": "mk3w_jMjmcve"
      },
      "source": [
        "all_patterns_path = '/content/drive/MyDrive/fake-news-explainability/TorchLRP-master/examples/patterns/pattern_all.pkl'\n",
        "if not os.path.exists(all_patterns_path):\n",
        "    patterns_all = fit_patternnet(bert_model, bert_train_dataloader, device=device)\n",
        "    store_patterns(all_patterns_path, patterns_all)\n",
        "    !cp TorchLRP/examples/patterns/pattern_all.pkl drive/MyDrive/fake-news-explainability/TorchLRP-master/examples/patterns\n",
        "else:\n",
        "    patterns_all = [torch.tensor(p, device=device, dtype=torch.float32) for p in load_patterns(all_patterns_path)]"
      ],
      "execution_count": null,
      "outputs": []
    },
    {
      "cell_type": "code",
      "metadata": {
        "id": "1DMBu5W8uNBd"
      },
      "source": [
        "def generate_explanations(lst):\n",
        "    # Vectorize the input\n",
        "    X = vectorizer.transform(lst).todense()\n",
        "\n",
        "    # To PyTorch\n",
        "    X = torch.Tensor(X)\n",
        "\n",
        "    # Format sample data from positive class\n",
        "    X = X.requires_grad_(True)\n",
        "    X.grad = None\n",
        "\n",
        "    # Make prediction\n",
        "    y_hat = bert_model.forward(X.to(device), explain=True, rule=\"alpha2beta1\")\n",
        "    preds = y_hat\n",
        "    y_hat = y_hat[range(X.shape[0]), y_hat.max(1)[1]] # Choose maximizing output neuron\n",
        "    y_hat = y_hat.sum()\n",
        "\n",
        "    # Backward pass (do explanation)\n",
        "    y_hat.backward()\n",
        "    explanation = X.grad\n",
        "    \n",
        "    return explanation, preds\n",
        "\n",
        "# Get the vocab with the top 10 highest explanation scores (by magnitude)\n",
        "def top_k_explanations(explanation, k, vocab=vocab, manual_keys=[]):\n",
        "    \n",
        "    n_obs = explanation.shape[0]\n",
        "    \n",
        "    # Collect top k indices\n",
        "    explanation_idx = torch.topk(torch.abs(explanation), k=k, dim=1).indices\n",
        "    \n",
        "    # Manually add any selected words' indices\n",
        "    for word in manual_keys:\n",
        "        if word in vocab:\n",
        "            explanation_idx = torch.hstack((explanation_idx,\n",
        "                                            torch.tensor([vocab.index(word)])\\\n",
        "                                                 .repeat(n_obs,1)))\n",
        "        else:\n",
        "            print(f\"'{word}' not in vocab\")\n",
        "    \n",
        "    # Get their magnitudes\n",
        "    explanation_val = torch.vstack([explanation[i][explanation_idx[i]] for i in range(n_obs)])\n",
        "    \n",
        "    # Get corresponding vocab\n",
        "    explanation_key = [[vocab[idx] for idx in explanation_idx[i]] for i in range(n_obs)]\n",
        "    return explanation_val, explanation_key\n",
        "\n",
        "def as_pyplot_figure(vals, names, title=''):\n",
        "    \"\"\"Returns the explanation as a pyplot figure.\n",
        "    Will throw an error if you don't have matplotlib installed\n",
        "    Args:\n",
        "        label: desired label. If you ask for a label for which an\n",
        "                explanation wasn't computed, will throw an exception.\n",
        "                Will be ignored for regression explanations.\n",
        "        kwargs: keyword arguments, passed to domain_mapper\n",
        "    Returns:\n",
        "        pyplot figure (barchart).\n",
        "    \"\"\"\n",
        "    import matplotlib.pyplot as plt\n",
        "    vals, names = vals[::-1], names[::-1]\n",
        "    fig = plt.figure()\n",
        "    colors = ['orange' if x > 0 else 'blue' for x in vals]\n",
        "    pos = np.arange(len(vals)) + .5\n",
        "    plt.barh(pos, vals, align='center', color=colors)\n",
        "    plt.yticks(pos, names)\n",
        "    main_title = title if title else 'Local Explanation'\n",
        "    plt.title(main_title)\n",
        "    plt.xlabel('LRP Score')"
      ],
      "execution_count": null,
      "outputs": []
    },
    {
      "cell_type": "code",
      "metadata": {
        "id": "oNWNVxHngolB"
      },
      "source": [
        "import textwrap\n",
        "plt.rcParams.update({'font.size': 12})\n",
        "def explain(s, k=10, manual_keys=[], return_vals=False):\n",
        "    explanation, pred = generate_explanations([s])\n",
        "    vals, names = top_k_explanations(explanation, \n",
        "                                     k=min(len(s.split())-1,k), \n",
        "                                     manual_keys=manual_keys)\n",
        "    softmax = nn.Softmax(dim=1)\n",
        "    for i in range(len(vals)):\n",
        "        p = pred[i].detach().cpu()\n",
        "        prob = float(softmax(p.unsqueeze(0))[0][1])*100\n",
        "        s = s.capitalize()\n",
        "        sentence = '\\n'.join(textwrap.wrap(s, 50))\n",
        "        \n",
        "        if return_vals:\n",
        "            return vals[i].tolist(), names[i]\n",
        "        as_pyplot_figure(vals = vals[i].tolist(), \n",
        "                         names = names[i], \n",
        "                         title = sentence.strip() + f\"\\n(Prediction: {round(prob,3)}% Fake)\")\n"
      ],
      "execution_count": null,
      "outputs": []
    },
    {
      "cell_type": "markdown",
      "metadata": {
        "id": "yll_VfNE9_KG"
      },
      "source": [
        "## Name Changing"
      ]
    },
    {
      "cell_type": "code",
      "metadata": {
        "id": "X_zom5FoCXrZ"
      },
      "source": [
        "myfile = open(\"fake_news.txt\", \"r\")\n",
        "myline = myfile.readline()\n",
        "corpus = []\n",
        "while myline:\n",
        "    corpus.append(myline)\n",
        "    myline = myfile.readline()\n",
        "myfile.close()   "
      ],
      "execution_count": null,
      "outputs": []
    },
    {
      "cell_type": "code",
      "metadata": {
        "id": "OjY7GiXMJRVo",
        "colab": {
          "base_uri": "https://localhost:8080/"
        },
        "outputId": "6d946dab-dc73-4be0-ba63-43947f121261"
      },
      "source": [
        "# How many of the LRP scores associated with 'Trump' were positive\n",
        "corpus_trump = [c for c in corpus if 'trump' in c.lower()]\n",
        "explain_trump = [explain(c,20,return_vals=True) for c in corpus_trump]\n",
        "explain_trump = [{word:val for (val,word) in zip(item[0],item[1])} for item in explain_trump]\n",
        "vals_trump = np.array([i['trump'] for i in explain_trump if 'trump' in i])\n",
        "np.sum(vals_trump>0), len(vals_trump), np.mean(vals_trump>0)"
      ],
      "execution_count": null,
      "outputs": [
        {
          "output_type": "execute_result",
          "data": {
            "text/plain": [
              "(113, 117, 0.9658119658119658)"
            ]
          },
          "metadata": {},
          "execution_count": 20
        }
      ]
    },
    {
      "cell_type": "code",
      "metadata": {
        "colab": {
          "base_uri": "https://localhost:8080/"
        },
        "id": "Up2HeXOqAeX7",
        "outputId": "52c84cf2-1001-4aab-bee1-9a5975aa6fd7"
      },
      "source": [
        "# How many of the LRP scores associated with 'Donald' were negative\n",
        "corpus_donald = [c for c in corpus if 'donald' in c.lower()]\n",
        "explain_donald = [explain(c,20,return_vals=True) for c in corpus_donald]\n",
        "explain_donald = [{word:val for (val,word) in zip(item[0],item[1])} for item in explain_donald]\n",
        "vals_donald = np.array([i['donald'] for i in explain_donald if 'donald' in i])\n",
        "np.sum(vals_donald<0), len(vals_donald), np.mean(vals_donald<0)"
      ],
      "execution_count": null,
      "outputs": [
        {
          "output_type": "execute_result",
          "data": {
            "text/plain": [
              "(63, 69, 0.9130434782608695)"
            ]
          },
          "metadata": {},
          "execution_count": 117
        }
      ]
    },
    {
      "cell_type": "code",
      "metadata": {
        "colab": {
          "base_uri": "https://localhost:8080/"
        },
        "id": "SLrJf_keMQtK",
        "outputId": "3d4e8eef-e004-4afb-86c7-e97b5a0ea870"
      },
      "source": [
        "# How many of the LRP scores associated with 'Hillary' were negative\n",
        "corpus_hillary = [c for c in corpus if 'hillary' in c.lower()]\n",
        "explain_hillary = [explain(c,20,return_vals=True) for c in corpus_hillary]\n",
        "explain_hillary = [{word:val for (val,word) in zip(item[0],item[1])} for item in explain_hillary]\n",
        "vals_hillary = np.array([i['hillary'] for i in explain_hillary if 'hillary' in i])\n",
        "np.sum(vals_hillary<0), len(vals_hillary), np.mean(vals_hillary<0)"
      ],
      "execution_count": null,
      "outputs": [
        {
          "output_type": "execute_result",
          "data": {
            "text/plain": [
              "(19, 20, 0.95)"
            ]
          },
          "metadata": {},
          "execution_count": 22
        }
      ]
    },
    {
      "cell_type": "markdown",
      "metadata": {
        "id": "q-FZIkfXq0Vh"
      },
      "source": [
        "Examples where Hillary is negative"
      ]
    },
    {
      "cell_type": "code",
      "metadata": {
        "colab": {
          "base_uri": "https://localhost:8080/",
          "height": 335
        },
        "id": "P3KEeR1dnyoO",
        "outputId": "71a44acc-23bc-4992-aefe-18a7bedbb311"
      },
      "source": [
        "explain(corpus_hillary[3], 10)"
      ],
      "execution_count": null,
      "outputs": [
        {
          "output_type": "display_data",
          "data": {
            "image/png": "[encoded data removed]",
            "text/plain": [
              "<Figure size 432x288 with 1 Axes>"
            ]
          },
          "metadata": {
            "needs_background": "light"
          }
        }
      ]
    },
    {
      "cell_type": "code",
      "metadata": {
        "colab": {
          "base_uri": "https://localhost:8080/",
          "height": 335
        },
        "id": "WGNWYA2EoM8d",
        "outputId": "107abfcb-f514-4b35-c454-8c5ed3d0db81"
      },
      "source": [
        "explain(corpus_hillary[10], 10)"
      ],
      "execution_count": null,
      "outputs": [
        {
          "output_type": "display_data",
          "data": {
            "image/png": "[encoded data removed]",
            "text/plain": [
              "<Figure size 432x288 with 1 Axes>"
            ]
          },
          "metadata": {
            "needs_background": "light"
          }
        }
      ]
    },
    {
      "cell_type": "markdown",
      "metadata": {
        "id": "6yCwbzl1q2Hj"
      },
      "source": [
        "Examples where Trump is positive"
      ]
    },
    {
      "cell_type": "code",
      "metadata": {
        "id": "975Jnpubtkaa",
        "colab": {
          "base_uri": "https://localhost:8080/",
          "height": 351
        },
        "outputId": "89f217fe-ec63-46a6-e412-37b90ed5fc41"
      },
      "source": [
        "explain(corpus_trump[np.where(vals_trump>0)[0][6]], 15)"
      ],
      "execution_count": null,
      "outputs": [
        {
          "output_type": "display_data",
          "data": {
            "image/png": "[encoded data removed]",
            "text/plain": [
              "<Figure size 432x288 with 1 Axes>"
            ]
          },
          "metadata": {
            "needs_background": "light"
          }
        }
      ]
    },
    {
      "cell_type": "code",
      "metadata": {
        "id": "MHsWAfnCuCh4",
        "colab": {
          "base_uri": "https://localhost:8080/",
          "height": 351
        },
        "outputId": "cf765793-05ec-4ddd-f0fb-6b6956952b61"
      },
      "source": [
        "explain(corpus_trump[np.where(vals_trump>0)[0][10]], 15)"
      ],
      "execution_count": null,
      "outputs": [
        {
          "output_type": "display_data",
          "data": {
            "image/png": "[encoded data removed]",
            "text/plain": [
              "<Figure size 432x288 with 1 Axes>"
            ]
          },
          "metadata": {
            "needs_background": "light"
          }
        }
      ]
    },
    {
      "cell_type": "markdown",
      "metadata": {
        "id": "0Tctqp9-qu-Q"
      },
      "source": [
        "Examples where Donald is negative, Trump is positive"
      ]
    },
    {
      "cell_type": "code",
      "metadata": {
        "id": "I_Xd85O-fxyD",
        "colab": {
          "base_uri": "https://localhost:8080/",
          "height": 335
        },
        "outputId": "7dbcd9dc-103f-4823-f301-b61909af7f39"
      },
      "source": [
        "explain(corpus_trump[np.where(vals_trump>0)[0][2]], 12)"
      ],
      "execution_count": null,
      "outputs": [
        {
          "output_type": "display_data",
          "data": {
            "image/png": "[encoded data removed]",
            "text/plain": [
              "<Figure size 432x288 with 1 Axes>"
            ]
          },
          "metadata": {
            "needs_background": "light"
          }
        }
      ]
    },
    {
      "cell_type": "code",
      "metadata": {
        "id": "P278z_tIidJB",
        "colab": {
          "base_uri": "https://localhost:8080/",
          "height": 351
        },
        "outputId": "256263c4-2805-434b-b703-16d801480496"
      },
      "source": [
        "explain(corpus_trump[np.where(vals_trump>0)[0][3]], 15)"
      ],
      "execution_count": null,
      "outputs": [
        {
          "output_type": "display_data",
          "data": {
            "image/png": "[encoded data removed]",
            "text/plain": [
              "<Figure size 432x288 with 1 Axes>"
            ]
          },
          "metadata": {
            "needs_background": "light"
          }
        }
      ]
    },
    {
      "cell_type": "markdown",
      "metadata": {
        "id": "kkw922-ZweKh"
      },
      "source": [
        "## Polarity Changing"
      ]
    },
    {
      "cell_type": "code",
      "metadata": {
        "id": "Sxv_6uvckcsA"
      },
      "source": [
        "df_orig = pd.read_csv('/content/drive/MyDrive/fake-news-explainability/Data/Raw/fake_news_polarity_orig.csv')\n",
        "df_new  = pd.read_csv('/content/drive/MyDrive/fake-news-explainability/Data/Raw/fake_news_polarity_new.csv')"
      ],
      "execution_count": null,
      "outputs": []
    },
    {
      "cell_type": "code",
      "metadata": {
        "id": "4_LznCx3xmpL",
        "colab": {
          "base_uri": "https://localhost:8080/",
          "height": 351
        },
        "outputId": "e8269099-d26d-4a36-fae7-32c2a8d709c5"
      },
      "source": [
        "# Trump has hissy fit after reporter points out pausing\n",
        "# campaign to open hotel is really dumb (video)\n",
        "explain(df_orig['statement'][13], k=13)"
      ],
      "execution_count": null,
      "outputs": [
        {
          "output_type": "display_data",
          "data": {
            "image/png": "[encoded data removed]",
            "text/plain": [
              "<Figure size 432x288 with 1 Axes>"
            ]
          },
          "metadata": {
            "needs_background": "light"
          }
        }
      ]
    },
    {
      "cell_type": "code",
      "metadata": {
        "id": "zp86oKBJxMBG",
        "colab": {
          "base_uri": "https://localhost:8080/",
          "height": 335
        },
        "outputId": "b854b25f-07cd-4404-eafd-7a549685899d"
      },
      "source": [
        "# The western banking system is totally broken, totally insolvent, \n",
        "# and totally corrupt\n",
        "explain(df_orig['statement'][9])"
      ],
      "execution_count": null,
      "outputs": [
        {
          "output_type": "display_data",
          "data": {
            "image/png": "[encoded data removed]",
            "text/plain": [
              "<Figure size 432x288 with 1 Axes>"
            ]
          },
          "metadata": {
            "needs_background": "light"
          }
        }
      ]
    },
    {
      "cell_type": "code",
      "metadata": {
        "id": "YoYTAJQEwpMX",
        "colab": {
          "base_uri": "https://localhost:8080/",
          "height": 335
        },
        "outputId": "4e6d3d94-def3-41f7-e284-95e1bdd87cf4"
      },
      "source": [
        "# Bill Clinton wants to be called something completely\n",
        "# ridiculous if Hillary is elected\n",
        "explain(df_orig['statement'][4])"
      ],
      "execution_count": null,
      "outputs": [
        {
          "output_type": "display_data",
          "data": {
            "image/png": "[encoded data removed]",
            "text/plain": [
              "<Figure size 432x288 with 1 Axes>"
            ]
          },
          "metadata": {
            "needs_background": "light"
          }
        }
      ]
    },
    {
      "cell_type": "code",
      "metadata": {
        "id": "WxAkkkuuwyuC",
        "colab": {
          "base_uri": "https://localhost:8080/",
          "height": 335
        },
        "outputId": "e7d0279f-4385-4ec1-bc1b-d14ab40cf7ed"
      },
      "source": [
        "explain(df_orig['statement'][18])"
      ],
      "execution_count": null,
      "outputs": [
        {
          "output_type": "display_data",
          "data": {
            "image/png": "[encoded data removed]",
            "text/plain": [
              "<Figure size 432x288 with 1 Axes>"
            ]
          },
          "metadata": {
            "needs_background": "light"
          }
        }
      ]
    },
    {
      "cell_type": "code",
      "metadata": {
        "id": "8iyhUCauret3"
      },
      "source": [
        ""
      ],
      "execution_count": null,
      "outputs": []
    }
  ]
}