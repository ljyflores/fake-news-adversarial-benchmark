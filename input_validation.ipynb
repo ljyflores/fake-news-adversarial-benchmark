{
  "nbformat": 4,
  "nbformat_minor": 0,
  "metadata": {
    "colab": {
      "name": "input_validation.ipynb",
      "provenance": [],
      "collapsed_sections": []
    },
    "kernelspec": {
      "name": "python3",
      "display_name": "Python 3"
    },
    "language_info": {
      "name": "python"
    },
    "accelerator": "GPU"
  },
  "cells": [
    {
      "cell_type": "code",
      "metadata": {
        "colab": {
          "base_uri": "https://localhost:8080/"
        },
        "id": "WoQYNHAMvMMg",
        "outputId": "75e673bc-f45d-4746-a789-e780a5876d39"
      },
      "source": [
        "from google.colab import drive\n",
        "drive.mount('/content/drive')"
      ],
      "execution_count": null,
      "outputs": [
        {
          "output_type": "stream",
          "text": [
            "Mounted at /content/drive\n"
          ],
          "name": "stdout"
        }
      ]
    },
    {
      "cell_type": "code",
      "metadata": {
        "id": "tMrXd1gfvLl3"
      },
      "source": [
        "!pip3 install transformers"
      ],
      "execution_count": null,
      "outputs": []
    },
    {
      "cell_type": "code",
      "metadata": {
        "id": "oF1JZrPJvKJx"
      },
      "source": [
        "import pandas as pd\n",
        "import numpy as np\n",
        "import json, re\n",
        "from tqdm import tqdm_notebook\n",
        "from uuid import uuid4\n",
        "import time\n",
        "import datetime\n",
        "import random\n",
        "import itertools\n",
        "\n",
        "## Torch Modules\n",
        "import torch\n",
        "import torch.optim as optim\n",
        "import torch.nn as nn\n",
        "import torch.nn.functional as F\n",
        "from torch.autograd import Variable\n",
        "from torch.utils.data import (\n",
        "    Dataset, \n",
        "    DataLoader,\n",
        "    TensorDataset, \n",
        "    random_split, \n",
        "    RandomSampler, \n",
        "    SequentialSampler)\n",
        "\n",
        "# Transformers\n",
        "from transformers import (\n",
        "    BertForSequenceClassification,\n",
        "    BertTokenizer,\n",
        "    RobertaForSequenceClassification,\n",
        "    RobertaTokenizer,\n",
        "    AdamW,\n",
        "    get_linear_schedule_with_warmup)"
      ],
      "execution_count": null,
      "outputs": []
    },
    {
      "cell_type": "code",
      "metadata": {
        "id": "C88R1kxfw1Ty"
      },
      "source": [
        "def encode_dataframe(statement_col, target_col, unpack=False):\n",
        "    # Tokenize statements\n",
        "    bert_encoded_dict = statement_col.apply(lambda sent: bert_tokenizer.encode_plus(\n",
        "                                      sent,                      # Sentence to encode.\n",
        "                                      add_special_tokens = True, # Add '[CLS]' and '[SEP]'\n",
        "                                      max_length = 120,           # Pad & truncate all sentences.\n",
        "                                      pad_to_max_length = True,\n",
        "                                      return_attention_mask = True,   # Construct attn. masks.\n",
        "                                      return_tensors = 'pt',     # Return pytorch tensors.\n",
        "                                      truncation = True\n",
        "                                ))\n",
        "    bert_input_ids = torch.cat([item['input_ids'] for item in bert_encoded_dict], dim=0)\n",
        "    bert_attention_masks = torch.cat([item['attention_mask'] for item in bert_encoded_dict], dim=0)\n",
        "\n",
        "    # Format targets\n",
        "    labels = torch.tensor(target_col)\n",
        "    sentence_ids = torch.tensor(range(len(target_col)))\n",
        "\n",
        "    # Combine the training inputs into a TensorDataset\n",
        "    bert_dataset = TensorDataset(sentence_ids, bert_input_ids, bert_attention_masks, labels)\n",
        "\n",
        "    # Remove indices\n",
        "    trial_dataset =  index_remover(bert_dataset)\n",
        "\n",
        "    if unpack:\n",
        "        return bert_input_ids, bert_attention_masks, labels\n",
        "    else:\n",
        "        return trial_dataset\n",
        "\n",
        "def index_remover(tensordata):\n",
        "    input_ids = []\n",
        "    attention_masks = []\n",
        "    labels = []\n",
        "   \n",
        "    for a,b,c,d in tensordata:\n",
        "        input_ids.append(b.tolist())\n",
        "        attention_masks.append(c.tolist())\n",
        "        labels.append(d.tolist())\n",
        "        \n",
        "    input_ids = torch.tensor(input_ids)\n",
        "    attention_masks = torch.tensor(attention_masks)\n",
        "    labels = torch.tensor(labels)\n",
        "    \n",
        "    final_dataset =  TensorDataset(input_ids, attention_masks, labels)\n",
        "    return final_dataset\n",
        "\n",
        "# Function to calculate the accuracy of our predictions vs labels\n",
        "def flat_accuracy(preds, labels):\n",
        "    pred_flat = np.argmax(preds, axis=1).flatten()\n",
        "    labels_flat = labels.flatten()\n",
        "    return np.sum(pred_flat == labels_flat) / len(labels_flat)\n",
        "\n",
        "def format_time(elapsed):\n",
        "    '''\n",
        "    Takes a time in seconds and returns a string hh:mm:ss\n",
        "    '''\n",
        "    # Round to the nearest second.\n",
        "    elapsed_rounded = int(round((elapsed)))\n",
        "    \n",
        "    # Format as hh:mm:ss\n",
        "    return str(datetime.timedelta(seconds=elapsed_rounded))"
      ],
      "execution_count": null,
      "outputs": []
    },
    {
      "cell_type": "code",
      "metadata": {
        "id": "Yyd-B1UOxfau"
      },
      "source": [
        "# Device\n",
        "device = torch.device(\"cuda:0\")\n",
        "\n",
        "# BERT\n",
        "bert_model = BertForSequenceClassification.from_pretrained(\"/content/drive/MyDrive/fake-news-explainability/bert_model\").to(device)\n",
        "bert_tokenizer = BertTokenizer.from_pretrained(\"bert-base-uncased\")"
      ],
      "execution_count": null,
      "outputs": []
    },
    {
      "cell_type": "code",
      "metadata": {
        "id": "JH5NE1WT3z3a"
      },
      "source": [
        "# Target labels\n",
        "label_encodings6 = {\n",
        "    'pants-fire': 0, \n",
        "    'false':      1, \n",
        "    'barely-true':2, \n",
        "    'half-true':  3, \n",
        "    'mostly-true':4,\n",
        "    'true':       5\n",
        "}"
      ],
      "execution_count": null,
      "outputs": []
    },
    {
      "cell_type": "markdown",
      "metadata": {
        "id": "hKFPDSfLu34Q"
      },
      "source": [
        "## Test on Negated Inputs"
      ]
    },
    {
      "cell_type": "code",
      "metadata": {
        "id": "PtyycrTWRQcj"
      },
      "source": [
        "# Read data\n",
        "df_positive = pd.read_csv(\"/content/drive/MyDrive/fake-news-explainability/liar_positive.csv\")#.iloc[:500]\n",
        "df_negative = pd.read_csv(\"/content/drive/MyDrive/fake-news-explainability/liar_negative.csv\")#.iloc[:500]\n",
        "\n",
        "# Relabel target\n",
        "df_positive['target'] = df_positive['label'].apply(lambda x: label_encodings6[x])\n",
        "df_negative['target'] = df_negative['label'].apply(lambda x: label_encodings6[x])\n",
        "\n",
        "# Balance data\n",
        "class_ids = df_positive.reset_index().groupby('target').agg({'index':list})\n",
        "chosen_ids = [random.sample(class_ids.loc[i,'index'], 300) for i in range(class_ids.shape[0])]\n",
        "chosen_ids = list(itertools.chain.from_iterable(chosen_ids))\n",
        "df_positive = df_positive.iloc[chosen_ids].reset_index(drop=True)\n",
        "df_negative = df_negative.iloc[chosen_ids].reset_index(drop=True)\n",
        "\n",
        "# Reformat test and validation dataframes\n",
        "input_pos, attention_pos, labels_pos = encode_dataframe(df_positive['statement'], df_positive['target'], unpack=True)\n",
        "input_neg, attention_neg, labels_neg = encode_dataframe(df_negative['statement'], df_negative['target'], unpack=True)"
      ],
      "execution_count": null,
      "outputs": []
    },
    {
      "cell_type": "code",
      "metadata": {
        "colab": {
          "base_uri": "https://localhost:8080/"
        },
        "id": "TM73lR2Nu0sj",
        "outputId": "05040bf3-37de-4e77-ca9a-6197accfe4a2"
      },
      "source": [
        "# Run the inputs through the model\n",
        "with torch.no_grad():\n",
        "    outputs_pos = bert_model(input_pos.to(device),\n",
        "                             token_type_ids=None, \n",
        "                             attention_mask=attention_pos.to(device),\n",
        "                             labels=labels_pos.to(device))\n",
        "    outputs_neg = bert_model(input_neg.to(device),\n",
        "                             token_type_ids=None,\n",
        "                             attention_mask=attention_neg.to(device),\n",
        "                             labels=labels_neg.to(device))\n",
        "    \n",
        "# Original LIAR accuracy\n",
        "print(f\"Original LIAR Acc: {flat_accuracy(outputs_pos[1].detach().cpu().numpy(), labels_pos.to('cpu').numpy())}\")\n",
        "\n",
        "# Negated LIAR accuracy\n",
        "print(f\"Negated LIAR Acc: {flat_accuracy(outputs_neg[1].detach().cpu().numpy(), labels_neg.to('cpu').numpy())}\")"
      ],
      "execution_count": null,
      "outputs": [
        {
          "output_type": "stream",
          "text": [
            "Original LIAR Acc: 0.4461111111111111\n",
            "Negated LIAR Acc: 0.38666666666666666\n"
          ],
          "name": "stdout"
        }
      ]
    },
    {
      "cell_type": "code",
      "metadata": {
        "colab": {
          "base_uri": "https://localhost:8080/",
          "height": 605
        },
        "id": "DhgiFnGQ2_yL",
        "outputId": "12cec5f4-9305-4b3e-bad8-7704b1bf9080"
      },
      "source": [
        "# Difference between predictions\n",
        "import matplotlib.pyplot as plt\n",
        "mse = torch.norm(outputs_pos[1]-outputs_neg[1], 2, dim=1)\n",
        "plt.hist(mse.cpu(), bins=60)"
      ],
      "execution_count": null,
      "outputs": [
        {
          "output_type": "execute_result",
          "data": {
            "text/plain": [
              "(array([ 19.,  87., 132., 149., 145., 115., 110., 103.,  95.,  93.,  80.,\n",
              "         86.,  61.,  69.,  54.,  45.,  36.,  40.,  41.,  26.,  24.,  18.,\n",
              "         18.,  25.,  17.,  12.,  12.,  13.,  15.,   9.,   9.,   7.,   4.,\n",
              "          3.,   2.,   5.,   3.,   3.,   1.,   2.,   2.,   0.,   0.,   0.,\n",
              "          1.,   4.,   1.,   0.,   1.,   1.,   0.,   0.,   0.,   1.,   0.,\n",
              "          0.,   0.,   0.,   0.,   1.]),\n",
              " array([0.        , 0.03740244, 0.07480487, 0.11220731, 0.14960974,\n",
              "        0.18701218, 0.22441462, 0.26181704, 0.2992195 , 0.3366219 ,\n",
              "        0.37402436, 0.41142678, 0.44882923, 0.48623165, 0.5236341 ,\n",
              "        0.5610365 , 0.598439  , 0.63584137, 0.6732438 , 0.7106463 ,\n",
              "        0.7480487 , 0.7854511 , 0.82285357, 0.860256  , 0.89765847,\n",
              "        0.93506086, 0.9724633 , 1.0098658 , 1.0472682 , 1.0846707 ,\n",
              "        1.122073  , 1.1594754 , 1.196878  , 1.2342803 , 1.2716827 ,\n",
              "        1.3090852 , 1.3464876 , 1.3838902 , 1.4212925 , 1.4586949 ,\n",
              "        1.4960974 , 1.5334998 , 1.5709022 , 1.6083047 , 1.6457071 ,\n",
              "        1.6831095 , 1.720512  , 1.7579144 , 1.7953169 , 1.8327193 ,\n",
              "        1.8701217 , 1.9075242 , 1.9449266 , 1.982329  , 2.0197315 ,\n",
              "        2.057134  , 2.0945363 , 2.1319387 , 2.1693413 , 2.2067437 ,\n",
              "        2.244146  ], dtype=float32),\n",
              " <a list of 60 Patch objects>)"
            ]
          },
          "metadata": {
            "tags": []
          },
          "execution_count": 10
        },
        {
          "output_type": "display_data",
          "data": {
            "image/png": "[encoded data removed]",
            "text/plain": [
              "<Figure size 432x288 with 1 Axes>"
            ]
          },
          "metadata": {
            "tags": [],
            "needs_background": "light"
          }
        }
      ]
    },
    {
      "cell_type": "code",
      "metadata": {
        "colab": {
          "base_uri": "https://localhost:8080/"
        },
        "id": "Dc1KpmQIYVP0",
        "outputId": "0ac8c6dc-731d-4866-b708-edbb18107d90"
      },
      "source": [
        "for i in torch.where(mse>1.5)[0].cpu():\n",
        "    print(df_positive['statement'][int(i)])\n",
        "    print(df_negative['statement'][int(i)])\n",
        "    print('\\n')"
      ],
      "execution_count": null,
      "outputs": [
        {
          "output_type": "stream",
          "text": [
            "McCain's energy plan is a \"single-answer proposition\" new domestic oil drilling.\n",
            "McCain's energy plan is not a \"single-answer proposition\" new domestic oil drilling.\n",
            "\n",
            "\n",
            "New food safety legislation will regulate backyard gardening.\n",
            "New food safety legislation will not regulate backyard gardening.\n",
            "\n",
            "\n",
            "Scott Walkers income tax plan is a tax hike. It increases taxes for nearly 80% of the people in the state.\n",
            "Scott Walkers income tax plan is not a tax hike. It increases taxes for nearly 80% of the people in the state.\n",
            "\n",
            "\n",
            "A United Nations working group has adopted a proposed agenda to enable member nations to disarm civilians within their borders.\n",
            "A United Nations working group has not adopted a proposed agenda to enable member nations to disarm civilians within their borders.\n",
            "\n",
            "\n",
            "Congressman Robert Hurt has a plan to cut education by 40 percent.\n",
            "Congressman Robert Hurt has not a plan to cut education by 40 percent.\n",
            "\n",
            "\n",
            "The Obama-Clinton war on coal has cost Michigan over 50,000 jobs.\n",
            "The Obama-Clinton war on coal has not cost Michigan over 50,000 jobs.\n",
            "\n",
            "\n",
            "Says he has supported George Bush more than I have Barack Obama.\n",
            "Says he has not supported George Bush more than I have Barack Obama.\n",
            "\n",
            "\n",
            "Daniel Webster is an advocate for a group that teaches that mothers should not work outside the home.\n",
            "Daniel Webster is not an advocate for a group that teaches that mothers should not work outside the home.\n",
            "\n",
            "\n",
            "NAFTA, signed by Bill Clinton, has been a disaster for Pennsylvania.\n",
            "NAFTA, signed by Bill Clinton, has not been a disaster for Pennsylvania.\n",
            "\n",
            "\n",
            "Since being elected, (Tom Barrett) has dumped 8.2 billion gallons of raw sewage into Lake Michigan.\n",
            "Since being elected, (Tom Barrett) has not dumped 8.2 billion gallons of raw sewage into Lake Michigan.\n",
            "\n",
            "\n",
            "Says Donald Trump is a guy who has called for privatization of the Veterans Administration.\n",
            "Says Donald Trump is not a guy who has not called for privatization of the Veterans Administration.\n",
            "\n",
            "\n",
            "The recently passed transportation funding bill is a billion-dollar tax increase for Georgians.\n",
            "The recently passed transportation funding bill is not a billion-dollar tax increase for Georgians.\n",
            "\n",
            "\n"
          ],
          "name": "stdout"
        }
      ]
    },
    {
      "cell_type": "code",
      "metadata": {
        "colab": {
          "base_uri": "https://localhost:8080/",
          "height": 282
        },
        "id": "08tt9RMl3BhV",
        "outputId": "da7a76af-a429-4e9d-e729-2e6ae8279be3"
      },
      "source": [
        "from sklearn.metrics import confusion_matrix\n",
        "import seaborn as sns\n",
        "\n",
        "cf_matrix = confusion_matrix(torch.argmax(outputs_pos[1].cpu(), axis=1), \n",
        "                             torch.argmax(outputs_neg[1].cpu(), axis=1))\n",
        "sns.heatmap(cf_matrix, annot=True)"
      ],
      "execution_count": null,
      "outputs": [
        {
          "output_type": "execute_result",
          "data": {
            "text/plain": [
              "<matplotlib.axes._subplots.AxesSubplot at 0x7f0492aae0d0>"
            ]
          },
          "metadata": {
            "tags": []
          },
          "execution_count": 11
        },
        {
          "output_type": "display_data",
          "data": {
            "image/png": "[encoded data removed]",
            "text/plain": [
              "<Figure size 432x288 with 2 Axes>"
            ]
          },
          "metadata": {
            "tags": [],
            "needs_background": "light"
          }
        }
      ]
    },
    {
      "cell_type": "markdown",
      "metadata": {
        "id": "YqvfV6NJ395X"
      },
      "source": [
        "## Test on Fake-News Kaggle Dataset"
      ]
    },
    {
      "cell_type": "code",
      "metadata": {
        "id": "EXjAmUzhYBij",
        "colab": {
          "base_uri": "https://localhost:8080/"
        },
        "outputId": "1f5e3f23-fd02-4699-abe2-bc35bd668a58"
      },
      "source": [
        "# Read data\n",
        "df_train = pd.read_csv(\"/content/drive/MyDrive/fake-news-explainability/fake_news_train.csv\")#.iloc[:500]\n",
        "df_train = df_train.dropna(subset=['text']).reset_index(drop=True)\n",
        "\n",
        "# Relabel target\n",
        "df_train['target'] = df_train['label'].apply(lambda x: 0 if x==0 else 5)\n",
        "\n",
        "# Reformat test and validation dataframes\n",
        "df_train_encode = encode_dataframe(df_train['text'], df_train['target'])\n",
        "\n",
        "# Load data into dataloader\n",
        "batch_size = 32\n",
        "bert_train_dataloader = DataLoader(\n",
        "            df_train_encode,  # The training samples.\n",
        "            batch_size = batch_size # Trains with this batch size.\n",
        "        )"
      ],
      "execution_count": null,
      "outputs": [
        {
          "output_type": "stream",
          "text": [
            "/usr/local/lib/python3.7/dist-packages/transformers/tokenization_utils_base.py:2110: FutureWarning: The `pad_to_max_length` argument is deprecated and will be removed in a future version, use `padding=True` or `padding='longest'` to pad to the longest sequence in the batch, or use `padding='max_length'` to pad to a max length. In this case, you can give a specific length with `max_length` (e.g. `max_length=45`) or leave max_length to None to pad to the maximal input size of the model (e.g. 512 for Bert).\n",
            "  FutureWarning,\n"
          ],
          "name": "stderr"
        }
      ]
    },
    {
      "cell_type": "code",
      "metadata": {
        "id": "NoIB30ez4HHP"
      },
      "source": [
        "results = []\n",
        "# Run the inputs through the model\n",
        "for batch in bert_train_dataloader:\n",
        "    with torch.no_grad():\n",
        "        b_input_ids = batch[0].to(device)\n",
        "        b_input_mask = batch[1].to(device)\n",
        "        b_labels = batch[2].to(device)\n",
        "        \n",
        "        with torch.no_grad():        \n",
        "            outputs = bert_model(b_input_ids, \n",
        "                                   token_type_ids=None, \n",
        "                                   attention_mask=b_input_mask,\n",
        "                                   labels=b_labels)\n",
        "            \n",
        "        results.append(torch.Tensor(outputs[1].cpu()))\n",
        "\n",
        "results = torch.vstack(results)"
      ],
      "execution_count": null,
      "outputs": []
    },
    {
      "cell_type": "code",
      "metadata": {
        "id": "3A6PRx7sCGRQ"
      },
      "source": [
        "cutoff = 4"
      ],
      "execution_count": null,
      "outputs": []
    },
    {
      "cell_type": "code",
      "metadata": {
        "colab": {
          "base_uri": "https://localhost:8080/"
        },
        "id": "FrcXOjgaAlUK",
        "outputId": "b1843042-c3c1-4eb8-bf08-17118709f523"
      },
      "source": [
        "# Accuracy\n",
        "results_class = [1 if i>=cutoff else 0 for i in torch.argmax(results, axis=1)]\n",
        "sum(torch.Tensor(df_train['label'])==torch.Tensor(results_class)) / len(results_class)"
      ],
      "execution_count": null,
      "outputs": [
        {
          "output_type": "execute_result",
          "data": {
            "text/plain": [
              "tensor(0.4525)"
            ]
          },
          "metadata": {
            "tags": []
          },
          "execution_count": 65
        }
      ]
    },
    {
      "cell_type": "code",
      "metadata": {
        "id": "VKn_tJp_EezE"
      },
      "source": [
        ""
      ],
      "execution_count": null,
      "outputs": []
    }
  ]
}