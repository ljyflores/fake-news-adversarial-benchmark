{
  "nbformat": 4,
  "nbformat_minor": 5,
  "metadata": {
    "environment": {
      "name": "pytorch-gpu.1-7.m65",
      "type": "gcloud",
      "uri": "gcr.io/deeplearning-platform-release/pytorch-gpu.1-7:m65"
    },
    "kernelspec": {
      "display_name": "Python 3",
      "language": "python",
      "name": "python3"
    },
    "language_info": {
      "codemirror_mode": {
        "name": "ipython",
        "version": 3
      },
      "file_extension": ".py",
      "mimetype": "text/x-python",
      "name": "python",
      "nbconvert_exporter": "python",
      "pygments_lexer": "ipython3",
      "version": "3.7.10"
    },
    "colab": {
      "name": "bert_fake_news.ipynb",
      "provenance": [],
      "collapsed_sections": []
    },
    "accelerator": "GPU",
    "widgets": {
      "application/vnd.jupyter.widget-state+json": {
        "7bd9efdb2d9a4bbb8b27b7cead0643f6": {
          "model_module": "@jupyter-widgets/controls",
          "model_name": "HBoxModel",
          "model_module_version": "1.5.0",
          "state": {
            "_view_name": "HBoxView",
            "_dom_classes": [],
            "_model_name": "HBoxModel",
            "_view_module": "@jupyter-widgets/controls",
            "_model_module_version": "1.5.0",
            "_view_count": null,
            "_view_module_version": "1.5.0",
            "box_style": "",
            "layout": "IPY_MODEL_0e272e35b0d24a0b951d9758b80c6f0a",
            "_model_module": "@jupyter-widgets/controls",
            "children": [
              "IPY_MODEL_7886330bd5cf4939af252163ccb4cc3c",
              "IPY_MODEL_3461a47e3fa84859896777f17c7491c7",
              "IPY_MODEL_0020d909c38544d9ac69530b00a9fe84"
            ]
          }
        },
        "0e272e35b0d24a0b951d9758b80c6f0a": {
          "model_module": "@jupyter-widgets/base",
          "model_name": "LayoutModel",
          "model_module_version": "1.2.0",
          "state": {
            "_view_name": "LayoutView",
            "grid_template_rows": null,
            "right": null,
            "justify_content": null,
            "_view_module": "@jupyter-widgets/base",
            "overflow": null,
            "_model_module_version": "1.2.0",
            "_view_count": null,
            "flex_flow": null,
            "width": null,
            "min_width": null,
            "border": null,
            "align_items": null,
            "bottom": null,
            "_model_module": "@jupyter-widgets/base",
            "top": null,
            "grid_column": null,
            "overflow_y": null,
            "overflow_x": null,
            "grid_auto_flow": null,
            "grid_area": null,
            "grid_template_columns": null,
            "flex": null,
            "_model_name": "LayoutModel",
            "justify_items": null,
            "grid_row": null,
            "max_height": null,
            "align_content": null,
            "visibility": null,
            "align_self": null,
            "height": null,
            "min_height": null,
            "padding": null,
            "grid_auto_rows": null,
            "grid_gap": null,
            "max_width": null,
            "order": null,
            "_view_module_version": "1.2.0",
            "grid_template_areas": null,
            "object_position": null,
            "object_fit": null,
            "grid_auto_columns": null,
            "margin": null,
            "display": null,
            "left": null
          }
        },
        "7886330bd5cf4939af252163ccb4cc3c": {
          "model_module": "@jupyter-widgets/controls",
          "model_name": "HTMLModel",
          "model_module_version": "1.5.0",
          "state": {
            "_view_name": "HTMLView",
            "style": "IPY_MODEL_39e6ee97f4a44ea4b167206abd45022a",
            "_dom_classes": [],
            "description": "",
            "_model_name": "HTMLModel",
            "placeholder": "​",
            "_view_module": "@jupyter-widgets/controls",
            "_model_module_version": "1.5.0",
            "value": "Downloading: 100%",
            "_view_count": null,
            "_view_module_version": "1.5.0",
            "description_tooltip": null,
            "_model_module": "@jupyter-widgets/controls",
            "layout": "IPY_MODEL_a7d71279bfc44d9ebc4a4aa2128601c8"
          }
        },
        "3461a47e3fa84859896777f17c7491c7": {
          "model_module": "@jupyter-widgets/controls",
          "model_name": "FloatProgressModel",
          "model_module_version": "1.5.0",
          "state": {
            "_view_name": "ProgressView",
            "style": "IPY_MODEL_7fd28754e8824d2a868b364744fa40b8",
            "_dom_classes": [],
            "description": "",
            "_model_name": "FloatProgressModel",
            "bar_style": "success",
            "max": 231508,
            "_view_module": "@jupyter-widgets/controls",
            "_model_module_version": "1.5.0",
            "value": 231508,
            "_view_count": null,
            "_view_module_version": "1.5.0",
            "orientation": "horizontal",
            "min": 0,
            "description_tooltip": null,
            "_model_module": "@jupyter-widgets/controls",
            "layout": "IPY_MODEL_06ab132ec39f4e6e90639c3d7134f5aa"
          }
        },
        "0020d909c38544d9ac69530b00a9fe84": {
          "model_module": "@jupyter-widgets/controls",
          "model_name": "HTMLModel",
          "model_module_version": "1.5.0",
          "state": {
            "_view_name": "HTMLView",
            "style": "IPY_MODEL_50e6aa166eea43239c55b08a489c8ba0",
            "_dom_classes": [],
            "description": "",
            "_model_name": "HTMLModel",
            "placeholder": "​",
            "_view_module": "@jupyter-widgets/controls",
            "_model_module_version": "1.5.0",
            "value": " 226k/226k [00:00&lt;00:00, 879kB/s]",
            "_view_count": null,
            "_view_module_version": "1.5.0",
            "description_tooltip": null,
            "_model_module": "@jupyter-widgets/controls",
            "layout": "IPY_MODEL_4b506768a5aa4a56b19aaae21a00aac5"
          }
        },
        "39e6ee97f4a44ea4b167206abd45022a": {
          "model_module": "@jupyter-widgets/controls",
          "model_name": "DescriptionStyleModel",
          "model_module_version": "1.5.0",
          "state": {
            "_view_name": "StyleView",
            "_model_name": "DescriptionStyleModel",
            "description_width": "",
            "_view_module": "@jupyter-widgets/base",
            "_model_module_version": "1.5.0",
            "_view_count": null,
            "_view_module_version": "1.2.0",
            "_model_module": "@jupyter-widgets/controls"
          }
        },
        "a7d71279bfc44d9ebc4a4aa2128601c8": {
          "model_module": "@jupyter-widgets/base",
          "model_name": "LayoutModel",
          "model_module_version": "1.2.0",
          "state": {
            "_view_name": "LayoutView",
            "grid_template_rows": null,
            "right": null,
            "justify_content": null,
            "_view_module": "@jupyter-widgets/base",
            "overflow": null,
            "_model_module_version": "1.2.0",
            "_view_count": null,
            "flex_flow": null,
            "width": null,
            "min_width": null,
            "border": null,
            "align_items": null,
            "bottom": null,
            "_model_module": "@jupyter-widgets/base",
            "top": null,
            "grid_column": null,
            "overflow_y": null,
            "overflow_x": null,
            "grid_auto_flow": null,
            "grid_area": null,
            "grid_template_columns": null,
            "flex": null,
            "_model_name": "LayoutModel",
            "justify_items": null,
            "grid_row": null,
            "max_height": null,
            "align_content": null,
            "visibility": null,
            "align_self": null,
            "height": null,
            "min_height": null,
            "padding": null,
            "grid_auto_rows": null,
            "grid_gap": null,
            "max_width": null,
            "order": null,
            "_view_module_version": "1.2.0",
            "grid_template_areas": null,
            "object_position": null,
            "object_fit": null,
            "grid_auto_columns": null,
            "margin": null,
            "display": null,
            "left": null
          }
        },
        "7fd28754e8824d2a868b364744fa40b8": {
          "model_module": "@jupyter-widgets/controls",
          "model_name": "ProgressStyleModel",
          "model_module_version": "1.5.0",
          "state": {
            "_view_name": "StyleView",
            "_model_name": "ProgressStyleModel",
            "description_width": "",
            "_view_module": "@jupyter-widgets/base",
            "_model_module_version": "1.5.0",
            "_view_count": null,
            "_view_module_version": "1.2.0",
            "bar_color": null,
            "_model_module": "@jupyter-widgets/controls"
          }
        },
        "06ab132ec39f4e6e90639c3d7134f5aa": {
          "model_module": "@jupyter-widgets/base",
          "model_name": "LayoutModel",
          "model_module_version": "1.2.0",
          "state": {
            "_view_name": "LayoutView",
            "grid_template_rows": null,
            "right": null,
            "justify_content": null,
            "_view_module": "@jupyter-widgets/base",
            "overflow": null,
            "_model_module_version": "1.2.0",
            "_view_count": null,
            "flex_flow": null,
            "width": null,
            "min_width": null,
            "border": null,
            "align_items": null,
            "bottom": null,
            "_model_module": "@jupyter-widgets/base",
            "top": null,
            "grid_column": null,
            "overflow_y": null,
            "overflow_x": null,
            "grid_auto_flow": null,
            "grid_area": null,
            "grid_template_columns": null,
            "flex": null,
            "_model_name": "LayoutModel",
            "justify_items": null,
            "grid_row": null,
            "max_height": null,
            "align_content": null,
            "visibility": null,
            "align_self": null,
            "height": null,
            "min_height": null,
            "padding": null,
            "grid_auto_rows": null,
            "grid_gap": null,
            "max_width": null,
            "order": null,
            "_view_module_version": "1.2.0",
            "grid_template_areas": null,
            "object_position": null,
            "object_fit": null,
            "grid_auto_columns": null,
            "margin": null,
            "display": null,
            "left": null
          }
        },
        "50e6aa166eea43239c55b08a489c8ba0": {
          "model_module": "@jupyter-widgets/controls",
          "model_name": "DescriptionStyleModel",
          "model_module_version": "1.5.0",
          "state": {
            "_view_name": "StyleView",
            "_model_name": "DescriptionStyleModel",
            "description_width": "",
            "_view_module": "@jupyter-widgets/base",
            "_model_module_version": "1.5.0",
            "_view_count": null,
            "_view_module_version": "1.2.0",
            "_model_module": "@jupyter-widgets/controls"
          }
        },
        "4b506768a5aa4a56b19aaae21a00aac5": {
          "model_module": "@jupyter-widgets/base",
          "model_name": "LayoutModel",
          "model_module_version": "1.2.0",
          "state": {
            "_view_name": "LayoutView",
            "grid_template_rows": null,
            "right": null,
            "justify_content": null,
            "_view_module": "@jupyter-widgets/base",
            "overflow": null,
            "_model_module_version": "1.2.0",
            "_view_count": null,
            "flex_flow": null,
            "width": null,
            "min_width": null,
            "border": null,
            "align_items": null,
            "bottom": null,
            "_model_module": "@jupyter-widgets/base",
            "top": null,
            "grid_column": null,
            "overflow_y": null,
            "overflow_x": null,
            "grid_auto_flow": null,
            "grid_area": null,
            "grid_template_columns": null,
            "flex": null,
            "_model_name": "LayoutModel",
            "justify_items": null,
            "grid_row": null,
            "max_height": null,
            "align_content": null,
            "visibility": null,
            "align_self": null,
            "height": null,
            "min_height": null,
            "padding": null,
            "grid_auto_rows": null,
            "grid_gap": null,
            "max_width": null,
            "order": null,
            "_view_module_version": "1.2.0",
            "grid_template_areas": null,
            "object_position": null,
            "object_fit": null,
            "grid_auto_columns": null,
            "margin": null,
            "display": null,
            "left": null
          }
        },
        "108a7b25cbfa4269accd9e172612fbf1": {
          "model_module": "@jupyter-widgets/controls",
          "model_name": "HBoxModel",
          "model_module_version": "1.5.0",
          "state": {
            "_view_name": "HBoxView",
            "_dom_classes": [],
            "_model_name": "HBoxModel",
            "_view_module": "@jupyter-widgets/controls",
            "_model_module_version": "1.5.0",
            "_view_count": null,
            "_view_module_version": "1.5.0",
            "box_style": "",
            "layout": "IPY_MODEL_f8f8f567ad494da297daa0fd939b7d8b",
            "_model_module": "@jupyter-widgets/controls",
            "children": [
              "IPY_MODEL_b5d47a9ad19b44debb99434cf3a5fca9",
              "IPY_MODEL_b887e9ddd6d54c7e9d272505474cae8d",
              "IPY_MODEL_0f033eb9fa3449488cf494638edcd024"
            ]
          }
        },
        "f8f8f567ad494da297daa0fd939b7d8b": {
          "model_module": "@jupyter-widgets/base",
          "model_name": "LayoutModel",
          "model_module_version": "1.2.0",
          "state": {
            "_view_name": "LayoutView",
            "grid_template_rows": null,
            "right": null,
            "justify_content": null,
            "_view_module": "@jupyter-widgets/base",
            "overflow": null,
            "_model_module_version": "1.2.0",
            "_view_count": null,
            "flex_flow": null,
            "width": null,
            "min_width": null,
            "border": null,
            "align_items": null,
            "bottom": null,
            "_model_module": "@jupyter-widgets/base",
            "top": null,
            "grid_column": null,
            "overflow_y": null,
            "overflow_x": null,
            "grid_auto_flow": null,
            "grid_area": null,
            "grid_template_columns": null,
            "flex": null,
            "_model_name": "LayoutModel",
            "justify_items": null,
            "grid_row": null,
            "max_height": null,
            "align_content": null,
            "visibility": null,
            "align_self": null,
            "height": null,
            "min_height": null,
            "padding": null,
            "grid_auto_rows": null,
            "grid_gap": null,
            "max_width": null,
            "order": null,
            "_view_module_version": "1.2.0",
            "grid_template_areas": null,
            "object_position": null,
            "object_fit": null,
            "grid_auto_columns": null,
            "margin": null,
            "display": null,
            "left": null
          }
        },
        "b5d47a9ad19b44debb99434cf3a5fca9": {
          "model_module": "@jupyter-widgets/controls",
          "model_name": "HTMLModel",
          "model_module_version": "1.5.0",
          "state": {
            "_view_name": "HTMLView",
            "style": "IPY_MODEL_024dbeedf41f4452830d072f36b8a911",
            "_dom_classes": [],
            "description": "",
            "_model_name": "HTMLModel",
            "placeholder": "​",
            "_view_module": "@jupyter-widgets/controls",
            "_model_module_version": "1.5.0",
            "value": "Downloading: 100%",
            "_view_count": null,
            "_view_module_version": "1.5.0",
            "description_tooltip": null,
            "_model_module": "@jupyter-widgets/controls",
            "layout": "IPY_MODEL_b3186480264246bf8e0d407b3106e3b9"
          }
        },
        "b887e9ddd6d54c7e9d272505474cae8d": {
          "model_module": "@jupyter-widgets/controls",
          "model_name": "FloatProgressModel",
          "model_module_version": "1.5.0",
          "state": {
            "_view_name": "ProgressView",
            "style": "IPY_MODEL_b3132a66c2174d85b6312bf9f57135e9",
            "_dom_classes": [],
            "description": "",
            "_model_name": "FloatProgressModel",
            "bar_style": "success",
            "max": 28,
            "_view_module": "@jupyter-widgets/controls",
            "_model_module_version": "1.5.0",
            "value": 28,
            "_view_count": null,
            "_view_module_version": "1.5.0",
            "orientation": "horizontal",
            "min": 0,
            "description_tooltip": null,
            "_model_module": "@jupyter-widgets/controls",
            "layout": "IPY_MODEL_b5ce1a54318943c990c8b4d39cadf753"
          }
        },
        "0f033eb9fa3449488cf494638edcd024": {
          "model_module": "@jupyter-widgets/controls",
          "model_name": "HTMLModel",
          "model_module_version": "1.5.0",
          "state": {
            "_view_name": "HTMLView",
            "style": "IPY_MODEL_4c49529893c04a488be9016a945dd8c6",
            "_dom_classes": [],
            "description": "",
            "_model_name": "HTMLModel",
            "placeholder": "​",
            "_view_module": "@jupyter-widgets/controls",
            "_model_module_version": "1.5.0",
            "value": " 28.0/28.0 [00:00&lt;00:00, 599B/s]",
            "_view_count": null,
            "_view_module_version": "1.5.0",
            "description_tooltip": null,
            "_model_module": "@jupyter-widgets/controls",
            "layout": "IPY_MODEL_438de42da04c4a0ab472d71f586c2297"
          }
        },
        "024dbeedf41f4452830d072f36b8a911": {
          "model_module": "@jupyter-widgets/controls",
          "model_name": "DescriptionStyleModel",
          "model_module_version": "1.5.0",
          "state": {
            "_view_name": "StyleView",
            "_model_name": "DescriptionStyleModel",
            "description_width": "",
            "_view_module": "@jupyter-widgets/base",
            "_model_module_version": "1.5.0",
            "_view_count": null,
            "_view_module_version": "1.2.0",
            "_model_module": "@jupyter-widgets/controls"
          }
        },
        "b3186480264246bf8e0d407b3106e3b9": {
          "model_module": "@jupyter-widgets/base",
          "model_name": "LayoutModel",
          "model_module_version": "1.2.0",
          "state": {
            "_view_name": "LayoutView",
            "grid_template_rows": null,
            "right": null,
            "justify_content": null,
            "_view_module": "@jupyter-widgets/base",
            "overflow": null,
            "_model_module_version": "1.2.0",
            "_view_count": null,
            "flex_flow": null,
            "width": null,
            "min_width": null,
            "border": null,
            "align_items": null,
            "bottom": null,
            "_model_module": "@jupyter-widgets/base",
            "top": null,
            "grid_column": null,
            "overflow_y": null,
            "overflow_x": null,
            "grid_auto_flow": null,
            "grid_area": null,
            "grid_template_columns": null,
            "flex": null,
            "_model_name": "LayoutModel",
            "justify_items": null,
            "grid_row": null,
            "max_height": null,
            "align_content": null,
            "visibility": null,
            "align_self": null,
            "height": null,
            "min_height": null,
            "padding": null,
            "grid_auto_rows": null,
            "grid_gap": null,
            "max_width": null,
            "order": null,
            "_view_module_version": "1.2.0",
            "grid_template_areas": null,
            "object_position": null,
            "object_fit": null,
            "grid_auto_columns": null,
            "margin": null,
            "display": null,
            "left": null
          }
        },
        "b3132a66c2174d85b6312bf9f57135e9": {
          "model_module": "@jupyter-widgets/controls",
          "model_name": "ProgressStyleModel",
          "model_module_version": "1.5.0",
          "state": {
            "_view_name": "StyleView",
            "_model_name": "ProgressStyleModel",
            "description_width": "",
            "_view_module": "@jupyter-widgets/base",
            "_model_module_version": "1.5.0",
            "_view_count": null,
            "_view_module_version": "1.2.0",
            "bar_color": null,
            "_model_module": "@jupyter-widgets/controls"
          }
        },
        "b5ce1a54318943c990c8b4d39cadf753": {
          "model_module": "@jupyter-widgets/base",
          "model_name": "LayoutModel",
          "model_module_version": "1.2.0",
          "state": {
            "_view_name": "LayoutView",
            "grid_template_rows": null,
            "right": null,
            "justify_content": null,
            "_view_module": "@jupyter-widgets/base",
            "overflow": null,
            "_model_module_version": "1.2.0",
            "_view_count": null,
            "flex_flow": null,
            "width": null,
            "min_width": null,
            "border": null,
            "align_items": null,
            "bottom": null,
            "_model_module": "@jupyter-widgets/base",
            "top": null,
            "grid_column": null,
            "overflow_y": null,
            "overflow_x": null,
            "grid_auto_flow": null,
            "grid_area": null,
            "grid_template_columns": null,
            "flex": null,
            "_model_name": "LayoutModel",
            "justify_items": null,
            "grid_row": null,
            "max_height": null,
            "align_content": null,
            "visibility": null,
            "align_self": null,
            "height": null,
            "min_height": null,
            "padding": null,
            "grid_auto_rows": null,
            "grid_gap": null,
            "max_width": null,
            "order": null,
            "_view_module_version": "1.2.0",
            "grid_template_areas": null,
            "object_position": null,
            "object_fit": null,
            "grid_auto_columns": null,
            "margin": null,
            "display": null,
            "left": null
          }
        },
        "4c49529893c04a488be9016a945dd8c6": {
          "model_module": "@jupyter-widgets/controls",
          "model_name": "DescriptionStyleModel",
          "model_module_version": "1.5.0",
          "state": {
            "_view_name": "StyleView",
            "_model_name": "DescriptionStyleModel",
            "description_width": "",
            "_view_module": "@jupyter-widgets/base",
            "_model_module_version": "1.5.0",
            "_view_count": null,
            "_view_module_version": "1.2.0",
            "_model_module": "@jupyter-widgets/controls"
          }
        },
        "438de42da04c4a0ab472d71f586c2297": {
          "model_module": "@jupyter-widgets/base",
          "model_name": "LayoutModel",
          "model_module_version": "1.2.0",
          "state": {
            "_view_name": "LayoutView",
            "grid_template_rows": null,
            "right": null,
            "justify_content": null,
            "_view_module": "@jupyter-widgets/base",
            "overflow": null,
            "_model_module_version": "1.2.0",
            "_view_count": null,
            "flex_flow": null,
            "width": null,
            "min_width": null,
            "border": null,
            "align_items": null,
            "bottom": null,
            "_model_module": "@jupyter-widgets/base",
            "top": null,
            "grid_column": null,
            "overflow_y": null,
            "overflow_x": null,
            "grid_auto_flow": null,
            "grid_area": null,
            "grid_template_columns": null,
            "flex": null,
            "_model_name": "LayoutModel",
            "justify_items": null,
            "grid_row": null,
            "max_height": null,
            "align_content": null,
            "visibility": null,
            "align_self": null,
            "height": null,
            "min_height": null,
            "padding": null,
            "grid_auto_rows": null,
            "grid_gap": null,
            "max_width": null,
            "order": null,
            "_view_module_version": "1.2.0",
            "grid_template_areas": null,
            "object_position": null,
            "object_fit": null,
            "grid_auto_columns": null,
            "margin": null,
            "display": null,
            "left": null
          }
        },
        "030f64405bd6411a838c3e69833e2c55": {
          "model_module": "@jupyter-widgets/controls",
          "model_name": "HBoxModel",
          "model_module_version": "1.5.0",
          "state": {
            "_view_name": "HBoxView",
            "_dom_classes": [],
            "_model_name": "HBoxModel",
            "_view_module": "@jupyter-widgets/controls",
            "_model_module_version": "1.5.0",
            "_view_count": null,
            "_view_module_version": "1.5.0",
            "box_style": "",
            "layout": "IPY_MODEL_e17b27f586614664966dc109477985c7",
            "_model_module": "@jupyter-widgets/controls",
            "children": [
              "IPY_MODEL_89ffad779c0d4f32bc6ce64cc39c6437",
              "IPY_MODEL_60181654efde4bc8b21a67c4e5335209",
              "IPY_MODEL_3fbada23a67548358ef559c4858b5de5"
            ]
          }
        },
        "e17b27f586614664966dc109477985c7": {
          "model_module": "@jupyter-widgets/base",
          "model_name": "LayoutModel",
          "model_module_version": "1.2.0",
          "state": {
            "_view_name": "LayoutView",
            "grid_template_rows": null,
            "right": null,
            "justify_content": null,
            "_view_module": "@jupyter-widgets/base",
            "overflow": null,
            "_model_module_version": "1.2.0",
            "_view_count": null,
            "flex_flow": null,
            "width": null,
            "min_width": null,
            "border": null,
            "align_items": null,
            "bottom": null,
            "_model_module": "@jupyter-widgets/base",
            "top": null,
            "grid_column": null,
            "overflow_y": null,
            "overflow_x": null,
            "grid_auto_flow": null,
            "grid_area": null,
            "grid_template_columns": null,
            "flex": null,
            "_model_name": "LayoutModel",
            "justify_items": null,
            "grid_row": null,
            "max_height": null,
            "align_content": null,
            "visibility": null,
            "align_self": null,
            "height": null,
            "min_height": null,
            "padding": null,
            "grid_auto_rows": null,
            "grid_gap": null,
            "max_width": null,
            "order": null,
            "_view_module_version": "1.2.0",
            "grid_template_areas": null,
            "object_position": null,
            "object_fit": null,
            "grid_auto_columns": null,
            "margin": null,
            "display": null,
            "left": null
          }
        },
        "89ffad779c0d4f32bc6ce64cc39c6437": {
          "model_module": "@jupyter-widgets/controls",
          "model_name": "HTMLModel",
          "model_module_version": "1.5.0",
          "state": {
            "_view_name": "HTMLView",
            "style": "IPY_MODEL_412b2249c6d4400fa7b9404fc341c2bd",
            "_dom_classes": [],
            "description": "",
            "_model_name": "HTMLModel",
            "placeholder": "​",
            "_view_module": "@jupyter-widgets/controls",
            "_model_module_version": "1.5.0",
            "value": "Downloading: 100%",
            "_view_count": null,
            "_view_module_version": "1.5.0",
            "description_tooltip": null,
            "_model_module": "@jupyter-widgets/controls",
            "layout": "IPY_MODEL_e0f3497160e247238d69ca98d0f8e702"
          }
        },
        "60181654efde4bc8b21a67c4e5335209": {
          "model_module": "@jupyter-widgets/controls",
          "model_name": "FloatProgressModel",
          "model_module_version": "1.5.0",
          "state": {
            "_view_name": "ProgressView",
            "style": "IPY_MODEL_673d3ce819a8414fa3d2385ff80075d8",
            "_dom_classes": [],
            "description": "",
            "_model_name": "FloatProgressModel",
            "bar_style": "success",
            "max": 466062,
            "_view_module": "@jupyter-widgets/controls",
            "_model_module_version": "1.5.0",
            "value": 466062,
            "_view_count": null,
            "_view_module_version": "1.5.0",
            "orientation": "horizontal",
            "min": 0,
            "description_tooltip": null,
            "_model_module": "@jupyter-widgets/controls",
            "layout": "IPY_MODEL_08cca9e6c52a43399e18eaaba5d5d3d0"
          }
        },
        "3fbada23a67548358ef559c4858b5de5": {
          "model_module": "@jupyter-widgets/controls",
          "model_name": "HTMLModel",
          "model_module_version": "1.5.0",
          "state": {
            "_view_name": "HTMLView",
            "style": "IPY_MODEL_2a679bc7b4604d10ab158ec0ecf6a86f",
            "_dom_classes": [],
            "description": "",
            "_model_name": "HTMLModel",
            "placeholder": "​",
            "_view_module": "@jupyter-widgets/controls",
            "_model_module_version": "1.5.0",
            "value": " 455k/455k [00:00&lt;00:00, 703kB/s]",
            "_view_count": null,
            "_view_module_version": "1.5.0",
            "description_tooltip": null,
            "_model_module": "@jupyter-widgets/controls",
            "layout": "IPY_MODEL_87c76a81844d4364ae9a665f75ae4471"
          }
        },
        "412b2249c6d4400fa7b9404fc341c2bd": {
          "model_module": "@jupyter-widgets/controls",
          "model_name": "DescriptionStyleModel",
          "model_module_version": "1.5.0",
          "state": {
            "_view_name": "StyleView",
            "_model_name": "DescriptionStyleModel",
            "description_width": "",
            "_view_module": "@jupyter-widgets/base",
            "_model_module_version": "1.5.0",
            "_view_count": null,
            "_view_module_version": "1.2.0",
            "_model_module": "@jupyter-widgets/controls"
          }
        },
        "e0f3497160e247238d69ca98d0f8e702": {
          "model_module": "@jupyter-widgets/base",
          "model_name": "LayoutModel",
          "model_module_version": "1.2.0",
          "state": {
            "_view_name": "LayoutView",
            "grid_template_rows": null,
            "right": null,
            "justify_content": null,
            "_view_module": "@jupyter-widgets/base",
            "overflow": null,
            "_model_module_version": "1.2.0",
            "_view_count": null,
            "flex_flow": null,
            "width": null,
            "min_width": null,
            "border": null,
            "align_items": null,
            "bottom": null,
            "_model_module": "@jupyter-widgets/base",
            "top": null,
            "grid_column": null,
            "overflow_y": null,
            "overflow_x": null,
            "grid_auto_flow": null,
            "grid_area": null,
            "grid_template_columns": null,
            "flex": null,
            "_model_name": "LayoutModel",
            "justify_items": null,
            "grid_row": null,
            "max_height": null,
            "align_content": null,
            "visibility": null,
            "align_self": null,
            "height": null,
            "min_height": null,
            "padding": null,
            "grid_auto_rows": null,
            "grid_gap": null,
            "max_width": null,
            "order": null,
            "_view_module_version": "1.2.0",
            "grid_template_areas": null,
            "object_position": null,
            "object_fit": null,
            "grid_auto_columns": null,
            "margin": null,
            "display": null,
            "left": null
          }
        },
        "673d3ce819a8414fa3d2385ff80075d8": {
          "model_module": "@jupyter-widgets/controls",
          "model_name": "ProgressStyleModel",
          "model_module_version": "1.5.0",
          "state": {
            "_view_name": "StyleView",
            "_model_name": "ProgressStyleModel",
            "description_width": "",
            "_view_module": "@jupyter-widgets/base",
            "_model_module_version": "1.5.0",
            "_view_count": null,
            "_view_module_version": "1.2.0",
            "bar_color": null,
            "_model_module": "@jupyter-widgets/controls"
          }
        },
        "08cca9e6c52a43399e18eaaba5d5d3d0": {
          "model_module": "@jupyter-widgets/base",
          "model_name": "LayoutModel",
          "model_module_version": "1.2.0",
          "state": {
            "_view_name": "LayoutView",
            "grid_template_rows": null,
            "right": null,
            "justify_content": null,
            "_view_module": "@jupyter-widgets/base",
            "overflow": null,
            "_model_module_version": "1.2.0",
            "_view_count": null,
            "flex_flow": null,
            "width": null,
            "min_width": null,
            "border": null,
            "align_items": null,
            "bottom": null,
            "_model_module": "@jupyter-widgets/base",
            "top": null,
            "grid_column": null,
            "overflow_y": null,
            "overflow_x": null,
            "grid_auto_flow": null,
            "grid_area": null,
            "grid_template_columns": null,
            "flex": null,
            "_model_name": "LayoutModel",
            "justify_items": null,
            "grid_row": null,
            "max_height": null,
            "align_content": null,
            "visibility": null,
            "align_self": null,
            "height": null,
            "min_height": null,
            "padding": null,
            "grid_auto_rows": null,
            "grid_gap": null,
            "max_width": null,
            "order": null,
            "_view_module_version": "1.2.0",
            "grid_template_areas": null,
            "object_position": null,
            "object_fit": null,
            "grid_auto_columns": null,
            "margin": null,
            "display": null,
            "left": null
          }
        },
        "2a679bc7b4604d10ab158ec0ecf6a86f": {
          "model_module": "@jupyter-widgets/controls",
          "model_name": "DescriptionStyleModel",
          "model_module_version": "1.5.0",
          "state": {
            "_view_name": "StyleView",
            "_model_name": "DescriptionStyleModel",
            "description_width": "",
            "_view_module": "@jupyter-widgets/base",
            "_model_module_version": "1.5.0",
            "_view_count": null,
            "_view_module_version": "1.2.0",
            "_model_module": "@jupyter-widgets/controls"
          }
        },
        "87c76a81844d4364ae9a665f75ae4471": {
          "model_module": "@jupyter-widgets/base",
          "model_name": "LayoutModel",
          "model_module_version": "1.2.0",
          "state": {
            "_view_name": "LayoutView",
            "grid_template_rows": null,
            "right": null,
            "justify_content": null,
            "_view_module": "@jupyter-widgets/base",
            "overflow": null,
            "_model_module_version": "1.2.0",
            "_view_count": null,
            "flex_flow": null,
            "width": null,
            "min_width": null,
            "border": null,
            "align_items": null,
            "bottom": null,
            "_model_module": "@jupyter-widgets/base",
            "top": null,
            "grid_column": null,
            "overflow_y": null,
            "overflow_x": null,
            "grid_auto_flow": null,
            "grid_area": null,
            "grid_template_columns": null,
            "flex": null,
            "_model_name": "LayoutModel",
            "justify_items": null,
            "grid_row": null,
            "max_height": null,
            "align_content": null,
            "visibility": null,
            "align_self": null,
            "height": null,
            "min_height": null,
            "padding": null,
            "grid_auto_rows": null,
            "grid_gap": null,
            "max_width": null,
            "order": null,
            "_view_module_version": "1.2.0",
            "grid_template_areas": null,
            "object_position": null,
            "object_fit": null,
            "grid_auto_columns": null,
            "margin": null,
            "display": null,
            "left": null
          }
        },
        "bcb42053f6684a64a14b334d98dfa6db": {
          "model_module": "@jupyter-widgets/controls",
          "model_name": "HBoxModel",
          "model_module_version": "1.5.0",
          "state": {
            "_view_name": "HBoxView",
            "_dom_classes": [],
            "_model_name": "HBoxModel",
            "_view_module": "@jupyter-widgets/controls",
            "_model_module_version": "1.5.0",
            "_view_count": null,
            "_view_module_version": "1.5.0",
            "box_style": "",
            "layout": "IPY_MODEL_cf07234c06c9425c98e3f1919481a9c4",
            "_model_module": "@jupyter-widgets/controls",
            "children": [
              "IPY_MODEL_576d36f767e04db6ae3a56e88501343d",
              "IPY_MODEL_6d428f67deed42eaa87d270c845b0890",
              "IPY_MODEL_510dfd2b9b8646b08887d2f25a8b01cc"
            ]
          }
        },
        "cf07234c06c9425c98e3f1919481a9c4": {
          "model_module": "@jupyter-widgets/base",
          "model_name": "LayoutModel",
          "model_module_version": "1.2.0",
          "state": {
            "_view_name": "LayoutView",
            "grid_template_rows": null,
            "right": null,
            "justify_content": null,
            "_view_module": "@jupyter-widgets/base",
            "overflow": null,
            "_model_module_version": "1.2.0",
            "_view_count": null,
            "flex_flow": null,
            "width": null,
            "min_width": null,
            "border": null,
            "align_items": null,
            "bottom": null,
            "_model_module": "@jupyter-widgets/base",
            "top": null,
            "grid_column": null,
            "overflow_y": null,
            "overflow_x": null,
            "grid_auto_flow": null,
            "grid_area": null,
            "grid_template_columns": null,
            "flex": null,
            "_model_name": "LayoutModel",
            "justify_items": null,
            "grid_row": null,
            "max_height": null,
            "align_content": null,
            "visibility": null,
            "align_self": null,
            "height": null,
            "min_height": null,
            "padding": null,
            "grid_auto_rows": null,
            "grid_gap": null,
            "max_width": null,
            "order": null,
            "_view_module_version": "1.2.0",
            "grid_template_areas": null,
            "object_position": null,
            "object_fit": null,
            "grid_auto_columns": null,
            "margin": null,
            "display": null,
            "left": null
          }
        },
        "576d36f767e04db6ae3a56e88501343d": {
          "model_module": "@jupyter-widgets/controls",
          "model_name": "HTMLModel",
          "model_module_version": "1.5.0",
          "state": {
            "_view_name": "HTMLView",
            "style": "IPY_MODEL_e8e512f052964786adc1c7c0a9e965fb",
            "_dom_classes": [],
            "description": "",
            "_model_name": "HTMLModel",
            "placeholder": "​",
            "_view_module": "@jupyter-widgets/controls",
            "_model_module_version": "1.5.0",
            "value": "Downloading: 100%",
            "_view_count": null,
            "_view_module_version": "1.5.0",
            "description_tooltip": null,
            "_model_module": "@jupyter-widgets/controls",
            "layout": "IPY_MODEL_f38d662c52404f3484f338d4776f9c23"
          }
        },
        "6d428f67deed42eaa87d270c845b0890": {
          "model_module": "@jupyter-widgets/controls",
          "model_name": "FloatProgressModel",
          "model_module_version": "1.5.0",
          "state": {
            "_view_name": "ProgressView",
            "style": "IPY_MODEL_7b8d123fb9ff48018a060af27fd79ff9",
            "_dom_classes": [],
            "description": "",
            "_model_name": "FloatProgressModel",
            "bar_style": "success",
            "max": 570,
            "_view_module": "@jupyter-widgets/controls",
            "_model_module_version": "1.5.0",
            "value": 570,
            "_view_count": null,
            "_view_module_version": "1.5.0",
            "orientation": "horizontal",
            "min": 0,
            "description_tooltip": null,
            "_model_module": "@jupyter-widgets/controls",
            "layout": "IPY_MODEL_a1ef59b809bf4364a7def3710d933041"
          }
        },
        "510dfd2b9b8646b08887d2f25a8b01cc": {
          "model_module": "@jupyter-widgets/controls",
          "model_name": "HTMLModel",
          "model_module_version": "1.5.0",
          "state": {
            "_view_name": "HTMLView",
            "style": "IPY_MODEL_ac3c981c43fd486a8369f8edf27f9aa0",
            "_dom_classes": [],
            "description": "",
            "_model_name": "HTMLModel",
            "placeholder": "​",
            "_view_module": "@jupyter-widgets/controls",
            "_model_module_version": "1.5.0",
            "value": " 570/570 [00:00&lt;00:00, 12.9kB/s]",
            "_view_count": null,
            "_view_module_version": "1.5.0",
            "description_tooltip": null,
            "_model_module": "@jupyter-widgets/controls",
            "layout": "IPY_MODEL_f5ee0bad34d844fea3c084b4feb898fc"
          }
        },
        "e8e512f052964786adc1c7c0a9e965fb": {
          "model_module": "@jupyter-widgets/controls",
          "model_name": "DescriptionStyleModel",
          "model_module_version": "1.5.0",
          "state": {
            "_view_name": "StyleView",
            "_model_name": "DescriptionStyleModel",
            "description_width": "",
            "_view_module": "@jupyter-widgets/base",
            "_model_module_version": "1.5.0",
            "_view_count": null,
            "_view_module_version": "1.2.0",
            "_model_module": "@jupyter-widgets/controls"
          }
        },
        "f38d662c52404f3484f338d4776f9c23": {
          "model_module": "@jupyter-widgets/base",
          "model_name": "LayoutModel",
          "model_module_version": "1.2.0",
          "state": {
            "_view_name": "LayoutView",
            "grid_template_rows": null,
            "right": null,
            "justify_content": null,
            "_view_module": "@jupyter-widgets/base",
            "overflow": null,
            "_model_module_version": "1.2.0",
            "_view_count": null,
            "flex_flow": null,
            "width": null,
            "min_width": null,
            "border": null,
            "align_items": null,
            "bottom": null,
            "_model_module": "@jupyter-widgets/base",
            "top": null,
            "grid_column": null,
            "overflow_y": null,
            "overflow_x": null,
            "grid_auto_flow": null,
            "grid_area": null,
            "grid_template_columns": null,
            "flex": null,
            "_model_name": "LayoutModel",
            "justify_items": null,
            "grid_row": null,
            "max_height": null,
            "align_content": null,
            "visibility": null,
            "align_self": null,
            "height": null,
            "min_height": null,
            "padding": null,
            "grid_auto_rows": null,
            "grid_gap": null,
            "max_width": null,
            "order": null,
            "_view_module_version": "1.2.0",
            "grid_template_areas": null,
            "object_position": null,
            "object_fit": null,
            "grid_auto_columns": null,
            "margin": null,
            "display": null,
            "left": null
          }
        },
        "7b8d123fb9ff48018a060af27fd79ff9": {
          "model_module": "@jupyter-widgets/controls",
          "model_name": "ProgressStyleModel",
          "model_module_version": "1.5.0",
          "state": {
            "_view_name": "StyleView",
            "_model_name": "ProgressStyleModel",
            "description_width": "",
            "_view_module": "@jupyter-widgets/base",
            "_model_module_version": "1.5.0",
            "_view_count": null,
            "_view_module_version": "1.2.0",
            "bar_color": null,
            "_model_module": "@jupyter-widgets/controls"
          }
        },
        "a1ef59b809bf4364a7def3710d933041": {
          "model_module": "@jupyter-widgets/base",
          "model_name": "LayoutModel",
          "model_module_version": "1.2.0",
          "state": {
            "_view_name": "LayoutView",
            "grid_template_rows": null,
            "right": null,
            "justify_content": null,
            "_view_module": "@jupyter-widgets/base",
            "overflow": null,
            "_model_module_version": "1.2.0",
            "_view_count": null,
            "flex_flow": null,
            "width": null,
            "min_width": null,
            "border": null,
            "align_items": null,
            "bottom": null,
            "_model_module": "@jupyter-widgets/base",
            "top": null,
            "grid_column": null,
            "overflow_y": null,
            "overflow_x": null,
            "grid_auto_flow": null,
            "grid_area": null,
            "grid_template_columns": null,
            "flex": null,
            "_model_name": "LayoutModel",
            "justify_items": null,
            "grid_row": null,
            "max_height": null,
            "align_content": null,
            "visibility": null,
            "align_self": null,
            "height": null,
            "min_height": null,
            "padding": null,
            "grid_auto_rows": null,
            "grid_gap": null,
            "max_width": null,
            "order": null,
            "_view_module_version": "1.2.0",
            "grid_template_areas": null,
            "object_position": null,
            "object_fit": null,
            "grid_auto_columns": null,
            "margin": null,
            "display": null,
            "left": null
          }
        },
        "ac3c981c43fd486a8369f8edf27f9aa0": {
          "model_module": "@jupyter-widgets/controls",
          "model_name": "DescriptionStyleModel",
          "model_module_version": "1.5.0",
          "state": {
            "_view_name": "StyleView",
            "_model_name": "DescriptionStyleModel",
            "description_width": "",
            "_view_module": "@jupyter-widgets/base",
            "_model_module_version": "1.5.0",
            "_view_count": null,
            "_view_module_version": "1.2.0",
            "_model_module": "@jupyter-widgets/controls"
          }
        },
        "f5ee0bad34d844fea3c084b4feb898fc": {
          "model_module": "@jupyter-widgets/base",
          "model_name": "LayoutModel",
          "model_module_version": "1.2.0",
          "state": {
            "_view_name": "LayoutView",
            "grid_template_rows": null,
            "right": null,
            "justify_content": null,
            "_view_module": "@jupyter-widgets/base",
            "overflow": null,
            "_model_module_version": "1.2.0",
            "_view_count": null,
            "flex_flow": null,
            "width": null,
            "min_width": null,
            "border": null,
            "align_items": null,
            "bottom": null,
            "_model_module": "@jupyter-widgets/base",
            "top": null,
            "grid_column": null,
            "overflow_y": null,
            "overflow_x": null,
            "grid_auto_flow": null,
            "grid_area": null,
            "grid_template_columns": null,
            "flex": null,
            "_model_name": "LayoutModel",
            "justify_items": null,
            "grid_row": null,
            "max_height": null,
            "align_content": null,
            "visibility": null,
            "align_self": null,
            "height": null,
            "min_height": null,
            "padding": null,
            "grid_auto_rows": null,
            "grid_gap": null,
            "max_width": null,
            "order": null,
            "_view_module_version": "1.2.0",
            "grid_template_areas": null,
            "object_position": null,
            "object_fit": null,
            "grid_auto_columns": null,
            "margin": null,
            "display": null,
            "left": null
          }
        },
        "abd691e703ed460fbf94fc0ca94a6531": {
          "model_module": "@jupyter-widgets/controls",
          "model_name": "HBoxModel",
          "model_module_version": "1.5.0",
          "state": {
            "_view_name": "HBoxView",
            "_dom_classes": [],
            "_model_name": "HBoxModel",
            "_view_module": "@jupyter-widgets/controls",
            "_model_module_version": "1.5.0",
            "_view_count": null,
            "_view_module_version": "1.5.0",
            "box_style": "",
            "layout": "IPY_MODEL_9eb9f29436d549b8a071be9aa73ac76d",
            "_model_module": "@jupyter-widgets/controls",
            "children": [
              "IPY_MODEL_d37a813708714492964c5f82acb08788",
              "IPY_MODEL_5616dc3de57446b0a3fcab4d232767a4",
              "IPY_MODEL_3dbb0fa834774fb78f1ee631ec281367"
            ]
          }
        },
        "9eb9f29436d549b8a071be9aa73ac76d": {
          "model_module": "@jupyter-widgets/base",
          "model_name": "LayoutModel",
          "model_module_version": "1.2.0",
          "state": {
            "_view_name": "LayoutView",
            "grid_template_rows": null,
            "right": null,
            "justify_content": null,
            "_view_module": "@jupyter-widgets/base",
            "overflow": null,
            "_model_module_version": "1.2.0",
            "_view_count": null,
            "flex_flow": null,
            "width": null,
            "min_width": null,
            "border": null,
            "align_items": null,
            "bottom": null,
            "_model_module": "@jupyter-widgets/base",
            "top": null,
            "grid_column": null,
            "overflow_y": null,
            "overflow_x": null,
            "grid_auto_flow": null,
            "grid_area": null,
            "grid_template_columns": null,
            "flex": null,
            "_model_name": "LayoutModel",
            "justify_items": null,
            "grid_row": null,
            "max_height": null,
            "align_content": null,
            "visibility": null,
            "align_self": null,
            "height": null,
            "min_height": null,
            "padding": null,
            "grid_auto_rows": null,
            "grid_gap": null,
            "max_width": null,
            "order": null,
            "_view_module_version": "1.2.0",
            "grid_template_areas": null,
            "object_position": null,
            "object_fit": null,
            "grid_auto_columns": null,
            "margin": null,
            "display": null,
            "left": null
          }
        },
        "d37a813708714492964c5f82acb08788": {
          "model_module": "@jupyter-widgets/controls",
          "model_name": "HTMLModel",
          "model_module_version": "1.5.0",
          "state": {
            "_view_name": "HTMLView",
            "style": "IPY_MODEL_2f4a2bb7279d4a77b31ac530845dced8",
            "_dom_classes": [],
            "description": "",
            "_model_name": "HTMLModel",
            "placeholder": "​",
            "_view_module": "@jupyter-widgets/controls",
            "_model_module_version": "1.5.0",
            "value": "Downloading: 100%",
            "_view_count": null,
            "_view_module_version": "1.5.0",
            "description_tooltip": null,
            "_model_module": "@jupyter-widgets/controls",
            "layout": "IPY_MODEL_57dc12360c7a477596b0588a813718dc"
          }
        },
        "5616dc3de57446b0a3fcab4d232767a4": {
          "model_module": "@jupyter-widgets/controls",
          "model_name": "FloatProgressModel",
          "model_module_version": "1.5.0",
          "state": {
            "_view_name": "ProgressView",
            "style": "IPY_MODEL_3d75f24fcb8b441cb5a00c0a5b5658a6",
            "_dom_classes": [],
            "description": "",
            "_model_name": "FloatProgressModel",
            "bar_style": "success",
            "max": 440473133,
            "_view_module": "@jupyter-widgets/controls",
            "_model_module_version": "1.5.0",
            "value": 440473133,
            "_view_count": null,
            "_view_module_version": "1.5.0",
            "orientation": "horizontal",
            "min": 0,
            "description_tooltip": null,
            "_model_module": "@jupyter-widgets/controls",
            "layout": "IPY_MODEL_e1de5dd3f25f40a0b94371e53b5e1c43"
          }
        },
        "3dbb0fa834774fb78f1ee631ec281367": {
          "model_module": "@jupyter-widgets/controls",
          "model_name": "HTMLModel",
          "model_module_version": "1.5.0",
          "state": {
            "_view_name": "HTMLView",
            "style": "IPY_MODEL_008af85cc1da44fda5840529bfe7c166",
            "_dom_classes": [],
            "description": "",
            "_model_name": "HTMLModel",
            "placeholder": "​",
            "_view_module": "@jupyter-widgets/controls",
            "_model_module_version": "1.5.0",
            "value": " 420M/420M [00:15&lt;00:00, 29.3MB/s]",
            "_view_count": null,
            "_view_module_version": "1.5.0",
            "description_tooltip": null,
            "_model_module": "@jupyter-widgets/controls",
            "layout": "IPY_MODEL_613fc024acd6404d87b45ff356d947c3"
          }
        },
        "2f4a2bb7279d4a77b31ac530845dced8": {
          "model_module": "@jupyter-widgets/controls",
          "model_name": "DescriptionStyleModel",
          "model_module_version": "1.5.0",
          "state": {
            "_view_name": "StyleView",
            "_model_name": "DescriptionStyleModel",
            "description_width": "",
            "_view_module": "@jupyter-widgets/base",
            "_model_module_version": "1.5.0",
            "_view_count": null,
            "_view_module_version": "1.2.0",
            "_model_module": "@jupyter-widgets/controls"
          }
        },
        "57dc12360c7a477596b0588a813718dc": {
          "model_module": "@jupyter-widgets/base",
          "model_name": "LayoutModel",
          "model_module_version": "1.2.0",
          "state": {
            "_view_name": "LayoutView",
            "grid_template_rows": null,
            "right": null,
            "justify_content": null,
            "_view_module": "@jupyter-widgets/base",
            "overflow": null,
            "_model_module_version": "1.2.0",
            "_view_count": null,
            "flex_flow": null,
            "width": null,
            "min_width": null,
            "border": null,
            "align_items": null,
            "bottom": null,
            "_model_module": "@jupyter-widgets/base",
            "top": null,
            "grid_column": null,
            "overflow_y": null,
            "overflow_x": null,
            "grid_auto_flow": null,
            "grid_area": null,
            "grid_template_columns": null,
            "flex": null,
            "_model_name": "LayoutModel",
            "justify_items": null,
            "grid_row": null,
            "max_height": null,
            "align_content": null,
            "visibility": null,
            "align_self": null,
            "height": null,
            "min_height": null,
            "padding": null,
            "grid_auto_rows": null,
            "grid_gap": null,
            "max_width": null,
            "order": null,
            "_view_module_version": "1.2.0",
            "grid_template_areas": null,
            "object_position": null,
            "object_fit": null,
            "grid_auto_columns": null,
            "margin": null,
            "display": null,
            "left": null
          }
        },
        "3d75f24fcb8b441cb5a00c0a5b5658a6": {
          "model_module": "@jupyter-widgets/controls",
          "model_name": "ProgressStyleModel",
          "model_module_version": "1.5.0",
          "state": {
            "_view_name": "StyleView",
            "_model_name": "ProgressStyleModel",
            "description_width": "",
            "_view_module": "@jupyter-widgets/base",
            "_model_module_version": "1.5.0",
            "_view_count": null,
            "_view_module_version": "1.2.0",
            "bar_color": null,
            "_model_module": "@jupyter-widgets/controls"
          }
        },
        "e1de5dd3f25f40a0b94371e53b5e1c43": {
          "model_module": "@jupyter-widgets/base",
          "model_name": "LayoutModel",
          "model_module_version": "1.2.0",
          "state": {
            "_view_name": "LayoutView",
            "grid_template_rows": null,
            "right": null,
            "justify_content": null,
            "_view_module": "@jupyter-widgets/base",
            "overflow": null,
            "_model_module_version": "1.2.0",
            "_view_count": null,
            "flex_flow": null,
            "width": null,
            "min_width": null,
            "border": null,
            "align_items": null,
            "bottom": null,
            "_model_module": "@jupyter-widgets/base",
            "top": null,
            "grid_column": null,
            "overflow_y": null,
            "overflow_x": null,
            "grid_auto_flow": null,
            "grid_area": null,
            "grid_template_columns": null,
            "flex": null,
            "_model_name": "LayoutModel",
            "justify_items": null,
            "grid_row": null,
            "max_height": null,
            "align_content": null,
            "visibility": null,
            "align_self": null,
            "height": null,
            "min_height": null,
            "padding": null,
            "grid_auto_rows": null,
            "grid_gap": null,
            "max_width": null,
            "order": null,
            "_view_module_version": "1.2.0",
            "grid_template_areas": null,
            "object_position": null,
            "object_fit": null,
            "grid_auto_columns": null,
            "margin": null,
            "display": null,
            "left": null
          }
        },
        "008af85cc1da44fda5840529bfe7c166": {
          "model_module": "@jupyter-widgets/controls",
          "model_name": "DescriptionStyleModel",
          "model_module_version": "1.5.0",
          "state": {
            "_view_name": "StyleView",
            "_model_name": "DescriptionStyleModel",
            "description_width": "",
            "_view_module": "@jupyter-widgets/base",
            "_model_module_version": "1.5.0",
            "_view_count": null,
            "_view_module_version": "1.2.0",
            "_model_module": "@jupyter-widgets/controls"
          }
        },
        "613fc024acd6404d87b45ff356d947c3": {
          "model_module": "@jupyter-widgets/base",
          "model_name": "LayoutModel",
          "model_module_version": "1.2.0",
          "state": {
            "_view_name": "LayoutView",
            "grid_template_rows": null,
            "right": null,
            "justify_content": null,
            "_view_module": "@jupyter-widgets/base",
            "overflow": null,
            "_model_module_version": "1.2.0",
            "_view_count": null,
            "flex_flow": null,
            "width": null,
            "min_width": null,
            "border": null,
            "align_items": null,
            "bottom": null,
            "_model_module": "@jupyter-widgets/base",
            "top": null,
            "grid_column": null,
            "overflow_y": null,
            "overflow_x": null,
            "grid_auto_flow": null,
            "grid_area": null,
            "grid_template_columns": null,
            "flex": null,
            "_model_name": "LayoutModel",
            "justify_items": null,
            "grid_row": null,
            "max_height": null,
            "align_content": null,
            "visibility": null,
            "align_self": null,
            "height": null,
            "min_height": null,
            "padding": null,
            "grid_auto_rows": null,
            "grid_gap": null,
            "max_width": null,
            "order": null,
            "_view_module_version": "1.2.0",
            "grid_template_areas": null,
            "object_position": null,
            "object_fit": null,
            "grid_auto_columns": null,
            "margin": null,
            "display": null,
            "left": null
          }
        }
      }
    }
  },
  "cells": [
    {
      "cell_type": "code",
      "metadata": {
        "id": "cEXrlTZzTONe",
        "colab": {
          "base_uri": "https://localhost:8080/"
        },
        "outputId": "eb713c1b-eadd-49b1-f72d-ee21553db08b"
      },
      "source": [
        "from google.colab import drive, files\n",
        "drive.mount('/content/drive')"
      ],
      "id": "cEXrlTZzTONe",
      "execution_count": null,
      "outputs": [
        {
          "output_type": "stream",
          "name": "stdout",
          "text": [
            "Mounted at /content/drive\n"
          ]
        }
      ]
    },
    {
      "cell_type": "code",
      "metadata": {
        "id": "IzUQGNmpS-8F",
        "colab": {
          "base_uri": "https://localhost:8080/"
        },
        "outputId": "b1ea86d9-829f-4e76-8dbb-388b733948d2"
      },
      "source": [
        "!pip3 install transformers\n",
        "!cp /content/drive/MyDrive/fake-news-explainability/utils_fake_news.py ."
      ],
      "id": "IzUQGNmpS-8F",
      "execution_count": null,
      "outputs": [
        {
          "output_type": "stream",
          "name": "stdout",
          "text": [
            "Collecting transformers\n",
            "  Downloading transformers-4.12.3-py3-none-any.whl (3.1 MB)\n",
            "\u001b[K     |████████████████████████████████| 3.1 MB 5.3 MB/s \n",
            "\u001b[?25hCollecting tokenizers<0.11,>=0.10.1\n",
            "  Downloading tokenizers-0.10.3-cp37-cp37m-manylinux_2_5_x86_64.manylinux1_x86_64.manylinux_2_12_x86_64.manylinux2010_x86_64.whl (3.3 MB)\n",
            "\u001b[K     |████████████████████████████████| 3.3 MB 19.7 MB/s \n",
            "\u001b[?25hRequirement already satisfied: importlib-metadata in /usr/local/lib/python3.7/dist-packages (from transformers) (4.8.2)\n",
            "Requirement already satisfied: regex!=2019.12.17 in /usr/local/lib/python3.7/dist-packages (from transformers) (2019.12.20)\n",
            "Collecting sacremoses\n",
            "  Downloading sacremoses-0.0.46-py3-none-any.whl (895 kB)\n",
            "\u001b[K     |████████████████████████████████| 895 kB 25.8 MB/s \n",
            "\u001b[?25hRequirement already satisfied: filelock in /usr/local/lib/python3.7/dist-packages (from transformers) (3.3.2)\n",
            "Collecting huggingface-hub<1.0,>=0.1.0\n",
            "  Downloading huggingface_hub-0.1.2-py3-none-any.whl (59 kB)\n",
            "\u001b[K     |████████████████████████████████| 59 kB 6.3 MB/s \n",
            "\u001b[?25hRequirement already satisfied: requests in /usr/local/lib/python3.7/dist-packages (from transformers) (2.23.0)\n",
            "Collecting pyyaml>=5.1\n",
            "  Downloading PyYAML-6.0-cp37-cp37m-manylinux_2_5_x86_64.manylinux1_x86_64.manylinux_2_12_x86_64.manylinux2010_x86_64.whl (596 kB)\n",
            "\u001b[K     |████████████████████████████████| 596 kB 36.9 MB/s \n",
            "\u001b[?25hRequirement already satisfied: numpy>=1.17 in /usr/local/lib/python3.7/dist-packages (from transformers) (1.19.5)\n",
            "Requirement already satisfied: packaging>=20.0 in /usr/local/lib/python3.7/dist-packages (from transformers) (21.2)\n",
            "Requirement already satisfied: tqdm>=4.27 in /usr/local/lib/python3.7/dist-packages (from transformers) (4.62.3)\n",
            "Requirement already satisfied: typing-extensions>=3.7.4.3 in /usr/local/lib/python3.7/dist-packages (from huggingface-hub<1.0,>=0.1.0->transformers) (3.10.0.2)\n",
            "Requirement already satisfied: pyparsing<3,>=2.0.2 in /usr/local/lib/python3.7/dist-packages (from packaging>=20.0->transformers) (2.4.7)\n",
            "Requirement already satisfied: zipp>=0.5 in /usr/local/lib/python3.7/dist-packages (from importlib-metadata->transformers) (3.6.0)\n",
            "Requirement already satisfied: certifi>=2017.4.17 in /usr/local/lib/python3.7/dist-packages (from requests->transformers) (2021.10.8)\n",
            "Requirement already satisfied: chardet<4,>=3.0.2 in /usr/local/lib/python3.7/dist-packages (from requests->transformers) (3.0.4)\n",
            "Requirement already satisfied: urllib3!=1.25.0,!=1.25.1,<1.26,>=1.21.1 in /usr/local/lib/python3.7/dist-packages (from requests->transformers) (1.24.3)\n",
            "Requirement already satisfied: idna<3,>=2.5 in /usr/local/lib/python3.7/dist-packages (from requests->transformers) (2.10)\n",
            "Requirement already satisfied: six in /usr/local/lib/python3.7/dist-packages (from sacremoses->transformers) (1.15.0)\n",
            "Requirement already satisfied: click in /usr/local/lib/python3.7/dist-packages (from sacremoses->transformers) (7.1.2)\n",
            "Requirement already satisfied: joblib in /usr/local/lib/python3.7/dist-packages (from sacremoses->transformers) (1.1.0)\n",
            "Installing collected packages: pyyaml, tokenizers, sacremoses, huggingface-hub, transformers\n",
            "  Attempting uninstall: pyyaml\n",
            "    Found existing installation: PyYAML 3.13\n",
            "    Uninstalling PyYAML-3.13:\n",
            "      Successfully uninstalled PyYAML-3.13\n",
            "Successfully installed huggingface-hub-0.1.2 pyyaml-6.0 sacremoses-0.0.46 tokenizers-0.10.3 transformers-4.12.3\n"
          ]
        }
      ]
    },
    {
      "cell_type": "code",
      "metadata": {
        "id": "clean-insulation",
        "colab": {
          "base_uri": "https://localhost:8080/",
          "height": 145,
          "referenced_widgets": [
            "7bd9efdb2d9a4bbb8b27b7cead0643f6",
            "0e272e35b0d24a0b951d9758b80c6f0a",
            "7886330bd5cf4939af252163ccb4cc3c",
            "3461a47e3fa84859896777f17c7491c7",
            "0020d909c38544d9ac69530b00a9fe84",
            "39e6ee97f4a44ea4b167206abd45022a",
            "a7d71279bfc44d9ebc4a4aa2128601c8",
            "7fd28754e8824d2a868b364744fa40b8",
            "06ab132ec39f4e6e90639c3d7134f5aa",
            "50e6aa166eea43239c55b08a489c8ba0",
            "4b506768a5aa4a56b19aaae21a00aac5",
            "108a7b25cbfa4269accd9e172612fbf1",
            "f8f8f567ad494da297daa0fd939b7d8b",
            "b5d47a9ad19b44debb99434cf3a5fca9",
            "b887e9ddd6d54c7e9d272505474cae8d",
            "0f033eb9fa3449488cf494638edcd024",
            "024dbeedf41f4452830d072f36b8a911",
            "b3186480264246bf8e0d407b3106e3b9",
            "b3132a66c2174d85b6312bf9f57135e9",
            "b5ce1a54318943c990c8b4d39cadf753",
            "4c49529893c04a488be9016a945dd8c6",
            "438de42da04c4a0ab472d71f586c2297",
            "030f64405bd6411a838c3e69833e2c55",
            "e17b27f586614664966dc109477985c7",
            "89ffad779c0d4f32bc6ce64cc39c6437",
            "60181654efde4bc8b21a67c4e5335209",
            "3fbada23a67548358ef559c4858b5de5",
            "412b2249c6d4400fa7b9404fc341c2bd",
            "e0f3497160e247238d69ca98d0f8e702",
            "673d3ce819a8414fa3d2385ff80075d8",
            "08cca9e6c52a43399e18eaaba5d5d3d0",
            "2a679bc7b4604d10ab158ec0ecf6a86f",
            "87c76a81844d4364ae9a665f75ae4471",
            "bcb42053f6684a64a14b334d98dfa6db",
            "cf07234c06c9425c98e3f1919481a9c4",
            "576d36f767e04db6ae3a56e88501343d",
            "6d428f67deed42eaa87d270c845b0890",
            "510dfd2b9b8646b08887d2f25a8b01cc",
            "e8e512f052964786adc1c7c0a9e965fb",
            "f38d662c52404f3484f338d4776f9c23",
            "7b8d123fb9ff48018a060af27fd79ff9",
            "a1ef59b809bf4364a7def3710d933041",
            "ac3c981c43fd486a8369f8edf27f9aa0",
            "f5ee0bad34d844fea3c084b4feb898fc"
          ]
        },
        "outputId": "22f1d2eb-1288-4177-b979-d91fdc7a6a74"
      },
      "source": [
        "import pandas as pd\n",
        "import numpy as np\n",
        "import json, re\n",
        "from tqdm import tqdm_notebook\n",
        "from uuid import uuid4\n",
        "import time\n",
        "import datetime\n",
        "import random\n",
        "import itertools\n",
        "import os\n",
        "\n",
        "## Torch Modules\n",
        "import torch\n",
        "import torch.optim as optim\n",
        "import torch.nn as nn\n",
        "import torch.nn.functional as F\n",
        "from torch.autograd import Variable\n",
        "from torch.utils.data import (\n",
        "    Dataset, \n",
        "    DataLoader,\n",
        "    TensorDataset, \n",
        "    random_split, \n",
        "    RandomSampler, \n",
        "    SequentialSampler)\n",
        "\n",
        "# Transformers\n",
        "from transformers import (\n",
        "    BertModel,\n",
        "    BertForSequenceClassification,\n",
        "    BertTokenizer,\n",
        "    RobertaForSequenceClassification,\n",
        "    RobertaTokenizer,\n",
        "    AdamW,\n",
        "    get_linear_schedule_with_warmup)\n",
        "\n",
        "# Visualization\n",
        "import matplotlib.pyplot as plt\n",
        "import seaborn as sns\n",
        "from sklearn.metrics import confusion_matrix\n",
        "\n",
        "%run utils_fake_news.py"
      ],
      "id": "clean-insulation",
      "execution_count": null,
      "outputs": [
        {
          "output_type": "display_data",
          "data": {
            "application/vnd.jupyter.widget-view+json": {
              "model_id": "7bd9efdb2d9a4bbb8b27b7cead0643f6",
              "version_minor": 0,
              "version_major": 2
            },
            "text/plain": [
              "Downloading:   0%|          | 0.00/226k [00:00<?, ?B/s]"
            ]
          },
          "metadata": {}
        },
        {
          "output_type": "display_data",
          "data": {
            "application/vnd.jupyter.widget-view+json": {
              "model_id": "108a7b25cbfa4269accd9e172612fbf1",
              "version_minor": 0,
              "version_major": 2
            },
            "text/plain": [
              "Downloading:   0%|          | 0.00/28.0 [00:00<?, ?B/s]"
            ]
          },
          "metadata": {}
        },
        {
          "output_type": "display_data",
          "data": {
            "application/vnd.jupyter.widget-view+json": {
              "model_id": "030f64405bd6411a838c3e69833e2c55",
              "version_minor": 0,
              "version_major": 2
            },
            "text/plain": [
              "Downloading:   0%|          | 0.00/455k [00:00<?, ?B/s]"
            ]
          },
          "metadata": {}
        },
        {
          "output_type": "display_data",
          "data": {
            "application/vnd.jupyter.widget-view+json": {
              "model_id": "bcb42053f6684a64a14b334d98dfa6db",
              "version_minor": 0,
              "version_major": 2
            },
            "text/plain": [
              "Downloading:   0%|          | 0.00/570 [00:00<?, ?B/s]"
            ]
          },
          "metadata": {}
        }
      ]
    },
    {
      "cell_type": "markdown",
      "metadata": {
        "id": "zQVCTufK2zZI"
      },
      "source": [
        "## Model & Training Function"
      ],
      "id": "zQVCTufK2zZI"
    },
    {
      "cell_type": "code",
      "metadata": {
        "id": "zFk_Xt8J6bra"
      },
      "source": [
        "def train():\n",
        "    total_t0 = time.time()\n",
        "    for epoch_i in range(0, epochs):\n",
        "        \n",
        "        print('======== Epoch {:} / {:} ========'.format(epoch_i + 1, epochs))\n",
        "        print('Training...')\n",
        "\n",
        "        t0 = time.time()\n",
        "        total_train_loss = 0\n",
        "        bert_model.train()\n",
        "\n",
        "        for step, batch in enumerate(bert_train_dataloader):\n",
        "\n",
        "            # Progress update every 40 batches.\n",
        "            if step % 40 == 0 and not step == 0:\n",
        "                elapsed = format_time(time.time() - t0)\n",
        "                print('  Batch {:>5,}  of  {:>5,}.    Elapsed: {:}.'.format(step, len(bert_train_dataloader), elapsed))\n",
        "\n",
        "            # Unpack batch\n",
        "            b_input_ids = batch[0].to(device)\n",
        "            b_input_mask = batch[1].to(device)\n",
        "            b_labels = batch[2].to(device)\n",
        "\n",
        "            # Zero grads\n",
        "            bert_model.zero_grad()        \n",
        "\n",
        "            # Forward pass\n",
        "            output = bert_model(b_input_ids, \n",
        "                                token_type_ids=None, \n",
        "                                attention_mask=b_input_mask, \n",
        "                                labels=b_labels)\n",
        "            # Accumulate loss\n",
        "            total_train_loss += output[0].item()\n",
        "\n",
        "            # Backward pass\n",
        "            output[0].backward()\n",
        "\n",
        "            # Clip the norm of the gradients to 1.0.\n",
        "            # This is to help prevent the \"exploding gradients\" problem.\n",
        "            torch.nn.utils.clip_grad_norm_(bert_model.parameters(), 1.0)\n",
        "\n",
        "            # Update parameters and take a step using the computed gradient.\n",
        "            # The bert_optimizer dictates the \"update rule\"--how the parameters are\n",
        "            # modified based on their gradients, the learning rate, etc.\n",
        "            bert_optimizer.step()\n",
        "\n",
        "            # Update the learning rate.\n",
        "            bert_scheduler.step()\n",
        "\n",
        "        # Calculate the average loss over all of the batches.\n",
        "        avg_train_loss = total_train_loss / len(bert_train_dataloader)            \n",
        "        \n",
        "        # Measure how long this epoch took.\n",
        "        training_time = format_time(time.time() - t0)\n",
        "\n",
        "        print(\"\")\n",
        "        print(\"  Average training loss: {0:.2f}\".format(avg_train_loss))\n",
        "        print(\"  Training epoch took: {:}\".format(training_time))\n",
        "        \n",
        "        # Record all statistics from this epoch.\n",
        "        bert_training_stats.append(\n",
        "            {\n",
        "                'epoch': epoch_i + 1,\n",
        "                'Training Loss': avg_train_loss,\n",
        "                'Training Time': training_time,\n",
        "            }\n",
        "        )\n",
        "\n",
        "    print(\"\")\n",
        "    print(\"Training complete!\")\n",
        "\n",
        "    print(\"Total training took {:} (h:mm:ss)\".format(format_time(time.time()-total_t0)))"
      ],
      "id": "zFk_Xt8J6bra",
      "execution_count": null,
      "outputs": []
    },
    {
      "cell_type": "markdown",
      "metadata": {
        "id": "mXtHiLIT7ctT"
      },
      "source": [
        "## Load Data"
      ],
      "id": "mXtHiLIT7ctT"
    },
    {
      "cell_type": "code",
      "metadata": {
        "id": "sMNdJRH97fz6"
      },
      "source": [
        "# Run if the data has already been encoded\n",
        "# Load encoded Fake-News dataset\n",
        "df_train_encode = torch.load(\"/content/drive/MyDrive/fake-news-explainability/Data/Encoded/fake_news/training/fake_news.pt\")\n",
        "\n",
        "# Split into train and test\n",
        "train, test = torch.utils.data.random_split(df_train_encode, [14169, 6073])\n",
        "torch.save(train, '/content/drive/MyDrive/fake-news-explainability/Data/Encoded/fake_news/training/fake_news_train.pt')\n",
        "torch.save(test, '/content/drive/MyDrive/fake-news-explainability/Data/Encoded/fake_news/training/fake_news_test.pt')\n",
        "\n",
        "# Load data into dataloader\n",
        "batch_size = 32\n",
        "bert_train_dataloader = DataLoader(\n",
        "            train,  # The training samples.\n",
        "            batch_size = batch_size # Trains with this batch size.\n",
        ")"
      ],
      "id": "sMNdJRH97fz6",
      "execution_count": null,
      "outputs": []
    },
    {
      "cell_type": "markdown",
      "metadata": {
        "id": "2etwHPbK6gWV"
      },
      "source": [
        "## Training"
      ],
      "id": "2etwHPbK6gWV"
    },
    {
      "cell_type": "code",
      "metadata": {
        "id": "available-coffee",
        "colab": {
          "base_uri": "https://localhost:8080/",
          "height": 154,
          "referenced_widgets": [
            "abd691e703ed460fbf94fc0ca94a6531",
            "9eb9f29436d549b8a071be9aa73ac76d",
            "d37a813708714492964c5f82acb08788",
            "5616dc3de57446b0a3fcab4d232767a4",
            "3dbb0fa834774fb78f1ee631ec281367",
            "2f4a2bb7279d4a77b31ac530845dced8",
            "57dc12360c7a477596b0588a813718dc",
            "3d75f24fcb8b441cb5a00c0a5b5658a6",
            "e1de5dd3f25f40a0b94371e53b5e1c43",
            "008af85cc1da44fda5840529bfe7c166",
            "613fc024acd6404d87b45ff356d947c3"
          ]
        },
        "outputId": "667645e0-6b24-4472-a651-25a20de44088"
      },
      "source": [
        "# Device\n",
        "device = torch.device('cuda:0') if torch.cuda.is_available() else torch.device(\"cpu\")\n",
        "\n",
        "# BERT\n",
        "bert_tokenizer = BertTokenizer.from_pretrained(\"bert-base-uncased\")\n",
        "\n",
        "# Model\n",
        "bert_model = BertForSequenceClassification.from_pretrained(\"bert-base-uncased\",\n",
        "                                                           num_labels = 2,\n",
        "                                                           output_attentions = False,\n",
        "                                                           output_hidden_states = False\n",
        "                                                          ).to(device)\n",
        "\n",
        "# Optimizer\n",
        "bert_optimizer = AdamW(bert_model.parameters(),\n",
        "                  lr = 5e-5, # args.learning_rate - default is 5e-5\n",
        "                  eps = 1e-8 # args.adam_epsilon  - default is 1e-8.\n",
        "                )"
      ],
      "id": "available-coffee",
      "execution_count": null,
      "outputs": [
        {
          "output_type": "display_data",
          "data": {
            "application/vnd.jupyter.widget-view+json": {
              "model_id": "abd691e703ed460fbf94fc0ca94a6531",
              "version_minor": 0,
              "version_major": 2
            },
            "text/plain": [
              "Downloading:   0%|          | 0.00/420M [00:00<?, ?B/s]"
            ]
          },
          "metadata": {}
        },
        {
          "output_type": "stream",
          "name": "stderr",
          "text": [
            "Some weights of the model checkpoint at bert-base-uncased were not used when initializing BertForSequenceClassification: ['cls.predictions.transform.dense.bias', 'cls.seq_relationship.weight', 'cls.predictions.bias', 'cls.predictions.transform.LayerNorm.weight', 'cls.predictions.transform.dense.weight', 'cls.predictions.transform.LayerNorm.bias', 'cls.seq_relationship.bias', 'cls.predictions.decoder.weight']\n",
            "- This IS expected if you are initializing BertForSequenceClassification from the checkpoint of a model trained on another task or with another architecture (e.g. initializing a BertForSequenceClassification model from a BertForPreTraining model).\n",
            "- This IS NOT expected if you are initializing BertForSequenceClassification from the checkpoint of a model that you expect to be exactly identical (initializing a BertForSequenceClassification model from a BertForSequenceClassification model).\n",
            "Some weights of BertForSequenceClassification were not initialized from the model checkpoint at bert-base-uncased and are newly initialized: ['classifier.weight', 'classifier.bias']\n",
            "You should probably TRAIN this model on a down-stream task to be able to use it for predictions and inference.\n"
          ]
        }
      ]
    },
    {
      "cell_type": "code",
      "metadata": {
        "id": "duWztHOOkwRa"
      },
      "source": [
        "# Training Params\n",
        "bert_training_stats = []\n",
        "epochs = 10\n",
        "total_steps = len(bert_train_dataloader) * epochs\n",
        "\n",
        "# Learning rate scheduler\n",
        "bert_scheduler = get_linear_schedule_with_warmup(bert_optimizer, \n",
        "                                            num_warmup_steps = 0, # Default value in run_glue.py\n",
        "                                            num_training_steps = total_steps)"
      ],
      "id": "duWztHOOkwRa",
      "execution_count": null,
      "outputs": []
    },
    {
      "cell_type": "code",
      "metadata": {
        "id": "peaceful-fashion"
      },
      "source": [
        "# Train or load pre-trained\n",
        "bert_model_path = \"/content/drive/MyDrive/fake-news-explainability/Models/fn_model\"\n",
        "    \n",
        "if os.path.exists(bert_model_path):\n",
        "    bert_model = BertForSequenceClassification.from_pretrained(\n",
        "        bert_model_path, num_labels = 2).to(device)\n",
        "else:\n",
        "    train()\n",
        "    bert_model.save_pretrained(bert_model_path)"
      ],
      "id": "peaceful-fashion",
      "execution_count": null,
      "outputs": []
    },
    {
      "cell_type": "markdown",
      "metadata": {
        "id": "2x76cBsq4Tti"
      },
      "source": [
        "## Accuracy"
      ],
      "id": "2x76cBsq4Tti"
    },
    {
      "cell_type": "code",
      "metadata": {
        "id": "CdaDCrGQPWeJ"
      },
      "source": [
        "import itertools\n",
        "def evaluate(bert_dataloader, bert_model):\n",
        "    # Generate predictions\n",
        "    outputs = []\n",
        "    labels = []\n",
        "    with torch.no_grad():\n",
        "        for step, batch in enumerate(bert_dataloader):\n",
        "            # Unpack batch\n",
        "            b_input_ids = batch[0].to(device)\n",
        "            b_input_mask = batch[1].to(device)\n",
        "            b_labels = batch[2].to(device)\n",
        "            \n",
        "            # Forward pass\n",
        "            output = bert_model(b_input_ids, b_input_mask)\n",
        "            outputs.append(output)   \n",
        "\n",
        "            # Keep labels\n",
        "            labels.append(b_labels)     \n",
        "            \n",
        "    # Stack outputs\n",
        "    outputs = torch.vstack([item[0].detach() for item in outputs])\n",
        "\n",
        "    # Stack labels\n",
        "    labs = [list(i.cpu().numpy()) for i in labels]\n",
        "    labs = np.array(list(itertools.chain(*labs)))\n",
        "\n",
        "    return outputs, labs"
      ],
      "id": "CdaDCrGQPWeJ",
      "execution_count": null,
      "outputs": []
    },
    {
      "cell_type": "code",
      "metadata": {
        "id": "Gmb7GZpYGEIY"
      },
      "source": [
        "# Load test dataset into dataloader\n",
        "batch_size = 32\n",
        "bert_dataloader = DataLoader(test, batch_size = batch_size)\n",
        "\n",
        "# Evaluate\n",
        "outputs, labs = evaluate(bert_dataloader, bert_model)\n",
        "\n",
        "# Accuracy\n",
        "print(f\"Accuracy: {flat_accuracy(outputs.detach().cpu().numpy(), labs)}\")"
      ],
      "id": "Gmb7GZpYGEIY",
      "execution_count": null,
      "outputs": []
    },
    {
      "cell_type": "markdown",
      "metadata": {
        "id": "competent-klein"
      },
      "source": [
        "## Evaluate"
      ],
      "id": "competent-klein"
    },
    {
      "cell_type": "code",
      "metadata": {
        "id": "sharing-david"
      },
      "source": [
        "# Load encoded tensors\n",
        "# df_pos_encode = torch.load(\"/content/drive/MyDrive/fake-news-explainability/Data/Encoded/fake_news/evaluation/fake_news_pos.pt\")\n",
        "# df_neg_encode = torch.load(\"/content/drive/MyDrive/fake-news-explainability/Data/Encoded/fake_news/evaluation/fake_news_neg.pt\")\n",
        "\n",
        "df_pos_encode = torch.load(\"/content/drive/MyDrive/fake-news-explainability/Data/Encoded/fake_news/evaluation/fake_news_name_orig_filtered.pt\")\n",
        "df_neg_encode = torch.load(\"/content/drive/MyDrive/fake-news-explainability/Data/Encoded/fake_news/evaluation/fake_news_name_new_filtered.pt\")\n",
        "\n",
        "# df_pos_encode = torch.load(\"/content/drive/MyDrive/fake-news-explainability/Data/Encoded/fake_news/evaluation/fake_news_polarity_orig_filtered.pt\")\n",
        "# df_neg_encode = torch.load(\"/content/drive/MyDrive/fake-news-explainability/Data/Encoded/fake_news/evaluation/fake_news_polarity_new_filtered.pt\")"
      ],
      "id": "sharing-david",
      "execution_count": null,
      "outputs": []
    },
    {
      "cell_type": "code",
      "metadata": {
        "id": "NiNeJi32Ro0T"
      },
      "source": [
        "# Load test dataset into dataloader\n",
        "bert_dataloader_pos = DataLoader(df_pos_encode, batch_size = 32)\n",
        "bert_dataloader_neg = DataLoader(df_neg_encode, batch_size = 32)\n",
        "\n",
        "outputs_pos, labs = evaluate(bert_dataloader_pos, bert_model)\n",
        "outputs_neg, labs = evaluate(bert_dataloader_neg, bert_model)"
      ],
      "id": "NiNeJi32Ro0T",
      "execution_count": null,
      "outputs": []
    },
    {
      "cell_type": "markdown",
      "metadata": {
        "id": "NXpqqsUc_mFG"
      },
      "source": [
        "## Metrics"
      ],
      "id": "NXpqqsUc_mFG"
    },
    {
      "cell_type": "code",
      "metadata": {
        "colab": {
          "base_uri": "https://localhost:8080/"
        },
        "id": "ZE5t5CHxqIA7",
        "outputId": "208b34c7-4de5-47df-82c6-af032426cb88"
      },
      "source": [
        "# Percent Labels Flipped\n",
        "cf_matrix = confusion_matrix(np.argmax(outputs_pos.cpu(), axis=1), \n",
        "                             np.argmax(outputs_neg.cpu(), axis=1))\n",
        "try:\n",
        "  print(f\"{cf_matrix[0,1]+cf_matrix[1,0]}/{np.sum(cf_matrix)} ({round(100*(cf_matrix[0,1]+cf_matrix[1,0])/np.sum(cf_matrix),4)}%)\")\n",
        "except:\n",
        "  print(f\"0/{np.sum(cf_matrix)} (0.0%)\")\n",
        "\n",
        "# Average Probability Change\n",
        "m = nn.Softmax(dim=1)\n",
        "delta_lst = m(outputs_neg)[:,1]-m(outputs_pos)[:,1]\n",
        "print(f\"{round(float(torch.mean(delta_lst)),4)}\")"
      ],
      "id": "ZE5t5CHxqIA7",
      "execution_count": null,
      "outputs": [
        {
          "output_type": "stream",
          "name": "stdout",
          "text": [
            "1/108 (0.9259%)\n",
            "-0.0077\n"
          ]
        }
      ]
    },
    {
      "cell_type": "markdown",
      "metadata": {
        "id": "8SZpLmNkEPT_"
      },
      "source": [
        "## Explainability Methods"
      ],
      "id": "8SZpLmNkEPT_"
    },
    {
      "cell_type": "code",
      "metadata": {
        "id": "DRoUklEIYogV"
      },
      "source": [
        "def _register_embedding_list_hook(model, embeddings_list):\n",
        "    def forward_hook(module, inputs, output):\n",
        "        embeddings_list.append(output.squeeze(0).clone().cpu().detach().numpy())\n",
        "    embedding_layer = model.bert.embeddings.word_embeddings\n",
        "    handle = embedding_layer.register_forward_hook(forward_hook)\n",
        "    return handle\n",
        "\n",
        "def _register_embedding_gradient_hooks(model, embeddings_gradients):\n",
        "    def hook_layers(module, grad_in, grad_out):\n",
        "        embeddings_gradients.append(grad_out[0])\n",
        "    embedding_layer = model.bert.embeddings.word_embeddings\n",
        "    hook = embedding_layer.register_backward_hook(hook_layers)\n",
        "    return hook\n",
        "\n",
        "def saliency_map(model, input_ids, input_mask):\n",
        "    torch.enable_grad()\n",
        "    model.eval()\n",
        "    embeddings_list = []\n",
        "    handle = _register_embedding_list_hook(model, embeddings_list)\n",
        "    embeddings_gradients = []\n",
        "    hook = _register_embedding_gradient_hooks(model, embeddings_gradients)\n",
        "\n",
        "    model.zero_grad()\n",
        "    A = model(input_ids, input_mask)\n",
        "    # pred_label_ids = np.argmax(A.logits[0].detach().cpu().numpy())\n",
        "    A.logits[0][1].backward()\n",
        "    handle.remove()\n",
        "    hook.remove()\n",
        "\n",
        "    saliency_grad = embeddings_gradients[0].detach().cpu().numpy()        \n",
        "    saliency_grad = np.sum(saliency_grad[0] * embeddings_list[0], axis=1)\n",
        "    norm = np.linalg.norm(saliency_grad, ord=1)\n",
        "    saliency_grad = [e / norm for e in saliency_grad] \n",
        "    \n",
        "    return saliency_grad"
      ],
      "id": "DRoUklEIYogV",
      "execution_count": null,
      "outputs": []
    },
    {
      "cell_type": "code",
      "metadata": {
        "id": "w8V7thfcU31-"
      },
      "source": [
        "import matplotlib.pyplot as plt\n",
        "import string\n",
        "import textwrap\n",
        "plt.rcParams.update({'font.size': 48})\n",
        "        \n",
        "def as_pyplot_figure(scores_lst, title=''):\n",
        "    \"\"\"Returns the explanation as a pyplot figure.\n",
        "    Will throw an error if you don't have matplotlib installed\n",
        "    Args:\n",
        "        label: desired label. If you ask for a label for which an\n",
        "                explanation wasn't computed, will throw an exception.\n",
        "                Will be ignored for regression explanations.\n",
        "        kwargs: keyword arguments, passed to domain_mapper\n",
        "    Returns:\n",
        "        pyplot figure (barchart).\n",
        "    \"\"\"\n",
        "    vals = [i[0] for i in scores_lst][::-1]\n",
        "    names = [i[1] for i in scores_lst][::-1]\n",
        "    fig = plt.figure()\n",
        "    colors = ['orange' if x > 0 else 'blue' for x in vals]\n",
        "    pos = np.arange(len(vals)) + .5\n",
        "    plt.barh(pos, vals, align='center', color=colors)\n",
        "    plt.yticks(pos, names)\n",
        "    main_title = title if title else 'Local Explanation'\n",
        "    plt.title(main_title)\n",
        "    plt.xlabel('GxI Score')"
      ],
      "id": "w8V7thfcU31-",
      "execution_count": null,
      "outputs": []
    },
    {
      "cell_type": "code",
      "metadata": {
        "id": "KBZVm0WBYdyD"
      },
      "source": [
        "# Encode sentences\n",
        "bert_tokenizer = BertTokenizer.from_pretrained(\"bert-base-uncased\")\n",
        "\n",
        "def encode_sent(sent):\n",
        "  return bert_tokenizer.encode_plus(sent,                      # Sentence to encode.\n",
        "                          add_special_tokens = True, # Add '[CLS]' and '[SEP]'\n",
        "                          max_length = 120,           # Pad & truncate all sentences.\n",
        "                          pad_to_max_length = True,\n",
        "                          return_attention_mask = True,   # Construct attn. masks.\n",
        "                          return_tensors = 'pt',     # Return pytorch tensors.\n",
        "                          truncation = True)\n",
        "  \n",
        "def explain(sent, model=bert_model, tokenizer=bert_tokenizer, plot=False, limit=100):\n",
        "  sent_d = encode_sent(sent)\n",
        "  scores = saliency_map(model, sent_d['input_ids'].to(device), sent_d['attention_mask'].to(device))\n",
        "  tokens = [tokenizer.decode([i]) for i in sent_d['input_ids'][0]]\n",
        "  ig_scores = [(v,w) for (v,w) in zip(scores,tokens) if (abs(v)>0)&\\\n",
        "                                                        (w not in ['[SEP]','[PAD]','[CLS]'])&\\\n",
        "                                                        (w not in string.punctuation)]\n",
        "  # ig_scores = sorted(ig_scores, key=lambda item: -abs(item[0]))\n",
        "  \n",
        "  if plot:\n",
        "    as_pyplot_figure(ig_scores[:limit], title='\\n'.join(textwrap.wrap(sent.capitalize(), 50)))\n",
        "  else:\n",
        "    return ig_scores\n"
      ],
      "id": "KBZVm0WBYdyD",
      "execution_count": null,
      "outputs": []
    },
    {
      "cell_type": "code",
      "metadata": {
        "id": "wyZl424dbg1d"
      },
      "source": [
        "# Read in sentences from Fake-News dataset\n",
        "myfile = open(\"fake_news.txt\", \"r\")\n",
        "myline = myfile.readline()\n",
        "corpus = []\n",
        "while myline:\n",
        "    corpus.append(myline)\n",
        "    myline = myfile.readline()\n",
        "myfile.close()   "
      ],
      "id": "wyZl424dbg1d",
      "execution_count": null,
      "outputs": []
    },
    {
      "cell_type": "code",
      "metadata": {
        "id": "yrPNe1EVcCpe"
      },
      "source": [
        "# Generate explanations for all sentences\n",
        "explain_lst = [explain(c) for c in corpus]\n",
        "explain_lst = [{word:val for (val,word) in item} for item in explain_lst]\n",
        "\n",
        "# Generate scores for all words\n",
        "vocab_scores = {}\n",
        "for d in explain_lst:\n",
        "  for key in d:\n",
        "    if key in vocab_scores:\n",
        "      vocab_scores[key].append(d[key])\n",
        "    else:\n",
        "      vocab_scores[key] = [d[key]]"
      ],
      "id": "yrPNe1EVcCpe",
      "execution_count": null,
      "outputs": []
    },
    {
      "cell_type": "code",
      "metadata": {
        "colab": {
          "base_uri": "https://localhost:8080/"
        },
        "id": "qWDeXTabxsWk",
        "outputId": "ad83808f-65a0-4fad-b501-bbfb3aa5ef23"
      },
      "source": [
        "np.mean(vocab_scores['hillary'])"
      ],
      "id": "qWDeXTabxsWk",
      "execution_count": null,
      "outputs": [
        {
          "output_type": "execute_result",
          "data": {
            "text/plain": [
              "-0.0463415"
            ]
          },
          "metadata": {},
          "execution_count": 307
        }
      ]
    },
    {
      "cell_type": "code",
      "metadata": {
        "colab": {
          "base_uri": "https://localhost:8080/"
        },
        "id": "NvLVDlBOyCwq",
        "outputId": "3fe44c66-80a7-4eec-e4a0-62de8949074a"
      },
      "source": [
        "np.mean(vocab_scores['trump'])"
      ],
      "id": "NvLVDlBOyCwq",
      "execution_count": null,
      "outputs": [
        {
          "output_type": "execute_result",
          "data": {
            "text/plain": [
              "0.008754054"
            ]
          },
          "metadata": {},
          "execution_count": 308
        }
      ]
    },
    {
      "cell_type": "code",
      "metadata": {
        "colab": {
          "base_uri": "https://localhost:8080/"
        },
        "id": "r4BgLe3IyEY6",
        "outputId": "26c844c6-9596-480f-e7da-22271264bff2"
      },
      "source": [
        "np.mean(vocab_scores['obama'])"
      ],
      "id": "r4BgLe3IyEY6",
      "execution_count": null,
      "outputs": [
        {
          "output_type": "execute_result",
          "data": {
            "text/plain": [
              "-0.013028966"
            ]
          },
          "metadata": {},
          "execution_count": 309
        }
      ]
    },
    {
      "cell_type": "code",
      "metadata": {
        "colab": {
          "base_uri": "https://localhost:8080/"
        },
        "id": "McBUiDgEeoPU",
        "outputId": "346e798f-34a5-4307-9183-a6d66a7435fa"
      },
      "source": [
        "sorted(vocab_mean, key=lambda i: -abs(i[1]))[:30]"
      ],
      "id": "McBUiDgEeoPU",
      "execution_count": null,
      "outputs": [
        {
          "output_type": "execute_result",
          "data": {
            "text/plain": [
              "[('”', 0.45140153, 1),\n",
              " ('attorneys', 0.43750408, 1),\n",
              " ('bloomberg', 0.36911598, 1),\n",
              " ('sanford', 0.29711664, 1),\n",
              " ('##mc', 0.2649178, 1),\n",
              " ('berkeley', 0.26305962, 2),\n",
              " ('hollywood', -0.25957772, 1),\n",
              " ('##ago', 0.2579535, 1),\n",
              " ('rub', 0.24989688, 1),\n",
              " ('##ulia', 0.24410377, 1),\n",
              " ('lew', 0.2327223, 1),\n",
              " ('complicated', 0.22688188, 1),\n",
              " ('munich', 0.22126403, 1),\n",
              " ('kai', -0.22038929, 1),\n",
              " ('hai', -0.19809927, 1),\n",
              " ('siren', 0.19610888, 1),\n",
              " ('qatar', -0.19401038, 1),\n",
              " ('jody', 0.19393232, 1),\n",
              " ('error', -0.19305873, 1),\n",
              " ('terror', 0.19272181, 1),\n",
              " ('##ree', -0.18873553, 2),\n",
              " ('drag', -0.1875716, 1),\n",
              " ('milo', 0.1857708, 1),\n",
              " ('bunker', -0.18072022, 1),\n",
              " ('cancel', 0.18014425, 1),\n",
              " ('intel', -0.17358446, 1),\n",
              " ('candidate', 0.1734103, 1),\n",
              " ('marco', 0.1716335, 1),\n",
              " ('gore', 0.16768375, 2),\n",
              " ('wellesley', 0.16628824, 1)]"
            ]
          },
          "metadata": {},
          "execution_count": 304
        }
      ]
    },
    {
      "cell_type": "code",
      "metadata": {
        "id": "aFm_2LC8oBsH"
      },
      "source": [
        "# Find the average Gradient x Input score per word and the number of occurrences\n",
        "vocab_mean = [(key,np.mean(vocab_scores[key]),len(vocab_scores[key])) for key in vocab_scores.keys()]"
      ],
      "id": "aFm_2LC8oBsH",
      "execution_count": null,
      "outputs": []
    },
    {
      "cell_type": "code",
      "metadata": {
        "id": "4TfoJYFMmT64"
      },
      "source": [
        "import seaborn as sns\n",
        "sns.set(rc = {'figure.figsize':(5,2.5)})\n",
        "\n",
        "sns.scatterplot(x = [i[2] for i in vocab_mean],\n",
        "                y = [i[1] for i in vocab_mean])\n",
        "plt.xlabel('Frequency (# Documents)')\n",
        "plt.ylabel('Mean Gradient \\n x Input Score')"
      ],
      "id": "4TfoJYFMmT64",
      "execution_count": null,
      "outputs": []
    },
    {
      "cell_type": "markdown",
      "metadata": {
        "id": "RcE0SeN46oW4"
      },
      "source": [
        "### GxI Explanations"
      ],
      "id": "RcE0SeN46oW4"
    },
    {
      "cell_type": "code",
      "metadata": {
        "id": "MCfZ42lT7m9T"
      },
      "source": [
        "sns.set(rc = {'figure.figsize':(7.5,6)})"
      ],
      "id": "MCfZ42lT7m9T",
      "execution_count": null,
      "outputs": []
    },
    {
      "cell_type": "code",
      "metadata": {
        "colab": {
          "base_uri": "https://localhost:8080/",
          "height": 515
        },
        "id": "4ySXIxEHf6Ip",
        "outputId": "d776a9b4-f64c-456e-ca01-d4d5364bc2c3"
      },
      "source": [
        "ig_scores1 = explain(\"Bill Clinton wants to be called something completely ridiculous if Hillary is elected\")\n",
        "sent = r\"Bill Clinton wants to be called something $\\bf{completely}$ ridiculous if Hillary is elected\"\n",
        "as_pyplot_figure(ig_scores1, title='\\n'.join(textwrap.wrap(sent.capitalize(), 50)))"
      ],
      "id": "4ySXIxEHf6Ip",
      "execution_count": null,
      "outputs": [
        {
          "output_type": "stream",
          "name": "stderr",
          "text": [
            "/usr/local/lib/python3.7/dist-packages/transformers/tokenization_utils_base.py:2218: FutureWarning: The `pad_to_max_length` argument is deprecated and will be removed in a future version, use `padding=True` or `padding='longest'` to pad to the longest sequence in the batch, or use `padding='max_length'` to pad to a max length. In this case, you can give a specific length with `max_length` (e.g. `max_length=45`) or leave max_length to None to pad to the maximal input size of the model (e.g. 512 for Bert).\n",
            "  FutureWarning,\n",
            "/usr/local/lib/python3.7/dist-packages/torch/nn/modules/module.py:1025: UserWarning: Using a non-full backward hook when the forward contains multiple autograd Nodes is deprecated and will be removed in future versions. This hook will be missing some grad_input. Please use register_full_backward_hook to get the documented behavior.\n",
            "  warnings.warn(\"Using a non-full backward hook when the forward contains multiple autograd Nodes \"\n"
          ]
        },
        {
          "output_type": "display_data",
          "data": {
            "image/png": "[encoded data removed]",
            "text/plain": [
              "<Figure size 540x432 with 1 Axes>"
            ]
          },
          "metadata": {}
        }
      ]
    },
    {
      "cell_type": "code",
      "metadata": {
        "colab": {
          "base_uri": "https://localhost:8080/",
          "height": 519
        },
        "id": "6DPT56r_byol",
        "outputId": "1486d3f0-de62-4643-a7e1-3001b8d4e331"
      },
      "source": [
        "ig_scores2 = explain(\"The western banking system is totally broken, totally insolvent, and totally corrupt\")\n",
        "sent = r\"The western banking system is $\\bf{totally}$ broken, $\\bf{totally}$ insolvent, and $\\bf{totally}$ corrupt\"\n",
        "as_pyplot_figure(ig_scores2, title='\\n'.join(textwrap.wrap(sent.capitalize(), 75)))\n"
      ],
      "id": "6DPT56r_byol",
      "execution_count": null,
      "outputs": [
        {
          "output_type": "stream",
          "name": "stderr",
          "text": [
            "/usr/local/lib/python3.7/dist-packages/transformers/tokenization_utils_base.py:2218: FutureWarning: The `pad_to_max_length` argument is deprecated and will be removed in a future version, use `padding=True` or `padding='longest'` to pad to the longest sequence in the batch, or use `padding='max_length'` to pad to a max length. In this case, you can give a specific length with `max_length` (e.g. `max_length=45`) or leave max_length to None to pad to the maximal input size of the model (e.g. 512 for Bert).\n",
            "  FutureWarning,\n",
            "/usr/local/lib/python3.7/dist-packages/torch/nn/modules/module.py:1025: UserWarning: Using a non-full backward hook when the forward contains multiple autograd Nodes is deprecated and will be removed in future versions. This hook will be missing some grad_input. Please use register_full_backward_hook to get the documented behavior.\n",
            "  warnings.warn(\"Using a non-full backward hook when the forward contains multiple autograd Nodes \"\n"
          ]
        },
        {
          "output_type": "display_data",
          "data": {
            "image/png": "[encoded data removed]",
            "text/plain": [
              "<Figure size 540x432 with 1 Axes>"
            ]
          },
          "metadata": {}
        }
      ]
    },
    {
      "cell_type": "code",
      "metadata": {
        "id": "GLAWqU5i8fRC"
      },
      "source": [
        ""
      ],
      "id": "GLAWqU5i8fRC",
      "execution_count": null,
      "outputs": []
    }
  ]
}