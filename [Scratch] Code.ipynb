{
 "cells": [
  {
   "cell_type": "code",
   "execution_count": null,
   "id": "demanding-short",
   "metadata": {},
   "outputs": [],
   "source": [
    "# Generate BERT embeddings\n",
    "bert_embedding = BertEmbedding()\n",
    "df['emb'] = df['statement'].apply(lambda x: bert_embedding(x.lower().split('\\n')))\n",
    "\n",
    "# Returns one BERT embedding (i.e. list of 768 numbers) per word\n",
    "# Per sentence, average over all the words\n",
    "df['emb_avg'] = df['emb'].apply(lambda x: np.array(x[0][1], dtype=float).mean(axis=0))\n"
   ]
  }
 ],
 "metadata": {
  "environment": {
   "name": "pytorch-gpu.1-7.m65",
   "type": "gcloud",
   "uri": "gcr.io/deeplearning-platform-release/pytorch-gpu.1-7:m65"
  },
  "kernelspec": {
   "display_name": "Python 3",
   "language": "python",
   "name": "python3"
  },
  "language_info": {
   "codemirror_mode": {
    "name": "ipython",
    "version": 3
   },
   "file_extension": ".py",
   "mimetype": "text/x-python",
   "name": "python",
   "nbconvert_exporter": "python",
   "pygments_lexer": "ipython3",
   "version": "3.7.10"
  }
 },
 "nbformat": 4,
 "nbformat_minor": 5
}
