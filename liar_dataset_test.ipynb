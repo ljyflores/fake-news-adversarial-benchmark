{
 "cells": [
  {
   "cell_type": "code",
   "execution_count": 1,
   "metadata": {
    "id": "HE1RNSIL7bds"
   },
   "outputs": [],
   "source": [
    "import pandas as pd\n",
    "import csv\n",
    "import torch\n",
    "from bert_embedding import BertEmbedding"
   ]
  },
  {
   "cell_type": "markdown",
   "metadata": {
    "id": "Iyc9QZaFZh2j"
   },
   "source": [
    "### **Questions**\n",
    "1. Does negating all the input (correctly) change the classifications?\n",
    "2. If we perturb the input, how different are the SHAP outputs?"
   ]
  },
  {
   "cell_type": "code",
   "execution_count": 2,
   "metadata": {
    "id": "GrEejRG08LCP"
   },
   "outputs": [],
   "source": [
    "df = pd.read_csv(\"train.csv\")"
   ]
  },
  {
   "cell_type": "code",
   "execution_count": null,
   "metadata": {
    "id": "Q2cBHsPSKRBS"
   },
   "outputs": [],
   "source": [
    "# Generate embeddings\n",
    "df['emb'] = df['statement'].apply(lambda x: bert_embedding(x.lower().split('\\n')))\n",
    "\n",
    "# Get the sentence embeddings\n",
    "df['emb'] = [df['emb'][i][0][1] for i in range(df.shape[0])]\n",
    "\n",
    "# Average the embeddings\n",
    "df['concat_emb'] = [torch.mean(torch.Tensor(df['emb'][i]), 0) for i in range(df.shape[0])]"
   ]
  },
  {
   "cell_type": "code",
   "execution_count": null,
   "metadata": {
    "id": "qVbZZV3GKIWG"
   },
   "outputs": [],
   "source": [
    "# Generate X and y\n",
    "X = torch.vstack(tuple(df['concat_emb']))\n",
    "# y = torch.Tensor(pd.get_dummies(df['label']).to_numpy())\n",
    "y = df['label']"
   ]
  },
  {
   "cell_type": "code",
   "execution_count": null,
   "metadata": {
    "colab": {
     "base_uri": "https://localhost:8080/"
    },
    "id": "ZJ1q9fD5eekC",
    "outputId": "be8ca6b8-dd5c-46b1-b33e-1bc802f089ad"
   },
   "outputs": [
    {
     "data": {
      "text/plain": [
       "0.20133495145631067"
      ]
     },
     "execution_count": 99,
     "metadata": {
      "tags": []
     },
     "output_type": "execute_result"
    }
   ],
   "source": [
    "from sklearn.ensemble import GradientBoostingClassifier\n",
    "\n",
    "X_train, X_test = X[:2000], X[2000:]\n",
    "y_train, y_test = y[:2000], y[2000:]\n",
    "\n",
    "clf = GradientBoostingClassifier(n_estimators=100, \n",
    "                                 learning_rate=1.0,\n",
    "                                 max_depth=1, \n",
    "                                 random_state=0).fit(X_train, \n",
    "                                                     y_train)\n",
    "clf.score(X_test, y_test)"
   ]
  },
  {
   "cell_type": "code",
   "execution_count": null,
   "metadata": {
    "colab": {
     "base_uri": "https://localhost:8080/"
    },
    "id": "pjxcvQQnfX_O",
    "outputId": "baf886ea-2a80-4939-e2b1-066c604d26fc"
   },
   "outputs": [
    {
     "data": {
      "text/plain": [
       "{'barely-true', 'false', 'half-true', 'mostly-true', 'pants-fire', 'true'}"
      ]
     },
     "execution_count": 100,
     "metadata": {
      "tags": []
     },
     "output_type": "execute_result"
    }
   ],
   "source": [
    "set(y_test)"
   ]
  },
  {
   "cell_type": "code",
   "execution_count": null,
   "metadata": {
    "id": "_zdGxG-Zgw5I"
   },
   "outputs": [],
   "source": []
  }
 ],
 "metadata": {
  "colab": {
   "collapsed_sections": [],
   "name": "liar_dataset_test",
   "provenance": []
  },
  "environment": {
   "name": "pytorch-gpu.1-7.m65",
   "type": "gcloud",
   "uri": "gcr.io/deeplearning-platform-release/pytorch-gpu.1-7:m65"
  },
  "kernelspec": {
   "display_name": "Python 3",
   "language": "python",
   "name": "python3"
  },
  "language_info": {
   "codemirror_mode": {
    "name": "ipython",
    "version": 3
   },
   "file_extension": ".py",
   "mimetype": "text/x-python",
   "name": "python",
   "nbconvert_exporter": "python",
   "pygments_lexer": "ipython3",
   "version": "3.7.10"
  }
 },
 "nbformat": 4,
 "nbformat_minor": 4
}
